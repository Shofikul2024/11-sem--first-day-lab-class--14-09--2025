{
 "cells": [
  {
   "cell_type": "code",
   "execution_count": null,
   "id": "6308818b",
   "metadata": {},
   "outputs": [
    {
     "name": "stdout",
     "output_type": "stream",
     "text": [
      "10\n",
      "20\n",
      "30\n"
     ]
    },
    {
     "data": {
      "text/plain": [
       "'  \\n\\nএখানে MyClass1 নামে একটি ক্লাস তৈরি করা হয়েছে।\\n\\na = 10 এবং b = 20 হলো class variables।\\n\\naddTwo() হলো একটি মেথড, যা a এবং b এর যোগফল প্রিন্ট করে।\\n\\nএখানে obj1 নামে MyClass1 এর একটি অবজেক্ট তৈরি হয়েছে।\\n\\nঅবজেক্ট obj1 এর মাধ্যমে ক্লাস ভ্যারিয়েবল a এবং b অ্যাক্সেস করা হয়েছে।\\n\\nএখন addTwo() মেথড কল করা হয়েছে।\\n\\nহিসাব হবে 10 + 20 = 30।\\n\\n  '"
      ]
     },
     "execution_count": 3,
     "metadata": {},
     "output_type": "execute_result"
    }
   ],
   "source": [
    "# 1. Class Definition\n",
    "\n",
    "class MyClass1:\n",
    "    a=10\n",
    "    b=20\n",
    "    def addTwo(self):\n",
    "        sum=self.a+self.b\n",
    "        print(sum)\n",
    "obj1=MyClass1()\n",
    "print(obj1.a)\n",
    "print(obj1.b)\n",
    "obj1.addTwo()\n",
    "\n",
    "\n",
    "\n",
    "   \n",
    "\n",
    "# এখানে MyClass1 নামে একটি ক্লাস তৈরি করা হয়েছে।\n",
    "\n",
    "# a = 10 এবং b = 20 হলো class variables।\n",
    "\n",
    "# addTwo() হলো একটি মেথড, যা a এবং b এর যোগফল প্রিন্ট করে।\n",
    "\n",
    "# এখানে obj1 নামে MyClass1 এর একটি অবজেক্ট তৈরি হয়েছে।\n",
    "\n",
    "# অবজেক্ট obj1 এর মাধ্যমে ক্লাস ভ্যারিয়েবল a এবং b অ্যাক্সেস করা হয়েছে।\n",
    "\n",
    "# এখন addTwo() মেথড কল করা হয়েছে।\n",
    "\n",
    "# হিসাব হবে 10 + 20 = 30।\n",
    "\n",
    " \n",
    "\n",
    "\n",
    "\n",
    "\n"
   ]
  },
  {
   "cell_type": "code",
   "execution_count": null,
   "id": "3ff3e11f",
   "metadata": {},
   "outputs": [],
   "source": [
    "\n",
    "# 1. Class Definition\n",
    "class MyClass1:\n",
    "    a=10\n",
    "    b=20\n",
    "    def addTwo(self):\n",
    "        sum=self.a+self.b\n",
    "        print(sum)\n",
    "obj1=MyClass1()\n",
    "print(obj1.a)\n",
    "print(obj1.b)\n",
    "obj1.addTwo()\n"
   ]
  },
  {
   "cell_type": "code",
   "execution_count": 4,
   "id": "9d85e3f8",
   "metadata": {},
   "outputs": [
    {
     "name": "stdout",
     "output_type": "stream",
     "text": [
      "10\n",
      "20\n",
      "30\n"
     ]
    }
   ],
   "source": [
    "class MyClass1:\n",
    "    a=10\n",
    "    b=20\n",
    "    def addTwo(self):\n",
    "        sum=self.a+self.b\n",
    "        print(sum)\n",
    "obj1=MyClass1()\n",
    "print(obj1.a)\n",
    "print(obj1.b)\n",
    "obj1.addTwo()\n"
   ]
  },
  {
   "cell_type": "code",
   "execution_count": 6,
   "id": "7c42adf4",
   "metadata": {},
   "outputs": [
    {
     "name": "stdout",
     "output_type": "stream",
     "text": [
      "I am Constructor\n",
      "30\n"
     ]
    }
   ],
   "source": [
    "class MyClass1:\n",
    "    a=10\n",
    "    b=20\n",
    "\n",
    "    def addTwo(self):\n",
    "        sum=self.a+self.b\n",
    "        print(sum)\n",
    "        return \"...\"\n",
    "\n",
    "    def __init__(self):\n",
    "        sum=self.a+self.b\n",
    "        print(\"I am Constructor\")\n",
    "        print(sum)\n",
    "\n",
    "\n",
    "\n",
    "obj1=MyClass1()\n",
    "\n",
    "\n",
    "\n",
    "# এখানে MyClass1 নামে একটি ক্লাস তৈরি করা হয়েছে।\n",
    "\n",
    "# a = 10 এবং b = 20 হলো class variables, যেগুলো সব অবজেক্টে একরকম থাকবে।\n",
    "\n",
    "# addTwo() হলো একটি সাধারণ মেথড।\n",
    "\n",
    "# এটি a + b = 10 + 20 = 30 হিসাব করে প্রিন্ট করবে।\n",
    "\n",
    "# শেষে \"...\" স্ট্রিং রিটার্ন করবে।\n",
    "\n",
    "# তবে এই কোডে addTwo() কল করা হয়নি।\n",
    "# __init__() হলো constructor method।\n",
    "\n",
    "# যখনই অবজেক্ট তৈরি হবে, constructor স্বয়ংক্রিয়ভাবে চালু হবে।\n",
    "\n",
    "# প্রথমে \"I am Constructor\" প্রিন্ট করবে।\n",
    "\n",
    "# তারপর 10 + 20 = 30 প্রিন্ট করবে।\n",
    "\n",
    "\n",
    "# এখানে obj1 নামে একটি অবজেক্ট তৈরি হয়েছে।\n",
    "\n",
    "# অবজেক্ট তৈরি হওয়ার সময় constructor চালু হয়েছে এবং আউটপুট দিয়েছে:\n"
   ]
  },
  {
   "cell_type": "code",
   "execution_count": null,
   "id": "47b9bfb6",
   "metadata": {},
   "outputs": [],
   "source": [
    "class MyClass1:\n",
    "    a=10\n",
    "    b=20\n",
    "\n",
    "    def addTwo(self):\n",
    "        sum=self.a+self.b\n",
    "        print(sum)\n",
    "        return \"...\"\n",
    "\n",
    "    def __init__(self):\n",
    "        sum=self.a+self.b\n",
    "        print(\"I am Constructor\")\n",
    "        print(sum)\n",
    "\n",
    "\n",
    "\n",
    "obj1=MyClass1()"
   ]
  },
  {
   "cell_type": "code",
   "execution_count": 12,
   "id": "5cb4106d",
   "metadata": {},
   "outputs": [
    {
     "name": "stdout",
     "output_type": "stream",
     "text": [
      "I am Constructor\n",
      "30\n"
     ]
    }
   ],
   "source": [
    "class MyClass1:\n",
    "    a=10\n",
    "    b=20\n",
    "\n",
    "    def addTwo(self):\n",
    "        sum=self.a+self.b\n",
    "        print(sum)\n",
    "        return \"...\"\n",
    "\n",
    "    def __init__(self):\n",
    "        sum=self.a+self.b\n",
    "        print(\"I am Constructor\")\n",
    "        print(sum)\n",
    "obj1=MyClass1()"
   ]
  },
  {
   "cell_type": "code",
   "execution_count": null,
   "id": "c1c4054b",
   "metadata": {},
   "outputs": [],
   "source": []
  },
  {
   "cell_type": "code",
   "execution_count": null,
   "id": "f633648c",
   "metadata": {},
   "outputs": [],
   "source": []
  },
  {
   "cell_type": "code",
   "execution_count": null,
   "id": "693e5ebc",
   "metadata": {},
   "outputs": [],
   "source": []
  },
  {
   "cell_type": "code",
   "execution_count": null,
   "id": "285099f1",
   "metadata": {},
   "outputs": [],
   "source": []
  },
  {
   "cell_type": "code",
   "execution_count": null,
   "id": "e294e636",
   "metadata": {},
   "outputs": [],
   "source": []
  },
  {
   "cell_type": "code",
   "execution_count": null,
   "id": "a0cfa313",
   "metadata": {},
   "outputs": [],
   "source": []
  },
  {
   "cell_type": "code",
   "execution_count": null,
   "id": "252b31cf",
   "metadata": {},
   "outputs": [],
   "source": []
  },
  {
   "cell_type": "code",
   "execution_count": null,
   "id": "f42b0d38",
   "metadata": {},
   "outputs": [],
   "source": []
  },
  {
   "cell_type": "code",
   "execution_count": null,
   "id": "d6d05ed9",
   "metadata": {},
   "outputs": [],
   "source": []
  },
  {
   "cell_type": "code",
   "execution_count": null,
   "id": "2f09065c",
   "metadata": {},
   "outputs": [],
   "source": []
  },
  {
   "cell_type": "code",
   "execution_count": null,
   "id": "b5a7d2ac",
   "metadata": {},
   "outputs": [],
   "source": []
  },
  {
   "cell_type": "code",
   "execution_count": null,
   "id": "2793f046",
   "metadata": {},
   "outputs": [],
   "source": []
  },
  {
   "cell_type": "code",
   "execution_count": null,
   "id": "d860fb4f",
   "metadata": {},
   "outputs": [],
   "source": []
  },
  {
   "cell_type": "code",
   "execution_count": null,
   "id": "bafa28c7",
   "metadata": {},
   "outputs": [],
   "source": []
  }
 ],
 "metadata": {
  "kernelspec": {
   "display_name": "Python 3",
   "language": "python",
   "name": "python3"
  },
  "language_info": {
   "codemirror_mode": {
    "name": "ipython",
    "version": 3
   },
   "file_extension": ".py",
   "mimetype": "text/x-python",
   "name": "python",
   "nbconvert_exporter": "python",
   "pygments_lexer": "ipython3",
   "version": "3.13.7"
  }
 },
 "nbformat": 4,
 "nbformat_minor": 5
}
