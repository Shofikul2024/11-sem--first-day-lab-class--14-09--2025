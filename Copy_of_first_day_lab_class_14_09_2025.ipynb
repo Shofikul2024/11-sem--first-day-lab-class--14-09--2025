{
  "nbformat": 4,
  "nbformat_minor": 0,
  "metadata": {
    "colab": {
      "provenance": []
    },
    "kernelspec": {
      "name": "python3",
      "display_name": "Python 3"
    },
    "language_info": {
      "name": "python"
    }
  },
  "cells": [
    {
      "cell_type": "code",
      "execution_count": null,
      "metadata": {
        "colab": {
          "base_uri": "https://localhost:8080/"
        },
        "id": "u4gscqPnvXRY",
        "outputId": "9858ab57-b5fd-49f1-de6d-9de50b6fb087"
      },
      "outputs": [
        {
          "output_type": "stream",
          "name": "stdout",
          "text": [
            "hellow world\n"
          ]
        }
      ],
      "source": [
        "print(\"hellow world\")"
      ]
    },
    {
      "cell_type": "code",
      "source": [],
      "metadata": {
        "id": "KEGATriYvfWI"
      },
      "execution_count": null,
      "outputs": []
    },
    {
      "cell_type": "code",
      "source": [],
      "metadata": {
        "id": "-Efy_29fvfoR"
      },
      "execution_count": null,
      "outputs": []
    },
    {
      "cell_type": "code",
      "source": [
        "x=10\n",
        "print(x)\n",
        "name='Rahim'\n",
        "print(name)"
      ],
      "metadata": {
        "colab": {
          "base_uri": "https://localhost:8080/"
        },
        "id": "mmOUml5fvf5J",
        "outputId": "b1e7836d-f926-4033-847f-7dc839cf95f1"
      },
      "execution_count": null,
      "outputs": [
        {
          "output_type": "stream",
          "name": "stdout",
          "text": [
            "10\n",
            "Rahim\n"
          ]
        }
      ]
    },
    {
      "cell_type": "code",
      "source": [],
      "metadata": {
        "id": "1Q3vsxIavgCA"
      },
      "execution_count": null,
      "outputs": []
    },
    {
      "cell_type": "code",
      "source": [
        "a=100\n",
        "c=3.1416\n",
        "print(type(a))\n",
        "print(type(c))"
      ],
      "metadata": {
        "colab": {
          "base_uri": "https://localhost:8080/"
        },
        "id": "oHz2TZIgvgNn",
        "outputId": "ed61038e-ae62-4492-f62a-894b6fa61947"
      },
      "execution_count": null,
      "outputs": [
        {
          "output_type": "stream",
          "name": "stdout",
          "text": [
            "<class 'int'>\n",
            "<class 'float'>\n"
          ]
        }
      ]
    },
    {
      "cell_type": "code",
      "source": [],
      "metadata": {
        "id": "7OyW9jrKvgfB"
      },
      "execution_count": null,
      "outputs": []
    },
    {
      "cell_type": "code",
      "source": [
        "p=True\n",
        "c=3.1416\n",
        "n=10\n",
        "print(type(p))\n",
        "print(type(n))\n",
        "print(type(c))\n"
      ],
      "metadata": {
        "id": "M024Lc3Kvgvn",
        "colab": {
          "base_uri": "https://localhost:8080/"
        },
        "outputId": "6745f84d-5a45-4314-8e65-ad3f6e36eed3"
      },
      "execution_count": null,
      "outputs": [
        {
          "output_type": "stream",
          "name": "stdout",
          "text": [
            "<class 'bool'>\n",
            "<class 'int'>\n",
            "<class 'float'>\n"
          ]
        }
      ]
    },
    {
      "cell_type": "code",
      "source": [],
      "metadata": {
        "id": "-Mo77_Mwvg_H"
      },
      "execution_count": null,
      "outputs": []
    },
    {
      "cell_type": "code",
      "source": [
        "k='shofikul islam'\n",
        "print(k)"
      ],
      "metadata": {
        "id": "rNPLNy49vhMQ",
        "outputId": "647b0d07-3c41-487f-eca6-b38606cd14fa",
        "colab": {
          "base_uri": "https://localhost:8080/"
        }
      },
      "execution_count": null,
      "outputs": [
        {
          "output_type": "stream",
          "name": "stdout",
          "text": [
            "shofikul islam\n"
          ]
        }
      ]
    },
    {
      "cell_type": "code",
      "source": [],
      "metadata": {
        "id": "w9NW8pFGvhaA"
      },
      "execution_count": null,
      "outputs": []
    },
    {
      "cell_type": "code",
      "source": [
        "# Git\n",
        "!git config --global user.name \"Shofikul2024\"\n",
        "!git config --global user.email \"islamshofi942@gmail.com\""
      ],
      "metadata": {
        "id": "pd3LKn-1vhuI"
      },
      "execution_count": null,
      "outputs": []
    },
    {
      "cell_type": "code",
      "source": [],
      "metadata": {
        "id": "Tl-tsWQc82Pd"
      },
      "execution_count": null,
      "outputs": []
    },
    {
      "cell_type": "code",
      "source": [
        "\n",
        "text='hello world'\n",
        "print(text)\n",
        "print(text.upper())\n",
        "print(text.lower())\n",
        "print(text[0:5])"
      ],
      "metadata": {
        "id": "gXUyzqMm83eV",
        "colab": {
          "base_uri": "https://localhost:8080/"
        },
        "outputId": "1f0f3008-bbcf-4ef2-f26d-70d88702c631"
      },
      "execution_count": null,
      "outputs": [
        {
          "output_type": "stream",
          "name": "stdout",
          "text": [
            "hello world\n",
            "HELLO WORLD\n",
            "hello world\n",
            "hello\n"
          ]
        }
      ]
    },
    {
      "cell_type": "markdown",
      "source": [],
      "metadata": {
        "id": "1jKR0W_69CRV"
      }
    },
    {
      "cell_type": "code",
      "source": [],
      "metadata": {
        "id": "e-e3V9W084F-"
      },
      "execution_count": null,
      "outputs": []
    },
    {
      "cell_type": "code",
      "source": [
        "\n",
        "text='Dhaka international university'\n",
        "print(text)\n",
        "print(text.upper())\n",
        "print(text.lower())\n",
        "print(text[5:19])"
      ],
      "metadata": {
        "id": "S-ttMoCp84DN",
        "colab": {
          "base_uri": "https://localhost:8080/"
        },
        "outputId": "20d34580-d271-4643-9a77-d9201d9284e3"
      },
      "execution_count": null,
      "outputs": [
        {
          "output_type": "stream",
          "name": "stdout",
          "text": [
            "Dhaka international university\n",
            "DHAKA INTERNATIONAL UNIVERSITY\n",
            "dhaka international university\n",
            " international\n"
          ]
        }
      ]
    },
    {
      "cell_type": "code",
      "source": [],
      "metadata": {
        "id": "lz7uHYcV84A9"
      },
      "execution_count": null,
      "outputs": []
    },
    {
      "cell_type": "code",
      "source": [
        "\n",
        "text='Dhaka international university'\n",
        "print(text)\n",
        "print(text.upper())\n",
        "print(text.lower())\n",
        "print(text[0:5])"
      ],
      "metadata": {
        "id": "OGuFowpP836s",
        "colab": {
          "base_uri": "https://localhost:8080/"
        },
        "outputId": "415000e1-effb-44ff-bd10-c2cb9de0fc66"
      },
      "execution_count": null,
      "outputs": [
        {
          "output_type": "stream",
          "name": "stdout",
          "text": [
            "Dhaka international university\n",
            "DHAKA INTERNATIONAL UNIVERSITY\n",
            "dhaka international university\n",
            "Dhaka\n"
          ]
        }
      ]
    },
    {
      "cell_type": "code",
      "source": [],
      "metadata": {
        "id": "rskvgYtU834F"
      },
      "execution_count": null,
      "outputs": []
    },
    {
      "cell_type": "code",
      "source": [
        "\n",
        "text='Dhaka international university'\n",
        "print(text)\n",
        "print(text.upper())\n",
        "print(text.lower())\n",
        "print(text[19:31])"
      ],
      "metadata": {
        "id": "mNs0EDrd831V",
        "colab": {
          "base_uri": "https://localhost:8080/"
        },
        "outputId": "a2aae230-ffe0-4d1f-930e-a2073c892678"
      },
      "execution_count": null,
      "outputs": [
        {
          "output_type": "stream",
          "name": "stdout",
          "text": [
            "Dhaka international university\n",
            "DHAKA INTERNATIONAL UNIVERSITY\n",
            "dhaka international university\n",
            " university\n"
          ]
        }
      ]
    },
    {
      "cell_type": "code",
      "source": [],
      "metadata": {
        "id": "kTI8qz0y83wF"
      },
      "execution_count": null,
      "outputs": []
    },
    {
      "cell_type": "code",
      "source": [
        "\n",
        "text='Dhaka international university'\n",
        "print(text)\n",
        "print(text.upper())\n",
        "print(text.lower())\n",
        "print(text[19:-1])"
      ],
      "metadata": {
        "id": "Pv4-rYPd83WU",
        "colab": {
          "base_uri": "https://localhost:8080/"
        },
        "outputId": "c6c4b009-5768-4f73-bf59-6e5a4cdc3a94"
      },
      "execution_count": null,
      "outputs": [
        {
          "output_type": "stream",
          "name": "stdout",
          "text": [
            "Dhaka international university\n",
            "DHAKA INTERNATIONAL UNIVERSITY\n",
            "dhaka international university\n",
            " universit\n"
          ]
        }
      ]
    },
    {
      "cell_type": "code",
      "source": [],
      "metadata": {
        "id": "5BsNBdsQ_NbJ"
      },
      "execution_count": null,
      "outputs": []
    },
    {
      "cell_type": "code",
      "source": [
        "\n",
        "text='Dhaka international university'\n",
        "print(text)\n",
        "print(text.upper())\n",
        "print(text.lower())\n",
        "print(text[19:1])"
      ],
      "metadata": {
        "colab": {
          "base_uri": "https://localhost:8080/"
        },
        "id": "RlkRCEVG_hEz",
        "outputId": "7e94fe0f-57d0-4ff9-8df0-7cf63bb20247"
      },
      "execution_count": null,
      "outputs": [
        {
          "output_type": "stream",
          "name": "stdout",
          "text": [
            "Dhaka international university\n",
            "DHAKA INTERNATIONAL UNIVERSITY\n",
            "dhaka international university\n",
            "\n"
          ]
        }
      ]
    },
    {
      "cell_type": "code",
      "source": [],
      "metadata": {
        "id": "dEEnEYc-_hDM"
      },
      "execution_count": null,
      "outputs": []
    },
    {
      "cell_type": "code",
      "source": [
        "\n",
        "text='Dhaka international university'\n",
        "print(text)\n",
        "print(text.upper())\n",
        "print(text.lower())\n",
        "print(text[19:0])"
      ],
      "metadata": {
        "colab": {
          "base_uri": "https://localhost:8080/"
        },
        "id": "dQP8Dcgz_hAj",
        "outputId": "e56157eb-b2d0-4b9c-ed97-4276a1730b70"
      },
      "execution_count": null,
      "outputs": [
        {
          "output_type": "stream",
          "name": "stdout",
          "text": [
            "Dhaka international university\n",
            "DHAKA INTERNATIONAL UNIVERSITY\n",
            "dhaka international university\n",
            "\n"
          ]
        }
      ]
    },
    {
      "cell_type": "code",
      "source": [],
      "metadata": {
        "id": "lgiburzl_g9b"
      },
      "execution_count": null,
      "outputs": []
    },
    {
      "cell_type": "code",
      "source": [
        "\n",
        "text='Dhaka international university'\n",
        "print(text)\n",
        "print(text.upper())\n",
        "print(text.lower())\n",
        "print(text[10:-2])"
      ],
      "metadata": {
        "colab": {
          "base_uri": "https://localhost:8080/"
        },
        "id": "BaGPWZ9__g7U",
        "outputId": "de3cc467-7f04-4df8-9654-e2653d15b5d0"
      },
      "execution_count": null,
      "outputs": [
        {
          "output_type": "stream",
          "name": "stdout",
          "text": [
            "Dhaka international university\n",
            "DHAKA INTERNATIONAL UNIVERSITY\n",
            "dhaka international university\n",
            "rnational universi\n"
          ]
        }
      ]
    },
    {
      "cell_type": "code",
      "source": [],
      "metadata": {
        "id": "7e7ppS2l_g5j"
      },
      "execution_count": null,
      "outputs": []
    },
    {
      "cell_type": "code",
      "source": [
        "\n",
        "text='Dhaka international university'\n",
        "print(text)\n",
        "print(text.upper())\n",
        "print(text.lower())\n",
        "print(text[19:-2])"
      ],
      "metadata": {
        "colab": {
          "base_uri": "https://localhost:8080/"
        },
        "id": "Zow5m-l7_g11",
        "outputId": "91401d2b-ba2e-4c14-9761-a3f370096fe9"
      },
      "execution_count": null,
      "outputs": [
        {
          "output_type": "stream",
          "name": "stdout",
          "text": [
            "Dhaka international university\n",
            "DHAKA INTERNATIONAL UNIVERSITY\n",
            "dhaka international university\n",
            " universi\n"
          ]
        }
      ]
    },
    {
      "cell_type": "code",
      "source": [],
      "metadata": {
        "id": "yPTiEsQA_gz1"
      },
      "execution_count": null,
      "outputs": []
    },
    {
      "cell_type": "code",
      "source": [
        "fruits=['apple','banana','cherry']\n",
        "print(fruits)\n",
        "fruits.append('orange')\n",
        "print(fruits)\n",
        "fruits.remove('banana')\n",
        "print(fruits)"
      ],
      "metadata": {
        "colab": {
          "base_uri": "https://localhost:8080/"
        },
        "id": "JGruzKUb_gxj",
        "outputId": "d58d02fc-651c-472c-de9e-58cd79f558b9"
      },
      "execution_count": null,
      "outputs": [
        {
          "output_type": "stream",
          "name": "stdout",
          "text": [
            "['apple', 'banana', 'cherry']\n",
            "['apple', 'banana', 'cherry', 'orange']\n",
            "['apple', 'cherry', 'orange']\n"
          ]
        }
      ]
    },
    {
      "cell_type": "code",
      "source": [],
      "metadata": {
        "id": "0Tm3LTAh_gvl"
      },
      "execution_count": null,
      "outputs": []
    },
    {
      "cell_type": "code",
      "source": [
        "\n",
        "fruits=['apple','banana','cherry', 'mango']\n",
        "print(fruits)\n",
        "fruits.append('orange')\n",
        "print(fruits)\n",
        "fruits.remove('banana')\n",
        "print(fruits)\n"
      ],
      "metadata": {
        "colab": {
          "base_uri": "https://localhost:8080/"
        },
        "id": "tnL8o4q3_gtr",
        "outputId": "4b6bb50f-1d0c-456a-8024-a5ae8117876b"
      },
      "execution_count": null,
      "outputs": [
        {
          "output_type": "stream",
          "name": "stdout",
          "text": [
            "['apple', 'banana', 'cherry', 'mango']\n",
            "['apple', 'banana', 'cherry', 'mango', 'orange']\n",
            "['apple', 'cherry', 'mango', 'orange']\n"
          ]
        }
      ]
    },
    {
      "cell_type": "code",
      "source": [],
      "metadata": {
        "id": "hZMmqCKe_gr0"
      },
      "execution_count": null,
      "outputs": []
    },
    {
      "cell_type": "code",
      "source": [
        " student={\n",
        "\n",
        "           'name':'Rahim',\n",
        "           'age':20,\n",
        "           'dept':'CSE'\n",
        " }\n",
        " print(student['name'])\n",
        " print('firstly student er age cilo 20')\n",
        " print(student['age'])\n",
        " print(student['dept'])\n",
        " student['age']=21\n",
        " print('now student er age update  kore age kora holo 21')\n",
        " print(student)"
      ],
      "metadata": {
        "colab": {
          "base_uri": "https://localhost:8080/"
        },
        "id": "PI7iq4gH_gpk",
        "outputId": "b89419a3-b752-4b31-c44a-175a2f44c27a"
      },
      "execution_count": null,
      "outputs": [
        {
          "output_type": "stream",
          "name": "stdout",
          "text": [
            "Rahim\n",
            "firstly student er age cilo 20\n",
            "20\n",
            "CSE\n",
            "now student er age update  kore age kora holo 21\n",
            "{'name': 'Rahim', 'age': 21, 'dept': 'CSE'}\n"
          ]
        }
      ]
    },
    {
      "cell_type": "code",
      "source": [],
      "metadata": {
        "id": "4SrbgfjJ_gmO"
      },
      "execution_count": null,
      "outputs": []
    },
    {
      "cell_type": "code",
      "source": [
        "student={\n",
        "\n",
        "'name':'Rahim',\n",
        "'age':20,\n",
        "'dept':'CSE'\n",
        " }\n",
        "\n",
        "print(student['name'])\n",
        "print(student['age'])\n",
        "print(student['dept'])\n",
        "student['age']=25\n",
        "print(student)"
      ],
      "metadata": {
        "colab": {
          "base_uri": "https://localhost:8080/"
        },
        "id": "XlicpyaX_gkF",
        "outputId": "0dcb800e-fd0a-4e1b-ad84-667feabf7d00"
      },
      "execution_count": null,
      "outputs": [
        {
          "output_type": "stream",
          "name": "stdout",
          "text": [
            "Rahim\n",
            "20\n",
            "CSE\n",
            "{'name': 'Rahim', 'age': 25, 'dept': 'CSE'}\n"
          ]
        }
      ]
    },
    {
      "cell_type": "code",
      "source": [],
      "metadata": {
        "id": "3sb1mnYF_ggT"
      },
      "execution_count": null,
      "outputs": []
    },
    {
      "cell_type": "code",
      "source": [
        "phn = 'Redmi note 11s'\n",
        "print(phn)"
      ],
      "metadata": {
        "id": "HPLdBYs-_geU",
        "colab": {
          "base_uri": "https://localhost:8080/"
        },
        "outputId": "ee96920d-73e8-4fca-a0af-67b899a9c85b"
      },
      "execution_count": null,
      "outputs": [
        {
          "output_type": "stream",
          "name": "stdout",
          "text": [
            "Redmi note 11s\n"
          ]
        }
      ]
    },
    {
      "cell_type": "code",
      "source": [],
      "metadata": {
        "id": "9rbU_MyI_gcD"
      },
      "execution_count": null,
      "outputs": []
    },
    {
      "cell_type": "code",
      "source": [
        "#loop     for  lop\n",
        "for i in range(10):\n",
        "\n",
        "\n",
        " print(i)"
      ],
      "metadata": {
        "id": "-cfmYYmb_gZL",
        "colab": {
          "base_uri": "https://localhost:8080/"
        },
        "outputId": "496398ef-3705-4cf9-a9dd-fe95aec039aa"
      },
      "execution_count": null,
      "outputs": [
        {
          "output_type": "stream",
          "name": "stdout",
          "text": [
            "0\n",
            "1\n",
            "2\n",
            "3\n",
            "4\n",
            "5\n",
            "6\n",
            "7\n",
            "8\n",
            "9\n"
          ]
        }
      ]
    },
    {
      "cell_type": "code",
      "source": [],
      "metadata": {
        "id": "af5EJqnm_gTs"
      },
      "execution_count": null,
      "outputs": []
    },
    {
      "cell_type": "code",
      "source": [
        "#loop\n",
        "for i in range(3):\n",
        "\n",
        "\n",
        " print(i)"
      ],
      "metadata": {
        "id": "lrTV3BrP_gRE",
        "colab": {
          "base_uri": "https://localhost:8080/"
        },
        "outputId": "1157ec1e-cd9d-483b-f111-8850515cf8df"
      },
      "execution_count": null,
      "outputs": [
        {
          "output_type": "stream",
          "name": "stdout",
          "text": [
            "0\n",
            "1\n",
            "2\n"
          ]
        }
      ]
    },
    {
      "cell_type": "code",
      "source": [],
      "metadata": {
        "id": "EKCzYwaa_gMF"
      },
      "execution_count": null,
      "outputs": []
    },
    {
      "cell_type": "code",
      "source": [
        "#while  loop\n",
        "i=0\n",
        "while(i<11):\n",
        "  print(i)\n",
        "  i=i+1"
      ],
      "metadata": {
        "id": "Ff39BxzB_gIN",
        "colab": {
          "base_uri": "https://localhost:8080/"
        },
        "outputId": "be3fd549-f58f-4b98-de25-013a77846456"
      },
      "execution_count": null,
      "outputs": [
        {
          "output_type": "stream",
          "name": "stdout",
          "text": [
            "0\n",
            "1\n",
            "2\n",
            "3\n",
            "4\n",
            "5\n",
            "6\n",
            "7\n",
            "8\n",
            "9\n",
            "10\n"
          ]
        }
      ]
    },
    {
      "cell_type": "code",
      "source": [
        "count=0\n",
        "while(count<10):\n",
        "  print(count)\n",
        "  count=count+1"
      ],
      "metadata": {
        "id": "PxTQ0pij_gEj",
        "colab": {
          "base_uri": "https://localhost:8080/"
        },
        "outputId": "7eee48d6-467d-447a-d16c-c67c37d37d67"
      },
      "execution_count": null,
      "outputs": [
        {
          "output_type": "stream",
          "name": "stdout",
          "text": [
            "0\n",
            "1\n",
            "2\n",
            "3\n",
            "4\n",
            "5\n",
            "6\n",
            "7\n",
            "8\n",
            "9\n"
          ]
        }
      ]
    },
    {
      "cell_type": "code",
      "source": [
        "# using while  loop  print  odd number\n",
        "i=1\n",
        "while(i<11):\n",
        "  print(i)\n",
        "  i=i+2"
      ],
      "metadata": {
        "id": "qmOCsYuv_gCd",
        "colab": {
          "base_uri": "https://localhost:8080/"
        },
        "outputId": "788b14b6-dbbf-4d28-ebf3-34740e9004b4"
      },
      "execution_count": null,
      "outputs": [
        {
          "output_type": "stream",
          "name": "stdout",
          "text": [
            "1\n",
            "3\n",
            "5\n",
            "7\n",
            "9\n"
          ]
        }
      ]
    },
    {
      "cell_type": "code",
      "source": [],
      "metadata": {
        "id": "-rTPADbj_f9T"
      },
      "execution_count": null,
      "outputs": []
    },
    {
      "cell_type": "code",
      "source": [
        "# using while  loop  print  even number\n",
        "i=2\n",
        "while(i<11):\n",
        "  print(i)\n",
        "  i=i+2"
      ],
      "metadata": {
        "id": "DU3GB4Q4_f7g",
        "colab": {
          "base_uri": "https://localhost:8080/"
        },
        "outputId": "60c7208f-8a55-4645-a12e-e6284f887cb3"
      },
      "execution_count": null,
      "outputs": [
        {
          "output_type": "stream",
          "name": "stdout",
          "text": [
            "2\n",
            "4\n",
            "6\n",
            "8\n",
            "10\n"
          ]
        }
      ]
    },
    {
      "cell_type": "code",
      "source": [],
      "metadata": {
        "id": "TZDQDBAG_f4k"
      },
      "execution_count": null,
      "outputs": []
    },
    {
      "cell_type": "code",
      "source": [
        "#break\n",
        "\n",
        "\n",
        "for i in range(5):\n",
        "  if(i==3):\n",
        "    break\n",
        "  print(i)"
      ],
      "metadata": {
        "id": "wPtfCUJy_f1U",
        "colab": {
          "base_uri": "https://localhost:8080/"
        },
        "outputId": "a4003ce1-0db2-463b-ded7-d28d0d16af61"
      },
      "execution_count": null,
      "outputs": [
        {
          "output_type": "stream",
          "name": "stdout",
          "text": [
            "0\n",
            "1\n",
            "2\n"
          ]
        }
      ]
    },
    {
      "cell_type": "code",
      "source": [],
      "metadata": {
        "id": "ndM25O4P_fwM"
      },
      "execution_count": null,
      "outputs": []
    },
    {
      "cell_type": "code",
      "source": [
        "for i in range(5):\n",
        "  if(i==2):\n",
        "    continue\n",
        "  print(i)"
      ],
      "metadata": {
        "colab": {
          "base_uri": "https://localhost:8080/"
        },
        "id": "oeplGK7LJDEp",
        "outputId": "615aa92a-ef4d-4531-afff-1c1bb6174ade"
      },
      "execution_count": null,
      "outputs": [
        {
          "output_type": "stream",
          "name": "stdout",
          "text": [
            "0\n",
            "1\n",
            "3\n",
            "4\n"
          ]
        }
      ]
    },
    {
      "cell_type": "code",
      "source": [],
      "metadata": {
        "id": "oR65zU6CJDCy"
      },
      "execution_count": null,
      "outputs": []
    },
    {
      "cell_type": "code",
      "source": [
        "for i in range(6):\n",
        "  if(i==4):\n",
        "    break\n",
        "  print(i)"
      ],
      "metadata": {
        "colab": {
          "base_uri": "https://localhost:8080/"
        },
        "id": "sNL1PjHBJDBj",
        "outputId": "3a833e38-fb56-4b54-d789-e2f94ad4e0ac"
      },
      "execution_count": null,
      "outputs": [
        {
          "output_type": "stream",
          "name": "stdout",
          "text": [
            "0\n",
            "1\n",
            "2\n",
            "3\n"
          ]
        }
      ]
    },
    {
      "cell_type": "code",
      "source": [],
      "metadata": {
        "id": "NrOY9qYGJC9y"
      },
      "execution_count": null,
      "outputs": []
    },
    {
      "cell_type": "code",
      "source": [
        "# function\n",
        "\n",
        "def greet():\n",
        "  print('hello world')\n",
        "greet()"
      ],
      "metadata": {
        "colab": {
          "base_uri": "https://localhost:8080/"
        },
        "id": "7MATIdylJC6a",
        "outputId": "d4d9c479-bf76-4482-e40e-4b0ce658fc92"
      },
      "execution_count": null,
      "outputs": [
        {
          "output_type": "stream",
          "name": "stdout",
          "text": [
            "hello world\n"
          ]
        }
      ]
    },
    {
      "cell_type": "code",
      "source": [],
      "metadata": {
        "id": "7xJpv8RcJC06"
      },
      "execution_count": null,
      "outputs": []
    },
    {
      "cell_type": "code",
      "source": [
        "def greet():\n",
        "  print(' shofikul islam')\n",
        "greet()"
      ],
      "metadata": {
        "colab": {
          "base_uri": "https://localhost:8080/"
        },
        "id": "Nv5MN25zJCu6",
        "outputId": "915b243d-7048-4a65-ef93-198644811caf"
      },
      "execution_count": null,
      "outputs": [
        {
          "output_type": "stream",
          "name": "stdout",
          "text": [
            " shofikul islam\n"
          ]
        }
      ]
    },
    {
      "cell_type": "code",
      "source": [],
      "metadata": {
        "id": "hnBVZFgVJCrZ"
      },
      "execution_count": null,
      "outputs": []
    },
    {
      "cell_type": "code",
      "source": [
        "def greet():\n",
        "  print('shofikul islam ')\n",
        "greet()\n",
        "greet()\n",
        "greet()\n",
        "greet()\n",
        "greet()\n",
        "greet()\n",
        "greet()"
      ],
      "metadata": {
        "colab": {
          "base_uri": "https://localhost:8080/"
        },
        "id": "_kr2G-BCJCkq",
        "outputId": "b23dd6c2-6ac2-4a5b-8113-7e85ee1d5609"
      },
      "execution_count": null,
      "outputs": [
        {
          "output_type": "stream",
          "name": "stdout",
          "text": [
            "shofikul islam \n",
            "shofikul islam \n",
            "shofikul islam \n",
            "shofikul islam \n",
            "shofikul islam \n",
            "shofikul islam \n",
            "shofikul islam \n"
          ]
        }
      ]
    },
    {
      "cell_type": "code",
      "source": [],
      "metadata": {
        "id": "OZZlcFecJ-tr"
      },
      "execution_count": null,
      "outputs": []
    },
    {
      "cell_type": "code",
      "source": [
        "def add():\n",
        "  a=10\n",
        "  b=20\n",
        "  c=a+b\n",
        "  print(c)\n",
        "add()"
      ],
      "metadata": {
        "colab": {
          "base_uri": "https://localhost:8080/"
        },
        "id": "SpCugWBIJ-sN",
        "outputId": "922cb1fe-3d9b-42de-fa61-a060b4be78b8"
      },
      "execution_count": null,
      "outputs": [
        {
          "output_type": "stream",
          "name": "stdout",
          "text": [
            "30\n"
          ]
        }
      ]
    },
    {
      "cell_type": "code",
      "source": [],
      "metadata": {
        "id": "yZZeyXIyJ-qk"
      },
      "execution_count": null,
      "outputs": []
    },
    {
      "cell_type": "code",
      "source": [
        "def add():\n",
        "  a=10\n",
        "  b=20\n",
        "  c=a+b\n",
        "  print(c)\n",
        "add()\n",
        "add()\n",
        "add()\n",
        "add()\n",
        "add()\n",
        "add()"
      ],
      "metadata": {
        "colab": {
          "base_uri": "https://localhost:8080/"
        },
        "id": "xt6BxoHpJ-ob",
        "outputId": "bbef2aa3-d831-4107-a46e-c34bdaef6f14"
      },
      "execution_count": null,
      "outputs": [
        {
          "output_type": "stream",
          "name": "stdout",
          "text": [
            "30\n",
            "30\n",
            "30\n",
            "30\n",
            "30\n",
            "30\n"
          ]
        }
      ]
    },
    {
      "cell_type": "code",
      "source": [],
      "metadata": {
        "id": "Hj_aM-_3J-mh"
      },
      "execution_count": null,
      "outputs": []
    },
    {
      "cell_type": "code",
      "source": [],
      "metadata": {
        "id": "Y1Mc93yNJ-k5"
      },
      "execution_count": null,
      "outputs": []
    },
    {
      "cell_type": "code",
      "source": [
        "def add(a,b):\n",
        "  c=a+b\n",
        "  print(c)\n",
        "add(10,20)\n",
        "add(30,40)\n",
        "add(50,60)"
      ],
      "metadata": {
        "colab": {
          "base_uri": "https://localhost:8080/"
        },
        "id": "46Tpny57J-iZ",
        "outputId": "41651091-0f7e-4e97-e57f-cbcd2e3fcfc8"
      },
      "execution_count": null,
      "outputs": [
        {
          "output_type": "stream",
          "name": "stdout",
          "text": [
            "30\n",
            "70\n",
            "110\n"
          ]
        }
      ]
    },
    {
      "cell_type": "code",
      "source": [],
      "metadata": {
        "id": "L70U-Y0PJ-ga"
      },
      "execution_count": null,
      "outputs": []
    },
    {
      "cell_type": "code",
      "source": [
        "def add(a,b):\n",
        "  return a+b\n",
        "result=add(10,20)\n",
        "print(result)"
      ],
      "metadata": {
        "colab": {
          "base_uri": "https://localhost:8080/"
        },
        "id": "IeVY4_t9J-eS",
        "outputId": "948f4a7c-1856-4e29-f950-0395f3e865e4"
      },
      "execution_count": null,
      "outputs": [
        {
          "output_type": "stream",
          "name": "stdout",
          "text": [
            "30\n"
          ]
        }
      ]
    },
    {
      "cell_type": "code",
      "source": [],
      "metadata": {
        "id": "rY5zqSLMJ-aq"
      },
      "execution_count": null,
      "outputs": []
    },
    {
      "cell_type": "code",
      "source": [],
      "metadata": {
        "id": "GzBoY8JZJ-Xa"
      },
      "execution_count": null,
      "outputs": []
    },
    {
      "cell_type": "code",
      "source": [],
      "metadata": {
        "id": "udkT8803J-Vs"
      },
      "execution_count": null,
      "outputs": []
    },
    {
      "cell_type": "code",
      "source": [],
      "metadata": {
        "id": "76UOqx_MJ-UB"
      },
      "execution_count": null,
      "outputs": []
    },
    {
      "cell_type": "code",
      "source": [],
      "metadata": {
        "id": "-XVaBEzqJ-Ry"
      },
      "execution_count": null,
      "outputs": []
    },
    {
      "cell_type": "code",
      "source": [],
      "metadata": {
        "id": "dot8fu1_J-Ph"
      },
      "execution_count": null,
      "outputs": []
    },
    {
      "cell_type": "code",
      "source": [],
      "metadata": {
        "id": "Yr0ZMtqGJ-Mi"
      },
      "execution_count": null,
      "outputs": []
    },
    {
      "cell_type": "code",
      "source": [],
      "metadata": {
        "id": "XyvmgSB5J-JK"
      },
      "execution_count": null,
      "outputs": []
    }
  ]
}