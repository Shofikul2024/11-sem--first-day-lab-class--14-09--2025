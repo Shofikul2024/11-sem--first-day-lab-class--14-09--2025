{
 "cells": [
  {
   "cell_type": "code",
   "execution_count": 4,
   "id": "24df68de",
   "metadata": {},
   "outputs": [
    {
     "name": "stdout",
     "output_type": "stream",
     "text": [
      "square Root 4.0\n"
     ]
    }
   ],
   "source": [
    "import math\n",
    "\n",
    "print(\"square Root\",math.sqrt(16))"
   ]
  },
  {
   "cell_type": "code",
   "execution_count": null,
   "id": "69e7f5aa",
   "metadata": {},
   "outputs": [
    {
     "name": "stdout",
     "output_type": "stream",
     "text": [
      "Power 100.0\n"
     ]
    }
   ],
   "source": [
    "import math \n",
    "print(\"Power\",math.pow(10,2))"
   ]
  },
  {
   "cell_type": "code",
   "execution_count": 5,
   "id": "5c55d816",
   "metadata": {},
   "outputs": [
    {
     "name": "stdout",
     "output_type": "stream",
     "text": [
      "power 1000.0\n"
     ]
    }
   ],
   "source": [
    "import math \n",
    "print(\"power\",math.pow(10,3))"
   ]
  },
  {
   "cell_type": "code",
   "execution_count": 7,
   "id": "8c597996",
   "metadata": {},
   "outputs": [
    {
     "name": "stdout",
     "output_type": "stream",
     "text": [
      "power 125.0\n"
     ]
    }
   ],
   "source": [
    "import math \n",
    "print(\"power\",math.pow(5,3))"
   ]
  },
  {
   "cell_type": "code",
   "execution_count": 2,
   "id": "d06fea33",
   "metadata": {},
   "outputs": [
    {
     "name": "stdout",
     "output_type": "stream",
     "text": [
      "power 27.0\n"
     ]
    }
   ],
   "source": [
    "import math \n",
    "print(\"power\",math.pow(3,3))"
   ]
  },
  {
   "cell_type": "code",
   "execution_count": 3,
   "id": "397fb081",
   "metadata": {},
   "outputs": [
    {
     "name": "stdout",
     "output_type": "stream",
     "text": [
      "Trigonometric 1.0\n",
      "Trigonometric 6.123233995736766e-17\n",
      "Trigonometric 0.9999999999999999\n"
     ]
    }
   ],
   "source": [
    "import math\n",
    "print(\"Trigonometric\",math.sin(math.radians(90)))\n",
    "print(\"Trigonometric\",math.cos(math.radians(90)))\n",
    "print(\"Trigonometric\",math.tan(math.radians(45)))\n",
    "\n"
   ]
  },
  {
   "cell_type": "code",
   "execution_count": 5,
   "id": "0bac9871",
   "metadata": {},
   "outputs": [
    {
     "name": "stdout",
     "output_type": "stream",
     "text": [
      "Logarithmic 2.302585092994046\n",
      "Logarithmic 1.0\n"
     ]
    }
   ],
   "source": [
    "import math\n",
    "print(\"Logarithmic\",math.log(10))\n",
    "print(\"Logarithmic\",math.log10(10))"
   ]
  },
  {
   "cell_type": "code",
   "execution_count": 7,
   "id": "c7e3f28d",
   "metadata": {},
   "outputs": [
    {
     "name": "stdout",
     "output_type": "stream",
     "text": [
      "Factorial 120\n"
     ]
    }
   ],
   "source": [
    "import math\n",
    "print(\"Factorial\",math.factorial(5))"
   ]
  },
  {
   "cell_type": "code",
   "execution_count": 8,
   "id": "d493abb0",
   "metadata": {},
   "outputs": [
    {
     "name": "stdout",
     "output_type": "stream",
     "text": [
      "Gretest common divisior  50\n"
     ]
    }
   ],
   "source": [
    "# Greatest common divisor\n",
    "import math\n",
    "print(\"Gretest common divisior \",math.gcd(50,100))"
   ]
  },
  {
   "cell_type": "code",
   "execution_count": null,
   "id": "6c5b7197",
   "metadata": {},
   "outputs": [
    {
     "name": "stdout",
     "output_type": "stream",
     "text": [
      " Lowest Common Multiple 100\n"
     ]
    }
   ],
   "source": [
    "# Lowest Common Multiple\n",
    "import math\n",
    "print(\" Lowest Common Multiple\",math.lcm(50,100))"
   ]
  },
  {
   "cell_type": "code",
   "execution_count": 10,
   "id": "1a4de241",
   "metadata": {},
   "outputs": [
    {
     "name": "stdout",
     "output_type": "stream",
     "text": [
      "Lower common Multiple 100\n"
     ]
    }
   ],
   "source": [
    "# Lowest Common Multiple\n",
    "import math\n",
    "print(\"Lower common Multiple\", math.lcm(50,100))"
   ]
  },
  {
   "cell_type": "code",
   "execution_count": null,
   "id": "e91a07e2",
   "metadata": {},
   "outputs": [],
   "source": []
  }
 ],
 "metadata": {
  "kernelspec": {
   "display_name": "Python 3",
   "language": "python",
   "name": "python3"
  },
  "language_info": {
   "codemirror_mode": {
    "name": "ipython",
    "version": 3
   },
   "file_extension": ".py",
   "mimetype": "text/x-python",
   "name": "python",
   "nbconvert_exporter": "python",
   "pygments_lexer": "ipython3",
   "version": "3.13.7"
  }
 },
 "nbformat": 4,
 "nbformat_minor": 5
}
