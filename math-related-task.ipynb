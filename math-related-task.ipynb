{
 "cells": [
  {
   "cell_type": "code",
   "execution_count": 4,
   "id": "24df68de",
   "metadata": {},
   "outputs": [
    {
     "name": "stdout",
     "output_type": "stream",
     "text": [
      "square Root 4.0\n"
     ]
    }
   ],
   "source": [
    "import math\n",
    "\n",
    "print(\"square Root\",math.sqrt(16))"
   ]
  },
  {
   "cell_type": "code",
   "execution_count": null,
   "id": "69e7f5aa",
   "metadata": {},
   "outputs": [
    {
     "name": "stdout",
     "output_type": "stream",
     "text": [
      "Power 100.0\n"
     ]
    }
   ],
   "source": [
    "import math \n",
    "print(\"Power\",math.pow(10,2))"
   ]
  },
  {
   "cell_type": "code",
   "execution_count": 5,
   "id": "5c55d816",
   "metadata": {},
   "outputs": [
    {
     "name": "stdout",
     "output_type": "stream",
     "text": [
      "power 1000.0\n"
     ]
    }
   ],
   "source": [
    "import math \n",
    "print(\"power\",math.pow(10,3))"
   ]
  },
  {
   "cell_type": "code",
   "execution_count": 7,
   "id": "8c597996",
   "metadata": {},
   "outputs": [
    {
     "name": "stdout",
     "output_type": "stream",
     "text": [
      "power 125.0\n"
     ]
    }
   ],
   "source": [
    "import math \n",
    "print(\"power\",math.pow(5,3))"
   ]
  },
  {
   "cell_type": "code",
   "execution_count": 8,
   "id": "d06fea33",
   "metadata": {},
   "outputs": [
    {
     "name": "stdout",
     "output_type": "stream",
     "text": [
      "power 27.0\n"
     ]
    }
   ],
   "source": [
    "import math \n",
    "print(\"power\",math.pow(3,3))"
   ]
  },
  {
   "cell_type": "code",
   "execution_count": null,
   "id": "397fb081",
   "metadata": {},
   "outputs": [],
   "source": []
  },
  {
   "cell_type": "code",
   "execution_count": null,
   "id": "0bac9871",
   "metadata": {},
   "outputs": [],
   "source": []
  },
  {
   "cell_type": "code",
   "execution_count": null,
   "id": "c7e3f28d",
   "metadata": {},
   "outputs": [],
   "source": []
  },
  {
   "cell_type": "code",
   "execution_count": null,
   "id": "d493abb0",
   "metadata": {},
   "outputs": [],
   "source": []
  },
  {
   "cell_type": "code",
   "execution_count": null,
   "id": "6c5b7197",
   "metadata": {},
   "outputs": [],
   "source": []
  },
  {
   "cell_type": "code",
   "execution_count": null,
   "id": "1a4de241",
   "metadata": {},
   "outputs": [],
   "source": []
  },
  {
   "cell_type": "code",
   "execution_count": null,
   "id": "e91a07e2",
   "metadata": {},
   "outputs": [],
   "source": []
  }
 ],
 "metadata": {
  "kernelspec": {
   "display_name": "Python 3",
   "language": "python",
   "name": "python3"
  },
  "language_info": {
   "codemirror_mode": {
    "name": "ipython",
    "version": 3
   },
   "file_extension": ".py",
   "mimetype": "text/x-python",
   "name": "python",
   "nbconvert_exporter": "python",
   "pygments_lexer": "ipython3",
   "version": "3.13.7"
  }
 },
 "nbformat": 4,
 "nbformat_minor": 5
}
