{
 "cells": [
  {
   "cell_type": "code",
   "execution_count": null,
   "id": "0007406d",
   "metadata": {},
   "outputs": [],
   "source": []
  },
  {
   "cell_type": "code",
   "execution_count": 1,
   "id": "fb516119",
   "metadata": {},
   "outputs": [
    {
     "name": "stdout",
     "output_type": "stream",
     "text": [
      "The given name is shofikul islam\n"
     ]
    }
   ],
   "source": [
    "def print_my_name(myname):\n",
    "    # This will print the given name\n",
    "    print('The given name is', myname)\n",
    " \n",
    "print_my_name('shofikul islam')"
   ]
  },
  {
   "cell_type": "code",
   "execution_count": null,
   "id": "7286f527",
   "metadata": {},
   "outputs": [],
   "source": []
  },
  {
   "cell_type": "code",
   "execution_count": 3,
   "id": "95e26207",
   "metadata": {},
   "outputs": [
    {
     "name": "stdout",
     "output_type": "stream",
     "text": [
      "The given name is shofikul islam\n"
     ]
    }
   ],
   "source": [
    "def print_my_name(myname):\n",
    "    # This will print the given name\n",
    "    print('The given name is', myname)\n",
    "    return\n",
    "print_my_name('shofikul islam')"
   ]
  },
  {
   "cell_type": "code",
   "execution_count": null,
   "id": "8d623fe3",
   "metadata": {},
   "outputs": [],
   "source": []
  },
  {
   "cell_type": "code",
   "execution_count": 4,
   "id": "31d90061",
   "metadata": {},
   "outputs": [
    {
     "name": "stdout",
     "output_type": "stream",
     "text": [
      "The given name is shofikul islam\n"
     ]
    }
   ],
   "source": [
    "def myName(myname):\n",
    "    \n",
    "    print('The given name is', myname)\n",
    " \n",
    "myName('shofikul islam')"
   ]
  },
  {
   "cell_type": "code",
   "execution_count": 5,
   "id": "a0f5c9d8",
   "metadata": {},
   "outputs": [
    {
     "name": "stdout",
     "output_type": "stream",
     "text": [
      "The given name is shofikul islam\n"
     ]
    }
   ],
   "source": [
    "def myName(myname):\n",
    "    \n",
    "    print('The given name is', myname)  \n",
    "myName('shofikul islam')\n",
    "  "
   ]
  },
  {
   "cell_type": "code",
   "execution_count": null,
   "id": "4bd10ecb",
   "metadata": {},
   "outputs": [
    {
     "name": "stdout",
     "output_type": "stream",
     "text": [
      "My full name is:\n",
      "  enter your name\n",
      "shofikul islam\n"
     ]
    }
   ],
   "source": [
    "def myName(myname):\n",
    "    \n",
    "    print('My full name is:', myname)  \n",
    " \n",
    "myName('shofikul islam')\n",
    "  "
   ]
  },
  {
   "cell_type": "code",
   "execution_count": null,
   "id": "dc8d1f10",
   "metadata": {},
   "outputs": [],
   "source": []
  },
  {
   "cell_type": "code",
   "execution_count": null,
   "id": "61700d2d",
   "metadata": {},
   "outputs": [
    {
     "name": "stdout",
     "output_type": "stream",
     "text": [
      "60\n"
     ]
    }
   ],
   "source": [
    "# কি-ওয়ার্ড আর্গুমেন্ট (Keyword argument) \n",
    "\n",
    "'''' \n",
    "\n",
    "এবার আমরা ফাংশনে ভ্যালু পাস করেছি \n",
    "এভাবে: b=2, c=3, a=1। পজিশনাললি নয়, বরং \n",
    "কোনটার মান কত হবে তা সরাসরি বলে দিয়েছি। এভাবে\n",
    "কি-ওয়ার্ড আর্গুমেন্ট ব্যবহার করার একটা সুবিধা রয়েছে,\n",
    "বিশেষ করে অনেকগুলো আর্গুমেন্ট ব্যবহার করার সময়\n",
    ", আর্গুমেন্টের ধারাবাহিকতা রক্ষা করার দরকার পড়ে না।\n",
    "\n",
    "'''\n",
    "\n",
    "def add(x, y, z):\n",
    "    return x +y+z\n",
    "result = add(10, 20, 30)\n",
    "print(result)\n",
    "\n"
   ]
  },
  {
   "cell_type": "code",
   "execution_count": 7,
   "id": "6526610a",
   "metadata": {},
   "outputs": [
    {
     "name": "stdout",
     "output_type": "stream",
     "text": [
      "6\n"
     ]
    }
   ],
   "source": [
    "# ডিফল্ট আর্গুমেন্ট (Default argument) \n",
    "\n",
    "\n",
    "def add(x, y, z=3):\n",
    "    return x +y+z\n",
    "result = add(1, 2)\n",
    "print(result)"
   ]
  },
  {
   "cell_type": "code",
   "execution_count": null,
   "id": "c79ae040",
   "metadata": {},
   "outputs": [],
   "source": []
  },
  {
   "cell_type": "code",
   "execution_count": null,
   "id": "d1a4847f",
   "metadata": {},
   "outputs": [],
   "source": []
  },
  {
   "cell_type": "code",
   "execution_count": null,
   "id": "04680446",
   "metadata": {},
   "outputs": [],
   "source": []
  },
  {
   "cell_type": "code",
   "execution_count": null,
   "id": "1f4ad105",
   "metadata": {},
   "outputs": [],
   "source": []
  },
  {
   "cell_type": "code",
   "execution_count": null,
   "id": "98e50d19",
   "metadata": {},
   "outputs": [],
   "source": []
  },
  {
   "cell_type": "code",
   "execution_count": null,
   "id": "437c5516",
   "metadata": {},
   "outputs": [],
   "source": []
  },
  {
   "cell_type": "code",
   "execution_count": null,
   "id": "46468bac",
   "metadata": {},
   "outputs": [],
   "source": []
  },
  {
   "cell_type": "code",
   "execution_count": null,
   "id": "3ed82af0",
   "metadata": {},
   "outputs": [],
   "source": []
  },
  {
   "cell_type": "code",
   "execution_count": null,
   "id": "606e50de",
   "metadata": {},
   "outputs": [],
   "source": []
  },
  {
   "cell_type": "code",
   "execution_count": null,
   "id": "1274a961",
   "metadata": {},
   "outputs": [],
   "source": []
  },
  {
   "cell_type": "code",
   "execution_count": null,
   "id": "45b106d6",
   "metadata": {},
   "outputs": [],
   "source": []
  },
  {
   "cell_type": "code",
   "execution_count": null,
   "id": "9ef7583d",
   "metadata": {},
   "outputs": [],
   "source": []
  },
  {
   "cell_type": "code",
   "execution_count": null,
   "id": "920945aa",
   "metadata": {},
   "outputs": [],
   "source": []
  },
  {
   "cell_type": "code",
   "execution_count": null,
   "id": "e36fc8f4",
   "metadata": {},
   "outputs": [],
   "source": []
  },
  {
   "cell_type": "code",
   "execution_count": null,
   "id": "3ece90bf",
   "metadata": {},
   "outputs": [],
   "source": []
  },
  {
   "cell_type": "code",
   "execution_count": null,
   "id": "288bfc2b",
   "metadata": {},
   "outputs": [],
   "source": []
  }
 ],
 "metadata": {
  "kernelspec": {
   "display_name": "Python 3",
   "language": "python",
   "name": "python3"
  },
  "language_info": {
   "codemirror_mode": {
    "name": "ipython",
    "version": 3
   },
   "file_extension": ".py",
   "mimetype": "text/x-python",
   "name": "python",
   "nbconvert_exporter": "python",
   "pygments_lexer": "ipython3",
   "version": "3.13.7"
  }
 },
 "nbformat": 4,
 "nbformat_minor": 5
}
