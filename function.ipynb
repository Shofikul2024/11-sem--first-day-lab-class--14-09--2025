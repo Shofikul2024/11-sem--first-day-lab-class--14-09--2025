{
 "cells": [
  {
   "cell_type": "code",
   "execution_count": null,
   "id": "0007406d",
   "metadata": {},
   "outputs": [],
   "source": []
  },
  {
   "cell_type": "code",
   "execution_count": 119,
   "id": "fb516119",
   "metadata": {},
   "outputs": [
    {
     "name": "stdout",
     "output_type": "stream",
     "text": [
      "The given name is shofikul islam\n"
     ]
    }
   ],
   "source": [
    "def print_my_name(myname):\n",
    "    # This will print the given name\n",
    "    print('The given name is', myname)\n",
    " \n",
    "print_my_name('shofikul islam')"
   ]
  },
  {
   "cell_type": "code",
   "execution_count": null,
   "id": "7286f527",
   "metadata": {},
   "outputs": [],
   "source": []
  },
  {
   "cell_type": "code",
   "execution_count": 120,
   "id": "95e26207",
   "metadata": {},
   "outputs": [
    {
     "name": "stdout",
     "output_type": "stream",
     "text": [
      "The given name is shofikul islam\n"
     ]
    }
   ],
   "source": [
    "def print_my_name(myname):\n",
    "    # This will print the given name\n",
    "    print('The given name is', myname)\n",
    "    return\n",
    "print_my_name('shofikul islam')"
   ]
  },
  {
   "cell_type": "code",
   "execution_count": null,
   "id": "8d623fe3",
   "metadata": {},
   "outputs": [],
   "source": []
  },
  {
   "cell_type": "code",
   "execution_count": 121,
   "id": "31d90061",
   "metadata": {},
   "outputs": [
    {
     "name": "stdout",
     "output_type": "stream",
     "text": [
      "The given name is shofikul islam\n"
     ]
    }
   ],
   "source": [
    "def myName(myname):\n",
    "    \n",
    "    print('The given name is', myname)\n",
    " \n",
    "myName('shofikul islam')"
   ]
  },
  {
   "cell_type": "code",
   "execution_count": 122,
   "id": "a0f5c9d8",
   "metadata": {},
   "outputs": [
    {
     "name": "stdout",
     "output_type": "stream",
     "text": [
      "The given name is shofikul islam\n"
     ]
    }
   ],
   "source": [
    "def myName(myname):\n",
    "    \n",
    "    print('The given name is', myname)  \n",
    "myName('shofikul islam')\n",
    "  "
   ]
  },
  {
   "cell_type": "code",
   "execution_count": 123,
   "id": "4bd10ecb",
   "metadata": {},
   "outputs": [
    {
     "name": "stdout",
     "output_type": "stream",
     "text": [
      "My full name is: shofikul islam\n"
     ]
    }
   ],
   "source": [
    "def myName(myname):\n",
    "    \n",
    "    print('My full name is:', myname)  \n",
    " \n",
    "myName('shofikul islam')\n",
    "  "
   ]
  },
  {
   "cell_type": "code",
   "execution_count": null,
   "id": "dc8d1f10",
   "metadata": {},
   "outputs": [],
   "source": []
  },
  {
   "cell_type": "code",
   "execution_count": 124,
   "id": "61700d2d",
   "metadata": {},
   "outputs": [
    {
     "name": "stdout",
     "output_type": "stream",
     "text": [
      "60\n"
     ]
    }
   ],
   "source": [
    "# কি-ওয়ার্ড আর্গুমেন্ট (Keyword argument) \n",
    "\n",
    "'''' \n",
    "\n",
    "এবার আমরা ফাংশনে ভ্যালু পাস করেছি \n",
    "এভাবে: b=2, c=3, a=1। পজিশনাললি নয়, বরং \n",
    "কোনটার মান কত হবে তা সরাসরি বলে দিয়েছি। এভাবে\n",
    "কি-ওয়ার্ড আর্গুমেন্ট ব্যবহার করার একটা সুবিধা রয়েছে,\n",
    "বিশেষ করে অনেকগুলো আর্গুমেন্ট ব্যবহার করার সময়\n",
    ", আর্গুমেন্টের ধারাবাহিকতা রক্ষা করার দরকার পড়ে না।\n",
    "\n",
    "'''\n",
    "\n",
    "def add(x, y, z):\n",
    "    return x +y+z\n",
    "result = add(10, 20, 30)\n",
    "print(result)\n",
    "\n"
   ]
  },
  {
   "cell_type": "code",
   "execution_count": 125,
   "id": "6526610a",
   "metadata": {},
   "outputs": [
    {
     "name": "stdout",
     "output_type": "stream",
     "text": [
      "6\n"
     ]
    }
   ],
   "source": [
    "# ডিফল্ট আর্গুমেন্ট (Default argument) \n",
    "\n",
    "''' \n",
    "তিন নাম্বার লাইনটা বিবেচনা করা যাক। আমরা কিন্তু প্যারামিটার হিসাবে এবার দুইটা ভ্যালু পাস করেছি। অথচ ফাংশনটা তিনটা প্যারামিটার নেয়। তারপরও কোন এরর থ্রো করে নাই। কারণ হল, আমরা c এর ভ্যালু ডিফল্টভাবে 3 দিয়ে দিয়েছি। এতে যদি c এর জন্য কোন ভ্যালু পাস করা না হয় তবে ডিফল্ট ভ্যালু 3 নিয়েই ফাংশন কাজ করবে। আর যদি কোন ভ্যালু পাস করা হয় তবে ঐ ভ্যালুটা নিয়ে ফাংশন কাজ করবে। আরেকটা উদাহরণ দিলেই ব্যাপারটা পরিষ্কার হয়ে যাবে।\n",
    "'''\n",
    "\n",
    "\n",
    "def add(x, y, z=3):\n",
    "    return x +y+z\n",
    "result = add(1, 2)\n",
    "print(result)"
   ]
  },
  {
   "cell_type": "code",
   "execution_count": 126,
   "id": "c79ae040",
   "metadata": {},
   "outputs": [
    {
     "name": "stdout",
     "output_type": "stream",
     "text": [
      "<class 'tuple'>\n",
      "173\n"
     ]
    }
   ],
   "source": [
    "# ভ্যারিয়েবল লেংথ আর্গুমেন্ট (Variable-length argument) \n",
    "\n",
    "\n",
    "\n",
    "'''\n",
    "\n",
    "আমরা যে add() ফাংশনটা লিখলাম সেটাতে কিন্তু একটা ভয়ানক দোষ আছে। আমরা তিনটা মাত্র প্যারামিটার দিয়েছি। ফলে মাত্র তিনটা সংখ্যা যোগ করতে পারব। কিন্তু আমাদের ইউজার ঠিক কয়টা সংখ্যা দেবে তা কি আমরা জানি? জানিনা। তাই আমা\n",
    "\n",
    " '''\n",
    "\n",
    "\n",
    "def add(*args):\n",
    "    print(type(args))\n",
    "    tmp = 0\n",
    "    for number in args:\n",
    "        tmp = tmp + number\n",
    "    return tmp\n",
    "temp = add(1, 2, 22, 12, 17, 21, 98)\n",
    "print(temp)"
   ]
  },
  {
   "cell_type": "code",
   "execution_count": 127,
   "id": "19364154",
   "metadata": {},
   "outputs": [
    {
     "name": "stdout",
     "output_type": "stream",
     "text": [
      "Hello\n",
      "Welcome\n",
      "to\n",
      "GeeksforGeeks\n"
     ]
    }
   ],
   "source": [
    "# variable_length  arguments argument\n",
    "def myFun(*argv):\n",
    "    for arg in argv:\n",
    "        print(arg) \n",
    "          \n",
    "myFun('Hello', 'Welcome', 'to', 'GeeksforGeeks')\n",
    "\n",
    "\n",
    "def myFun(*argv):\n",
    "    for arg in argv:\n",
    "        print(arg)"
   ]
  },
  {
   "cell_type": "code",
   "execution_count": 128,
   "id": "d94a2be3",
   "metadata": {},
   "outputs": [
    {
     "name": "stdout",
     "output_type": "stream",
     "text": [
      "173\n"
     ]
    }
   ],
   "source": [
    "# variable length arguments\n",
    "\n",
    "'''\n",
    "ফাংশনের যেকোন প্যারামিটারের আগে একটা অ্যাসটেরিস্ক * চিহ্ন দিলে সেটা আনলিমিটেড ভ্যালু হোল্ড করতে পারে। জেনে রাখা ভাল, এই প্যারামিটারটা একটা টাপল তৈরি করে সবগুলো ভ্যালু হোল্ড করে। পরে একটা for লুপ চালিয়ে আমরা সবগুলো ভ্যালু অ্যাক্সেস করতে পারি। এটাকে নন-কীওয়ার্ডেড (non-keyworded) ভ্যারিয়েবল লেংথ আর্গুমেন্ট বলা হয়।\n",
    "\n",
    "'''\n",
    "\n",
    "def  add(*args):\n",
    "    tmp=0\n",
    "    for number in args:\n",
    "        tmp= tmp + number        \n",
    "\n",
    "    return tmp\n",
    "temp=add(1, 2, 22, 12, 17, 21, 98)\n",
    "print(temp)\n"
   ]
  },
  {
   "cell_type": "code",
   "execution_count": null,
   "id": "789dd7cc",
   "metadata": {},
   "outputs": [],
   "source": [
    "\n"
   ]
  },
  {
   "cell_type": "code",
   "execution_count": 129,
   "id": "060f0ba3",
   "metadata": {},
   "outputs": [
    {
     "name": "stdout",
     "output_type": "stream",
     "text": [
      "10\n"
     ]
    }
   ],
   "source": [
    "\n",
    "'''\n",
    "\n",
    "যদি আমরা কি-ওয়ার্ড আর্গুমেন্ট পাস করতে চাইতাম? তখন প্যারামিটারের আগে দুইটা অ্যাসটেরিস্ক * চিহ্ন দিতে হত। এটাকে কীওয়ার্ডেড (keyworded) ভ্যারিয়েবল লেংথ আর্গুমেন্ট বলা হয়। এই প্যারামিটারটা একটা ডিকশনারি তৈরি করে সবগুলো ভ্যালু হোল্ড করে। যেমন:\n",
    "\n",
    "'''\n",
    "\n",
    "def add(**kwargs):\n",
    "     \n",
    "    tmp = 0\n",
    "    for key in kwargs:\n",
    "        tmp = tmp + kwargs[key]\n",
    "    return tmp\n",
    "temp = add(a=1, b=2, c=3, d=4)\n",
    "print(temp)"
   ]
  },
  {
   "cell_type": "code",
   "execution_count": null,
   "id": "21970f3f",
   "metadata": {},
   "outputs": [],
   "source": []
  },
  {
   "cell_type": "code",
   "execution_count": 130,
   "id": "22873257",
   "metadata": {},
   "outputs": [
    {
     "data": {
      "text/plain": [
       "6"
      ]
     },
     "execution_count": 130,
     "metadata": {},
     "output_type": "execute_result"
    }
   ],
   "source": [
    "def add(a, b, c):\n",
    "    return a+b+c\n",
    "add(1, 2, 3)\n",
    " "
   ]
  },
  {
   "cell_type": "code",
   "execution_count": 131,
   "id": "61a96160",
   "metadata": {},
   "outputs": [
    {
     "data": {
      "text/plain": [
       "6"
      ]
     },
     "execution_count": 131,
     "metadata": {},
     "output_type": "execute_result"
    }
   ],
   "source": [
    "# required arguments   \n",
    "\n",
    "def add(a, b, c):\n",
    "    return a+b+c    \n",
    "add(1, 2, 3)"
   ]
  },
  {
   "cell_type": "code",
   "execution_count": 132,
   "id": "43b3e501",
   "metadata": {},
   "outputs": [
    {
     "name": "stdout",
     "output_type": "stream",
     "text": [
      "6\n"
     ]
    }
   ],
   "source": [
    "# required arguments   \n",
    "\n",
    "def add(a, b, c):\n",
    "\n",
    "    total=a+b+c    \n",
    "    print(total)\n",
    "add(1, 2, 3)\n"
   ]
  },
  {
   "cell_type": "code",
   "execution_count": 133,
   "id": "d51115e4",
   "metadata": {},
   "outputs": [],
   "source": [
    "# keyword arguments        \n",
    "\n",
    "# def add(a, b, c):\n",
    "#     total=a+b+c    \n",
    "#     print(total)\n",
    "# add(  a=4, b=5, c=6)"
   ]
  },
  {
   "cell_type": "code",
   "execution_count": 134,
   "id": "a645059a",
   "metadata": {},
   "outputs": [
    {
     "name": "stdout",
     "output_type": "stream",
     "text": [
      "30\n",
      "30\n"
     ]
    }
   ],
   "source": [
    "# এক লাইনের ফাংশন - ল্যাম্বডা (lambda)\n",
    "\n",
    "\n",
    "sum = lambda a, b : a + b\n",
    "print(sum(10, 20))\n",
    "print((lambda a, b : a + b)(10, 20))"
   ]
  },
  {
   "cell_type": "code",
   "execution_count": null,
   "id": "04ce0c30",
   "metadata": {},
   "outputs": [],
   "source": [
    " "
   ]
  },
  {
   "cell_type": "code",
   "execution_count": 135,
   "id": "1aafa28c",
   "metadata": {},
   "outputs": [
    {
     "name": "stdout",
     "output_type": "stream",
     "text": [
      "<map object at 0x000001384744F5E0>\n",
      "[4, 9, 16, 25, 36, 49]\n"
     ]
    }
   ],
   "source": [
    "my_list = [2, 3, 4, 5, 6, 7]\n",
    "\n",
    "def square(x):\n",
    "    return x * x\n",
    "\n",
    "new_list = map(square, my_list)\n",
    "print(new_list)\n",
    "print(list(new_list))"
   ]
  },
  {
   "cell_type": "code",
   "execution_count": 136,
   "id": "75fc2aae",
   "metadata": {},
   "outputs": [
    {
     "name": "stdout",
     "output_type": "stream",
     "text": [
      "30\n"
     ]
    }
   ],
   "source": [
    "# function  ic  12  start \n",
    "\n",
    "def myFun():\n",
    "    x=10\n",
    "    y=20\n",
    "    print(x+y)\n",
    "\n",
    "myFun()"
   ]
  },
  {
   "cell_type": "code",
   "execution_count": 137,
   "id": "635b85af",
   "metadata": {},
   "outputs": [
    {
     "name": "stdout",
     "output_type": "stream",
     "text": [
      "50\n"
     ]
    }
   ],
   "source": [
    "def myFun():\n",
    "    x=20\n",
    "    y=30\n",
    "    print(x+y)\n",
    "\n",
    "myFun()"
   ]
  },
  {
   "cell_type": "code",
   "execution_count": 138,
   "id": "5fae4768",
   "metadata": {},
   "outputs": [
    {
     "data": {
      "text/plain": [
       "\"\\n\\n1. What is function ?\\n2. How to Write & Call function?\\n3. Real World Use Case?\\n    - Function=Action\\n    - Code Reusability\\n    - Modular\\n    - Data Process\\n    - Event=Action\\n    - Validation\\n    - Testing\\n    - User input,output\\n\\n4. Functional Programming\\n\\n5. Function Parameter\\n        - General Parameter\\n        - Required and Optional Parameter\\n        - Length Parameter/ Rest Parameter/ Tuple Parameter=> Create a Tuple\\n        - Keyword Parameter/ Dic Parameter=> Create a Dic\\n\\n6. Function Return\\n    - একটি ফাংশন যাহা রিটার্ন করে , গুনে ও মানে তাহার সমান হয়ে যায় ।\\n    - Function Return int=Function()\\n    - Function Return list/set/dic/bool/str=Function()\\n    - Single Return\\n    - Multiple Return (Create a Tuple)\\n    - Return\\n\\n7. Local & Global Variables in Function\\n        - How Local Works যেই ফাংশনের ভেতরে ভেরিয়েবল লিখেছি , সেটা শুধু মাত্র তাহার জন্যেই কাজ করে । \\n        - How Global Works মুক্ত স্বাধীন বাইরে রাখা ভেরিয়েবল\\n\\n\\n8. Inline Function or Short Hand Function or Lamda Function\\n    - Simple 1/2 Line Calculation\\n    - map/ filter/ sort\\n    - minor case\\n    - not for complex\\n\\n\\n9. Arrow Function ()=>{}\\n    - Python doesn't has this\\n\\n\\n10. Recursive Function\\n    - যে ফাংশন নিজেই নিজেকে কল করে\\n\\n11. Call Back Function\\n    - ফাংশনের প্যারামিটার যাহা নিজেই একটি ফাংশন\\n\\n\\n\\n\""
      ]
     },
     "execution_count": 138,
     "metadata": {},
     "output_type": "execute_result"
    }
   ],
   "source": [
    "'''\n",
    "\n",
    "1. What is function ?\n",
    "2. How to Write & Call function?\n",
    "3. Real World Use Case?\n",
    "    - Function=Action\n",
    "    - Code Reusability\n",
    "    - Modular\n",
    "    - Data Process\n",
    "    - Event=Action\n",
    "    - Validation\n",
    "    - Testing\n",
    "    - User input,output\n",
    "\n",
    "4. Functional Programming\n",
    "\n",
    "5. Function Parameter\n",
    "        - General Parameter\n",
    "        - Required and Optional Parameter\n",
    "        - Length Parameter/ Rest Parameter/ Tuple Parameter=> Create a Tuple\n",
    "        - Keyword Parameter/ Dic Parameter=> Create a Dic\n",
    "\n",
    "6. Function Return\n",
    "    - একটি ফাংশন যাহা রিটার্ন করে , গুনে ও মানে তাহার সমান হয়ে যায় ।\n",
    "    - Function Return int=Function()\n",
    "    - Function Return list/set/dic/bool/str=Function()\n",
    "    - Single Return\n",
    "    - Multiple Return (Create a Tuple)\n",
    "    - Return\n",
    "\n",
    "7. Local & Global Variables in Function\n",
    "        - How Local Works যেই ফাংশনের ভেতরে ভেরিয়েবল লিখেছি , সেটা শুধু মাত্র তাহার জন্যেই কাজ করে । \n",
    "        - How Global Works মুক্ত স্বাধীন বাইরে রাখা ভেরিয়েবল\n",
    "\n",
    "\n",
    "8. Inline Function or Short Hand Function or Lamda Function\n",
    "    - Simple 1/2 Line Calculation\n",
    "    - map/ filter/ sort\n",
    "    - minor case\n",
    "    - not for complex\n",
    "\n",
    "\n",
    "9. Arrow Function ()=>{}\n",
    "    - Python doesn't has this\n",
    "\n",
    "\n",
    "10. Recursive Function\n",
    "    - যে ফাংশন নিজেই নিজেকে কল করে\n",
    "\n",
    "11. Call Back Function\n",
    "    - ফাংশনের প্যারামিটার যাহা নিজেই একটি ফাংশন\n",
    "\n",
    "\n",
    "\n",
    "'''"
   ]
  },
  {
   "cell_type": "code",
   "execution_count": 139,
   "id": "340f4459",
   "metadata": {},
   "outputs": [
    {
     "name": "stdout",
     "output_type": "stream",
     "text": [
      "10 20\n",
      "30 40\n",
      "50 60\n"
     ]
    }
   ],
   "source": [
    "def myFun(x, y):\n",
    "    print(x,y)\n",
    "myFun(10, 20)\n",
    "myFun(30, 40)\n",
    "myFun(50, 60)"
   ]
  },
  {
   "cell_type": "code",
   "execution_count": 140,
   "id": "576fc473",
   "metadata": {},
   "outputs": [
    {
     "name": "stdout",
     "output_type": "stream",
     "text": [
      "30\n",
      "70\n",
      "110\n"
     ]
    }
   ],
   "source": [
    "def myFun(x, y):\n",
    "    print(x+ y)\n",
    "myFun(10, 20)\n",
    "myFun(30, 40)\n",
    "myFun(50, 60)"
   ]
  },
  {
   "cell_type": "code",
   "execution_count": 141,
   "id": "3c078a41",
   "metadata": {},
   "outputs": [
    {
     "name": "stdout",
     "output_type": "stream",
     "text": [
      "90\n"
     ]
    }
   ],
   "source": [
    "# default arguments here  y , z \n",
    "def myFun(x,y=400,z=100):\n",
    "    print( x+ y+z)\n",
    "myFun(10, 30, 50)"
   ]
  },
  {
   "cell_type": "code",
   "execution_count": 142,
   "id": "20732bbd",
   "metadata": {},
   "outputs": [
    {
     "name": "stdout",
     "output_type": "stream",
     "text": [
      "()\n",
      "(10,)\n",
      "(10, 20)\n",
      "(10, 20, 30)\n",
      "(10, 20, 30, 40)\n",
      "('x', 'A', ' b', '1', '2')\n"
     ]
    }
   ],
   "source": [
    "# ভ্যারিয়েবল লেংথ আর্গুমেন্ট (Variable-length argument) \n",
    "\n",
    "'''  \n",
    "\n",
    "ফাংশনের যেকোন প্যারামিটারের আগে একটা অ্যাসটেরিস্ক * চিহ্ন দিলে সেটা আনলিমিটেড ভ্যালু হোল্ড করতে পারে। জেনে রাখা ভাল, এই প্যারামিটারটা একটা টাপল তৈরি করে সবগুলো ভ্যালু হোল্ড করে। পরে একটা for লুপ চালিয়ে আমরা সবগুলো ভ্যালু অ্যাক্সেস করতে পারি। এটাকে নন-কীওয়ার্ডেড (non-keyworded) ভ্যারিয়েবল লেংথ আর্গুমেন্ট বলা হয়।\n",
    "\n",
    "'''\n",
    "\n",
    "def myFun(*args):\n",
    "    print(args)\n",
    "\n",
    "\n",
    "\n",
    "myFun()\n",
    "myFun(10)\n",
    "myFun(10, 20)\n",
    "\n",
    "myFun(10, 20, 30)\n",
    "myFun(10, 20, 30, 40)\n",
    "myFun(\"x\",\"A\",\" b\",\"1\",\"2\")"
   ]
  },
  {
   "cell_type": "code",
   "execution_count": 143,
   "id": "741d70dc",
   "metadata": {},
   "outputs": [
    {
     "name": "stdout",
     "output_type": "stream",
     "text": [
      "()\n",
      "(10,)\n",
      "(10, 20)\n",
      "(10, 20, 30)\n",
      "(10, 20, 30, 40)\n",
      "('A', 'B', 1, 2)\n"
     ]
    },
    {
     "ename": "NameError",
     "evalue": "name 'x' is not defined",
     "output_type": "error",
     "traceback": [
      "\u001b[31m---------------------------------------------------------------------------\u001b[39m",
      "\u001b[31mNameError\u001b[39m                                 Traceback (most recent call last)",
      "\u001b[36mCell\u001b[39m\u001b[36m \u001b[39m\u001b[32mIn[143]\u001b[39m\u001b[32m, line 12\u001b[39m\n\u001b[32m      9\u001b[39m myFun(\u001b[32m10\u001b[39m,\u001b[32m20\u001b[39m,\u001b[32m30\u001b[39m,\u001b[32m40\u001b[39m)\n\u001b[32m     10\u001b[39m myFun(\u001b[33m\"\u001b[39m\u001b[33mA\u001b[39m\u001b[33m\"\u001b[39m,\u001b[33m\"\u001b[39m\u001b[33mB\u001b[39m\u001b[33m\"\u001b[39m,\u001b[32m1\u001b[39m,\u001b[32m2\u001b[39m)\n\u001b[32m---> \u001b[39m\u001b[32m12\u001b[39m \u001b[38;5;28mprint\u001b[39m(\u001b[38;5;28mtype\u001b[39m(\u001b[43mx\u001b[49m))\n",
      "\u001b[31mNameError\u001b[39m: name 'x' is not defined"
     ]
    }
   ],
   "source": [
    "def myFun(*x):\n",
    "    print(x)\n",
    "\n",
    "\n",
    "myFun()\n",
    "myFun(10)\n",
    "myFun(10,20)\n",
    "myFun(10,20,30)\n",
    "myFun(10,20,30,40)\n",
    "myFun(\"A\",\"B\",1,2)\n",
    "\n",
    "print(type(x))\n",
    "\n"
   ]
  },
  {
   "cell_type": "code",
   "execution_count": null,
   "id": "92bd9aeb",
   "metadata": {},
   "outputs": [],
   "source": []
  },
  {
   "cell_type": "code",
   "execution_count": null,
   "id": "dcdcb9a2",
   "metadata": {},
   "outputs": [
    {
     "name": "stdout",
     "output_type": "stream",
     "text": [
      "{'name': 'shofikul', 'age': 25, 'city': 'Dhaka'}\n"
     ]
    }
   ],
   "source": [
    "''' \n",
    "যদি আমরা কি-ওয়ার্ড আর্গুমেন্ট পাস করতে চাইতাম? তখন প্যারামিটারের আগে দুইটা অ্যাসটেরিস্ক * চিহ্ন দিতে হত। এটাকে কীওয়ার্ডেড (keyworded) ভ্যারিয়েবল লেংথ আর্গুমেন্ট বলা হয়। এই প্যারামিটারটা একটা ডিকশনারি তৈরি করে সবগুলো ভ্যালু হোল্ড করে। যেমন:\n",
    "\n",
    "'''\n",
    "def myFun(**x):\n",
    "    print(x)\n",
    "\n",
    "\n",
    "myFun(name=\"shofikul\", age=25, city=\"Dhaka\"  )"
   ]
  },
  {
   "cell_type": "code",
   "execution_count": null,
   "id": "5b066624",
   "metadata": {},
   "outputs": [
    {
     "name": "stdout",
     "output_type": "stream",
     "text": [
      "{'name': 'RABBI', 'age': 35, 'city': 'Dhaka'}\n"
     ]
    }
   ],
   "source": [
    "def myFun(**x):\n",
    "    print(x)\n",
    "\n",
    "\n",
    "myFun(name=\"RABBI\",age=35,city=\"Dhaka\")\n",
    "\n",
    "\n",
    "\n"
   ]
  },
  {
   "cell_type": "code",
   "execution_count": null,
   "id": "1745dd38",
   "metadata": {},
   "outputs": [],
   "source": []
  },
  {
   "cell_type": "code",
   "execution_count": null,
   "id": "f74cdeda",
   "metadata": {},
   "outputs": [
    {
     "name": "stdout",
     "output_type": "stream",
     "text": [
      "('ban', 'india', 'pakistan')\n"
     ]
    }
   ],
   "source": [
    "# একটি ফাংশন যাহা রিটার্ন করে , গুনে ও মানে তাহার সমান হয়ে যায় ।\n",
    "\n",
    "def demoFun():\n",
    "    name=\"shofikul\"\n",
    "    age=25\n",
    "    height=5.6\n",
    "    city=\"Dhaka\"\n",
    "    country= (\"ban\" ,\"india\",\"pakistan\" )\n",
    "    return country\n",
    "result=demoFun()\n",
    "print(result)   "
   ]
  },
  {
   "cell_type": "code",
   "execution_count": null,
   "id": "842645dd",
   "metadata": {},
   "outputs": [
    {
     "name": "stdout",
     "output_type": "stream",
     "text": [
      "('Ban', 'Ind', 'Pak')\n"
     ]
    }
   ],
   "source": [
    "def demoFun():\n",
    "    name=\"Rabbi\"\n",
    "    age=35\n",
    "    height=5.8\n",
    "    city=[\"Dhaka\",\"Ctg\",\"Rang\"]\n",
    "    country=(\"Ban\",\"Ind\",\"Pak\")\n",
    "\n",
    "    return country\n",
    "\n",
    "\n",
    "result = demoFun()\n",
    "print(result)\n",
    "\n",
    "\n"
   ]
  },
  {
   "cell_type": "code",
   "execution_count": null,
   "id": "eb6fc4b9",
   "metadata": {},
   "outputs": [
    {
     "name": "stdout",
     "output_type": "stream",
     "text": [
      "('ban', 'india', 'pakistan')\n"
     ]
    }
   ],
   "source": [
    "def demoFun():\n",
    "    name=\"Rabbi\"\n",
    "    age=35\n",
    "    height=5.8\n",
    "    city=[\"Dhaka\",\"Ctg\",\"Rang\"]\n",
    "    country=(\"Ban\",\"Ind\",\"Pak\")\n",
    "\n",
    "    return country\n",
    "\n",
    "\n",
    "    result = demoFun()\n",
    "print(result)\n",
    "\n"
   ]
  },
  {
   "cell_type": "code",
   "execution_count": null,
   "id": "316c13e3",
   "metadata": {},
   "outputs": [
    {
     "name": "stdout",
     "output_type": "stream",
     "text": [
      "('shofikul', 23, 5.8, ['Dhaka', 'Ctg', 'Rang'], ('Ban', 'Ind', 'Pak'))\n"
     ]
    }
   ],
   "source": [
    "\n",
    "def demoFun():\n",
    "    name=\"shofikul\"\n",
    "    age=23\n",
    "    height=5.8\n",
    "    city=[\"Dhaka\",\"Ctg\",\"Rang\"]\n",
    "    country=(\"Ban\",\"Ind\",\"Pak\")\n",
    "\n",
    "    return name,age,height,city,country\n",
    "\n",
    "\n",
    "result = demoFun()\n",
    "print(result)\n"
   ]
  },
  {
   "cell_type": "code",
   "execution_count": null,
   "id": "a75a56b7",
   "metadata": {},
   "outputs": [
    {
     "name": "stdout",
     "output_type": "stream",
     "text": [
      "('shofikul', 23, 5.8, ['Dhaka', 'Ctg', 'Rang'], ('Ban', 'Ind', 'Pak'))\n"
     ]
    }
   ],
   "source": [
    "def demoFun():\n",
    "    name=\"shofikul\"\n",
    "    age=23\n",
    "    height=5.8\n",
    "    city=[\"Dhaka\",\"Ctg\",\"Rang\"]\n",
    "    country=(\"Ban\",\"Ind\",\"Pak\")\n",
    "    return name,age,height,city,country\n",
    "result = demoFun()\n",
    "print(result)"
   ]
  },
  {
   "cell_type": "code",
   "execution_count": null,
   "id": "c73f2b96",
   "metadata": {},
   "outputs": [
    {
     "name": "stdout",
     "output_type": "stream",
     "text": [
      "103\n",
      "113\n",
      "112\n"
     ]
    }
   ],
   "source": [
    "a=100\n",
    "\n",
    "def Fun1():\n",
    "    x=1\n",
    "    y=2\n",
    "    print(x+y+a)\n",
    "\n",
    " \n",
    "def Fun2():\n",
    "    x=5\n",
    "    y=8\n",
    "    print(x+y+a)\n",
    "\n",
    " \n",
    "def Fun3():\n",
    "    x=3\n",
    "    y=9\n",
    "    print(x+y+a)\n",
    "\n",
    "Fun1()\n",
    "Fun2()\n",
    "Fun3()"
   ]
  },
  {
   "cell_type": "code",
   "execution_count": null,
   "id": "b6ac44c9",
   "metadata": {},
   "outputs": [
    {
     "name": "stdout",
     "output_type": "stream",
     "text": [
      "30\n"
     ]
    }
   ],
   "source": [
    "\n",
    "# Inline\n",
    "# Auto Return\n",
    "\n",
    "myFun = lambda x , y :  x + y\n",
    "print(myFun(10,20))"
   ]
  },
  {
   "cell_type": "code",
   "execution_count": null,
   "id": "fd499abc",
   "metadata": {},
   "outputs": [],
   "source": [
    "myFun=lamda x , y :  x + y\n",
    "print(myFun(10,20)) "
   ]
  },
  {
   "cell_type": "code",
   "execution_count": null,
   "id": "3efe1ec7",
   "metadata": {},
   "outputs": [],
   "source": [
    "# 5*4*3*2*1=> Factorial\n",
    "# 100*.........5*4*3*2*1\n",
    "# 100+.........5+4+3+2+1\n",
    "\n",
    "\n",
    "def Factorial(x):\n",
    "    if x==0:\n",
    "        return 1\n",
    "    print(x)\n",
    "    return x * Factorial(x-1)\n",
    "\n",
    "\n",
    "print(Factorial(5))\n"
   ]
  },
  {
   "cell_type": "code",
   "execution_count": null,
   "id": "d1a4847f",
   "metadata": {},
   "outputs": [],
   "source": [
    "# Write a function for add 2 numbers\n",
    "# Write another function to print the result\n",
    "\n",
    "\n",
    "def addTwo(x,y):\n",
    "    return x+y\n",
    "\n",
    "\n",
    "def showResult(callback):\n",
    "\n",
    "    print(callback)\n",
    "    print(type(callback))\n",
    "\n",
    "\n",
    "showResult(addTwo(10,20))\n"
   ]
  },
  {
   "cell_type": "code",
   "execution_count": null,
   "id": "04680446",
   "metadata": {},
   "outputs": [],
   "source": []
  },
  {
   "cell_type": "code",
   "execution_count": null,
   "id": "1f4ad105",
   "metadata": {},
   "outputs": [],
   "source": []
  },
  {
   "cell_type": "code",
   "execution_count": null,
   "id": "98e50d19",
   "metadata": {},
   "outputs": [],
   "source": []
  },
  {
   "cell_type": "code",
   "execution_count": null,
   "id": "437c5516",
   "metadata": {},
   "outputs": [],
   "source": []
  },
  {
   "cell_type": "code",
   "execution_count": null,
   "id": "46468bac",
   "metadata": {},
   "outputs": [],
   "source": []
  },
  {
   "cell_type": "code",
   "execution_count": null,
   "id": "3ed82af0",
   "metadata": {},
   "outputs": [],
   "source": []
  },
  {
   "cell_type": "code",
   "execution_count": null,
   "id": "606e50de",
   "metadata": {},
   "outputs": [],
   "source": []
  },
  {
   "cell_type": "code",
   "execution_count": null,
   "id": "1274a961",
   "metadata": {},
   "outputs": [],
   "source": []
  },
  {
   "cell_type": "code",
   "execution_count": null,
   "id": "45b106d6",
   "metadata": {},
   "outputs": [],
   "source": []
  },
  {
   "cell_type": "code",
   "execution_count": null,
   "id": "9ef7583d",
   "metadata": {},
   "outputs": [],
   "source": []
  },
  {
   "cell_type": "code",
   "execution_count": null,
   "id": "920945aa",
   "metadata": {},
   "outputs": [],
   "source": []
  },
  {
   "cell_type": "code",
   "execution_count": null,
   "id": "e36fc8f4",
   "metadata": {},
   "outputs": [],
   "source": []
  },
  {
   "cell_type": "code",
   "execution_count": null,
   "id": "3ece90bf",
   "metadata": {},
   "outputs": [],
   "source": []
  },
  {
   "cell_type": "code",
   "execution_count": null,
   "id": "288bfc2b",
   "metadata": {},
   "outputs": [],
   "source": []
  }
 ],
 "metadata": {
  "kernelspec": {
   "display_name": "Python 3",
   "language": "python",
   "name": "python3"
  },
  "language_info": {
   "codemirror_mode": {
    "name": "ipython",
    "version": 3
   },
   "file_extension": ".py",
   "mimetype": "text/x-python",
   "name": "python",
   "nbconvert_exporter": "python",
   "pygments_lexer": "ipython3",
   "version": "3.13.7"
  }
 },
 "nbformat": 4,
 "nbformat_minor": 5
}
