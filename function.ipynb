{
 "cells": [
  {
   "cell_type": "code",
   "execution_count": null,
   "id": "0007406d",
   "metadata": {},
   "outputs": [],
   "source": []
  },
  {
   "cell_type": "code",
   "execution_count": 23,
   "id": "fb516119",
   "metadata": {},
   "outputs": [
    {
     "name": "stdout",
     "output_type": "stream",
     "text": [
      "The given name is shofikul islam\n"
     ]
    }
   ],
   "source": [
    "def print_my_name(myname):\n",
    "    # This will print the given name\n",
    "    print('The given name is', myname)\n",
    " \n",
    "print_my_name('shofikul islam')"
   ]
  },
  {
   "cell_type": "code",
   "execution_count": null,
   "id": "7286f527",
   "metadata": {},
   "outputs": [],
   "source": []
  },
  {
   "cell_type": "code",
   "execution_count": 24,
   "id": "95e26207",
   "metadata": {},
   "outputs": [
    {
     "name": "stdout",
     "output_type": "stream",
     "text": [
      "The given name is shofikul islam\n"
     ]
    }
   ],
   "source": [
    "def print_my_name(myname):\n",
    "    # This will print the given name\n",
    "    print('The given name is', myname)\n",
    "    return\n",
    "print_my_name('shofikul islam')"
   ]
  },
  {
   "cell_type": "code",
   "execution_count": null,
   "id": "e0803d43",
   "metadata": {},
   "outputs": [],
   "source": []
  },
  {
   "cell_type": "code",
   "execution_count": null,
   "id": "8d623fe3",
   "metadata": {},
   "outputs": [],
   "source": []
  },
  {
   "cell_type": "code",
   "execution_count": 25,
   "id": "31d90061",
   "metadata": {},
   "outputs": [
    {
     "name": "stdout",
     "output_type": "stream",
     "text": [
      "The given name is shofikul islam\n"
     ]
    }
   ],
   "source": [
    "def myName(myname):\n",
    "    \n",
    "    print('The given name is', myname)\n",
    " \n",
    "myName('shofikul islam')"
   ]
  },
  {
   "cell_type": "code",
   "execution_count": 26,
   "id": "a0f5c9d8",
   "metadata": {},
   "outputs": [
    {
     "name": "stdout",
     "output_type": "stream",
     "text": [
      "The given name is shofikul islam\n"
     ]
    }
   ],
   "source": [
    "def myName(myname):\n",
    "    \n",
    "    print('The given name is', myname)  \n",
    "myName('shofikul islam')\n",
    "  "
   ]
  },
  {
   "cell_type": "code",
   "execution_count": 27,
   "id": "4bd10ecb",
   "metadata": {},
   "outputs": [
    {
     "name": "stdout",
     "output_type": "stream",
     "text": [
      "My full name is: shofikul islam\n"
     ]
    }
   ],
   "source": [
    "def myName(myname):\n",
    "    \n",
    "    print('My full name is:', myname)  \n",
    " \n",
    "myName('shofikul islam')\n",
    "  "
   ]
  },
  {
   "cell_type": "code",
   "execution_count": null,
   "id": "dc8d1f10",
   "metadata": {},
   "outputs": [],
   "source": []
  },
  {
   "cell_type": "code",
   "execution_count": 28,
   "id": "61700d2d",
   "metadata": {},
   "outputs": [
    {
     "name": "stdout",
     "output_type": "stream",
     "text": [
      "60\n"
     ]
    }
   ],
   "source": [
    "# কি-ওয়ার্ড আর্গুমেন্ট (Keyword argument) \n",
    "\n",
    "'''' \n",
    "\n",
    "এবার আমরা ফাংশনে ভ্যালু পাস করেছি \n",
    "এভাবে: b=2, c=3, a=1। পজিশনাললি নয়, বরং \n",
    "কোনটার মান কত হবে তা সরাসরি বলে দিয়েছি। এভাবে\n",
    "কি-ওয়ার্ড আর্গুমেন্ট ব্যবহার করার একটা সুবিধা রয়েছে,\n",
    "বিশেষ করে অনেকগুলো আর্গুমেন্ট ব্যবহার করার সময়\n",
    ", আর্গুমেন্টের ধারাবাহিকতা রক্ষা করার দরকার পড়ে না।\n",
    "\n",
    "'''\n",
    "\n",
    "def add(x, y, z):\n",
    "    return x +y+z\n",
    "result = add(10, 20, 30)\n",
    "print(result)\n",
    "\n"
   ]
  },
  {
   "cell_type": "code",
   "execution_count": 29,
   "id": "6526610a",
   "metadata": {},
   "outputs": [
    {
     "name": "stdout",
     "output_type": "stream",
     "text": [
      "6\n"
     ]
    }
   ],
   "source": [
    "# ডিফল্ট আর্গুমেন্ট (Default argument) \n",
    "\n",
    "''' \n",
    "তিন নাম্বার লাইনটা বিবেচনা করা যাক। আমরা কিন্তু প্যারামিটার হিসাবে এবার দুইটা ভ্যালু পাস করেছি। অথচ ফাংশনটা তিনটা প্যারামিটার নেয়। তারপরও কোন এরর থ্রো করে নাই। কারণ হল, আমরা c এর ভ্যালু ডিফল্টভাবে 3 দিয়ে দিয়েছি। এতে যদি c এর জন্য কোন ভ্যালু পাস করা না হয় তবে ডিফল্ট ভ্যালু 3 নিয়েই ফাংশন কাজ করবে। আর যদি কোন ভ্যালু পাস করা হয় তবে ঐ ভ্যালুটা নিয়ে ফাংশন কাজ করবে। আরেকটা উদাহরণ দিলেই ব্যাপারটা পরিষ্কার হয়ে যাবে।\n",
    "'''\n",
    "\n",
    "\n",
    "def add(x, y, z=3):\n",
    "    return x +y+z\n",
    "result = add(1, 2)\n",
    "print(result)"
   ]
  },
  {
   "cell_type": "code",
   "execution_count": 30,
   "id": "c79ae040",
   "metadata": {},
   "outputs": [
    {
     "name": "stdout",
     "output_type": "stream",
     "text": [
      "<class 'tuple'>\n",
      "173\n"
     ]
    }
   ],
   "source": [
    "# ভ্যারিয়েবল লেংথ আর্গুমেন্ট (Variable-length argument) \n",
    "\n",
    "\n",
    "\n",
    "'''\n",
    "\n",
    "আমরা যে add() ফাংশনটা লিখলাম সেটাতে কিন্তু একটা ভয়ানক দোষ আছে। আমরা তিনটা মাত্র প্যারামিটার দিয়েছি। ফলে মাত্র তিনটা সংখ্যা যোগ করতে পারব। কিন্তু আমাদের ইউজার ঠিক কয়টা সংখ্যা দেবে তা কি আমরা জানি? জানিনা। তাই আমা\n",
    "\n",
    " '''\n",
    "\n",
    "\n",
    "def add(*args):\n",
    "    print(type(args))\n",
    "    tmp = 0\n",
    "    for number in args:\n",
    "        tmp = tmp + number\n",
    "    return tmp\n",
    "temp = add(1, 2, 22, 12, 17, 21, 98)\n",
    "print(temp)"
   ]
  },
  {
   "cell_type": "code",
   "execution_count": 31,
   "id": "19364154",
   "metadata": {},
   "outputs": [
    {
     "name": "stdout",
     "output_type": "stream",
     "text": [
      "Hello\n",
      "Welcome\n",
      "to\n",
      "GeeksforGeeks\n"
     ]
    }
   ],
   "source": [
    "# variable_length  arguments argument\n",
    "def myFun(*argv):\n",
    "    for arg in argv:\n",
    "        print(arg) \n",
    "          \n",
    "myFun('Hello', 'Welcome', 'to', 'GeeksforGeeks')\n",
    "\n",
    "\n",
    "def myFun(*argv):\n",
    "    for arg in argv:\n",
    "        print(arg)"
   ]
  },
  {
   "cell_type": "code",
   "execution_count": 32,
   "id": "d94a2be3",
   "metadata": {},
   "outputs": [
    {
     "name": "stdout",
     "output_type": "stream",
     "text": [
      "173\n"
     ]
    }
   ],
   "source": [
    "# variable length arguments\n",
    "\n",
    "'''\n",
    "ফাংশনের যেকোন প্যারামিটারের আগে একটা অ্যাসটেরিস্ক * চিহ্ন দিলে সেটা আনলিমিটেড ভ্যালু হোল্ড করতে পারে। জেনে রাখা ভাল, এই প্যারামিটারটা একটা টাপল তৈরি করে সবগুলো ভ্যালু হোল্ড করে। পরে একটা for লুপ চালিয়ে আমরা সবগুলো ভ্যালু অ্যাক্সেস করতে পারি। এটাকে নন-কীওয়ার্ডেড (non-keyworded) ভ্যারিয়েবল লেংথ আর্গুমেন্ট বলা হয়।\n",
    "\n",
    "'''\n",
    "\n",
    "def  add(*args):\n",
    "    tmp=0\n",
    "    for number in args:\n",
    "        tmp= tmp + number        \n",
    "\n",
    "    return tmp\n",
    "temp=add(1, 2, 22, 12, 17, 21, 98)\n",
    "print(temp)\n"
   ]
  },
  {
   "cell_type": "code",
   "execution_count": null,
   "id": "789dd7cc",
   "metadata": {},
   "outputs": [],
   "source": [
    "\n"
   ]
  },
  {
   "cell_type": "code",
   "execution_count": 33,
   "id": "060f0ba3",
   "metadata": {},
   "outputs": [
    {
     "name": "stdout",
     "output_type": "stream",
     "text": [
      "10\n"
     ]
    }
   ],
   "source": [
    "\n",
    "'''\n",
    "\n",
    "যদি আমরা কি-ওয়ার্ড আর্গুমেন্ট পাস করতে চাইতাম? তখন প্যারামিটারের আগে দুইটা অ্যাসটেরিস্ক * চিহ্ন দিতে হত। এটাকে কীওয়ার্ডেড (keyworded) ভ্যারিয়েবল লেংথ আর্গুমেন্ট বলা হয়। এই প্যারামিটারটা একটা ডিকশনারি তৈরি করে সবগুলো ভ্যালু হোল্ড করে। যেমন:\n",
    "\n",
    "'''\n",
    "\n",
    "def add(**kwargs):\n",
    "     \n",
    "    tmp = 0\n",
    "    for key in kwargs:\n",
    "        tmp = tmp + kwargs[key]\n",
    "    return tmp\n",
    "temp = add(a=1, b=2, c=3, d=4)\n",
    "print(temp)"
   ]
  },
  {
   "cell_type": "code",
   "execution_count": null,
   "id": "21970f3f",
   "metadata": {},
   "outputs": [],
   "source": []
  },
  {
   "cell_type": "code",
   "execution_count": 34,
   "id": "22873257",
   "metadata": {},
   "outputs": [
    {
     "data": {
      "text/plain": [
       "6"
      ]
     },
     "execution_count": 34,
     "metadata": {},
     "output_type": "execute_result"
    }
   ],
   "source": [
    "def add(a, b, c):\n",
    "    return a+b+c\n",
    "add(1, 2, 3)\n",
    " "
   ]
  },
  {
   "cell_type": "code",
   "execution_count": 35,
   "id": "61a96160",
   "metadata": {},
   "outputs": [
    {
     "data": {
      "text/plain": [
       "6"
      ]
     },
     "execution_count": 35,
     "metadata": {},
     "output_type": "execute_result"
    }
   ],
   "source": [
    "# required arguments   \n",
    "\n",
    "def add(a, b, c):\n",
    "    return a+b+c    \n",
    "add(1, 2, 3)"
   ]
  },
  {
   "cell_type": "code",
   "execution_count": 36,
   "id": "43b3e501",
   "metadata": {},
   "outputs": [
    {
     "name": "stdout",
     "output_type": "stream",
     "text": [
      "6\n"
     ]
    }
   ],
   "source": [
    "# required arguments   \n",
    "\n",
    "def add(a, b, c):\n",
    "\n",
    "    total=a+b+c    \n",
    "    print(total)\n",
    "add(1, 2, 3)\n"
   ]
  },
  {
   "cell_type": "code",
   "execution_count": 37,
   "id": "d51115e4",
   "metadata": {},
   "outputs": [],
   "source": [
    "# keyword arguments        \n",
    "\n",
    "# def add(a, b, c):\n",
    "#     total=a+b+c    \n",
    "#     print(total)\n",
    "# add(  a=4, b=5, c=6)"
   ]
  },
  {
   "cell_type": "code",
   "execution_count": 38,
   "id": "a645059a",
   "metadata": {},
   "outputs": [
    {
     "name": "stdout",
     "output_type": "stream",
     "text": [
      "30\n",
      "30\n"
     ]
    }
   ],
   "source": [
    "# এক লাইনের ফাংশন - ল্যাম্বডা (lambda)\n",
    "\n",
    "\n",
    "sum = lambda a, b : a + b\n",
    "print(sum(10, 20))\n",
    "print((lambda a, b : a + b)(10, 20))"
   ]
  },
  {
   "cell_type": "code",
   "execution_count": null,
   "id": "04ce0c30",
   "metadata": {},
   "outputs": [],
   "source": [
    " "
   ]
  },
  {
   "cell_type": "code",
   "execution_count": 39,
   "id": "1aafa28c",
   "metadata": {},
   "outputs": [
    {
     "name": "stdout",
     "output_type": "stream",
     "text": [
      "<map object at 0x000002318DB84EE0>\n",
      "[4, 9, 16, 25, 36, 49]\n"
     ]
    }
   ],
   "source": [
    "my_list = [2, 3, 4, 5, 6, 7]\n",
    "\n",
    "def square(x):\n",
    "    return x * x\n",
    "\n",
    "new_list = map(square, my_list)\n",
    "print(new_list)\n",
    "print(list(new_list))"
   ]
  },
  {
   "cell_type": "code",
   "execution_count": 40,
   "id": "75fc2aae",
   "metadata": {},
   "outputs": [
    {
     "name": "stdout",
     "output_type": "stream",
     "text": [
      "30\n"
     ]
    }
   ],
   "source": [
    "# function  ic  12  start \n",
    "\n",
    "def myFun():\n",
    "    x=10\n",
    "    y=20\n",
    "    print(x+y)\n",
    "\n",
    "myFun()"
   ]
  },
  {
   "cell_type": "code",
   "execution_count": 41,
   "id": "635b85af",
   "metadata": {},
   "outputs": [
    {
     "name": "stdout",
     "output_type": "stream",
     "text": [
      "50\n"
     ]
    }
   ],
   "source": [
    "def myFun():\n",
    "    x=20\n",
    "    y=30\n",
    "    print(x+y)\n",
    "\n",
    "myFun()"
   ]
  },
  {
   "cell_type": "code",
   "execution_count": 42,
   "id": "5fae4768",
   "metadata": {},
   "outputs": [
    {
     "data": {
      "text/plain": [
       "\"\\n\\n1. What is function ?\\n2. How to Write & Call function?\\n3. Real World Use Case?\\n    - Function=Action\\n    - Code Reusability\\n    - Modular\\n    - Data Process\\n    - Event=Action\\n    - Validation\\n    - Testing\\n    - User input,output\\n\\n4. Functional Programming\\n\\n5. Function Parameter\\n        - General Parameter\\n        - Required and Optional Parameter\\n        - Length Parameter/ Rest Parameter/ Tuple Parameter=> Create a Tuple\\n        - Keyword Parameter/ Dic Parameter=> Create a Dic\\n\\n6. Function Return\\n    - একটি ফাংশন যাহা রিটার্ন করে , গুনে ও মানে তাহার সমান হয়ে যায় ।\\n    - Function Return int=Function()\\n    - Function Return list/set/dic/bool/str=Function()\\n    - Single Return\\n    - Multiple Return (Create a Tuple)\\n    - Return\\n\\n7. Local & Global Variables in Function\\n        - How Local Works যেই ফাংশনের ভেতরে ভেরিয়েবল লিখেছি , সেটা শুধু মাত্র তাহার জন্যেই কাজ করে । \\n        - How Global Works মুক্ত স্বাধীন বাইরে রাখা ভেরিয়েবল\\n\\n\\n8. Inline Function or Short Hand Function or Lamda Function\\n    - Simple 1/2 Line Calculation\\n    - map/ filter/ sort\\n    - minor case\\n    - not for complex\\n\\n\\n9. Arrow Function ()=>{}\\n    - Python doesn't has this\\n\\n\\n10. Recursive Function\\n    - যে ফাংশন নিজেই নিজেকে কল করে\\n\\n11. Call Back Function\\n    - ফাংশনের প্যারামিটার যাহা নিজেই একটি ফাংশন\\n\\n\\n\\n\""
      ]
     },
     "execution_count": 42,
     "metadata": {},
     "output_type": "execute_result"
    }
   ],
   "source": [
    "'''\n",
    "\n",
    "1. What is function ?\n",
    "2. How to Write & Call function?\n",
    "3. Real World Use Case?\n",
    "    - Function=Action\n",
    "    - Code Reusability\n",
    "    - Modular\n",
    "    - Data Process\n",
    "    - Event=Action\n",
    "    - Validation\n",
    "    - Testing\n",
    "    - User input,output\n",
    "\n",
    "4. Functional Programming\n",
    "\n",
    "5. Function Parameter\n",
    "        - General Parameter\n",
    "        - Required and Optional Parameter\n",
    "        - Length Parameter/ Rest Parameter/ Tuple Parameter=> Create a Tuple\n",
    "        - Keyword Parameter/ Dic Parameter=> Create a Dic\n",
    "\n",
    "6. Function Return\n",
    "    - একটি ফাংশন যাহা রিটার্ন করে , গুনে ও মানে তাহার সমান হয়ে যায় ।\n",
    "    - Function Return int=Function()\n",
    "    - Function Return list/set/dic/bool/str=Function()\n",
    "    - Single Return\n",
    "    - Multiple Return (Create a Tuple)\n",
    "    - Return\n",
    "\n",
    "7. Local & Global Variables in Function\n",
    "        - How Local Works যেই ফাংশনের ভেতরে ভেরিয়েবল লিখেছি , সেটা শুধু মাত্র তাহার জন্যেই কাজ করে । \n",
    "        - How Global Works মুক্ত স্বাধীন বাইরে রাখা ভেরিয়েবল\n",
    "\n",
    "\n",
    "8. Inline Function or Short Hand Function or Lamda Function\n",
    "    - Simple 1/2 Line Calculation\n",
    "    - map/ filter/ sort\n",
    "    - minor case\n",
    "    - not for complex\n",
    "\n",
    "\n",
    "9. Arrow Function ()=>{}\n",
    "    - Python doesn't has this\n",
    "\n",
    "\n",
    "10. Recursive Function\n",
    "    - যে ফাংশন নিজেই নিজেকে কল করে\n",
    "\n",
    "11. Call Back Function\n",
    "    - ফাংশনের প্যারামিটার যাহা নিজেই একটি ফাংশন\n",
    "\n",
    "\n",
    "\n",
    "'''"
   ]
  },
  {
   "cell_type": "code",
   "execution_count": 43,
   "id": "340f4459",
   "metadata": {},
   "outputs": [
    {
     "name": "stdout",
     "output_type": "stream",
     "text": [
      "10 20\n",
      "30 40\n",
      "50 60\n"
     ]
    }
   ],
   "source": [
    "def myFun(x, y):\n",
    "    print(x,y)\n",
    "myFun(10, 20)\n",
    "myFun(30, 40)\n",
    "myFun(50, 60)"
   ]
  },
  {
   "cell_type": "code",
   "execution_count": 44,
   "id": "576fc473",
   "metadata": {},
   "outputs": [
    {
     "name": "stdout",
     "output_type": "stream",
     "text": [
      "30\n",
      "70\n",
      "110\n"
     ]
    }
   ],
   "source": [
    "def myFun(x, y):\n",
    "    print(x+ y)\n",
    "myFun(10, 20)\n",
    "myFun(30, 40)\n",
    "myFun(50, 60)"
   ]
  },
  {
   "cell_type": "code",
   "execution_count": 45,
   "id": "3c078a41",
   "metadata": {},
   "outputs": [
    {
     "name": "stdout",
     "output_type": "stream",
     "text": [
      "90\n"
     ]
    }
   ],
   "source": [
    "# default arguments here  y , z \n",
    "def myFun(x,y=400,z=100):\n",
    "    print( x+ y+z)\n",
    "myFun(10, 30, 50)"
   ]
  },
  {
   "cell_type": "code",
   "execution_count": 46,
   "id": "20732bbd",
   "metadata": {},
   "outputs": [
    {
     "name": "stdout",
     "output_type": "stream",
     "text": [
      "()\n",
      "(10,)\n",
      "(10, 20)\n",
      "(10, 20, 30)\n",
      "(10, 20, 30, 40)\n",
      "('x', 'A', ' b', '1', '2')\n"
     ]
    }
   ],
   "source": [
    "# ভ্যারিয়েবল লেংথ আর্গুমেন্ট (Variable-length argument) \n",
    "\n",
    "'''  \n",
    "\n",
    "ফাংশনের যেকোন প্যারামিটারের আগে একটা অ্যাসটেরিস্ক * চিহ্ন দিলে সেটা আনলিমিটেড ভ্যালু হোল্ড করতে পারে। জেনে রাখা ভাল, এই প্যারামিটারটা একটা টাপল তৈরি করে সবগুলো ভ্যালু হোল্ড করে। পরে একটা for লুপ চালিয়ে আমরা সবগুলো ভ্যালু অ্যাক্সেস করতে পারি। এটাকে নন-কীওয়ার্ডেড (non-keyworded) ভ্যারিয়েবল লেংথ আর্গুমেন্ট বলা হয়।\n",
    "\n",
    "'''\n",
    "\n",
    "def myFun(*args):\n",
    "    print(args)\n",
    "\n",
    "\n",
    "\n",
    "myFun()\n",
    "myFun(10)\n",
    "myFun(10, 20)\n",
    "\n",
    "myFun(10, 20, 30)\n",
    "myFun(10, 20, 30, 40)\n",
    "myFun(\"x\",\"A\",\" b\",\"1\",\"2\")"
   ]
  },
  {
   "cell_type": "code",
   "execution_count": 47,
   "id": "741d70dc",
   "metadata": {},
   "outputs": [
    {
     "name": "stdout",
     "output_type": "stream",
     "text": [
      "()\n",
      "(10,)\n",
      "(10, 20)\n",
      "(10, 20, 30)\n",
      "(10, 20, 30, 40)\n",
      "('A', 'B', 1, 2)\n"
     ]
    },
    {
     "ename": "NameError",
     "evalue": "name 'x' is not defined",
     "output_type": "error",
     "traceback": [
      "\u001b[31m---------------------------------------------------------------------------\u001b[39m",
      "\u001b[31mNameError\u001b[39m                                 Traceback (most recent call last)",
      "\u001b[36mCell\u001b[39m\u001b[36m \u001b[39m\u001b[32mIn[47]\u001b[39m\u001b[32m, line 12\u001b[39m\n\u001b[32m      9\u001b[39m myFun(\u001b[32m10\u001b[39m,\u001b[32m20\u001b[39m,\u001b[32m30\u001b[39m,\u001b[32m40\u001b[39m)\n\u001b[32m     10\u001b[39m myFun(\u001b[33m\"\u001b[39m\u001b[33mA\u001b[39m\u001b[33m\"\u001b[39m,\u001b[33m\"\u001b[39m\u001b[33mB\u001b[39m\u001b[33m\"\u001b[39m,\u001b[32m1\u001b[39m,\u001b[32m2\u001b[39m)\n\u001b[32m---> \u001b[39m\u001b[32m12\u001b[39m \u001b[38;5;28mprint\u001b[39m(\u001b[38;5;28mtype\u001b[39m(\u001b[43mx\u001b[49m))\n",
      "\u001b[31mNameError\u001b[39m: name 'x' is not defined"
     ]
    }
   ],
   "source": [
    "def myFun(*x):\n",
    "    print(x)\n",
    "\n",
    "\n",
    "myFun()\n",
    "myFun(10)\n",
    "myFun(10,20)\n",
    "myFun(10,20,30)\n",
    "myFun(10,20,30,40)\n",
    "myFun(\"A\",\"B\",1,2)\n",
    "\n",
    "print(type(x))\n",
    "\n"
   ]
  },
  {
   "cell_type": "code",
   "execution_count": null,
   "id": "92bd9aeb",
   "metadata": {},
   "outputs": [],
   "source": []
  },
  {
   "cell_type": "code",
   "execution_count": null,
   "id": "dcdcb9a2",
   "metadata": {},
   "outputs": [
    {
     "name": "stdout",
     "output_type": "stream",
     "text": [
      "{'name': 'shofikul', 'age': 25, 'city': 'Dhaka'}\n"
     ]
    }
   ],
   "source": [
    "''' \n",
    "যদি আমরা কি-ওয়ার্ড আর্গুমেন্ট পাস করতে চাইতাম? তখন প্যারামিটারের আগে দুইটা অ্যাসটেরিস্ক * চিহ্ন দিতে হত। এটাকে কীওয়ার্ডেড (keyworded) ভ্যারিয়েবল লেংথ আর্গুমেন্ট বলা হয়। এই প্যারামিটারটা একটা ডিকশনারি তৈরি করে সবগুলো ভ্যালু হোল্ড করে। যেমন:\n",
    "\n",
    "'''\n",
    "def myFun(**x):\n",
    "    print(x)\n",
    "\n",
    "\n",
    "myFun(name=\"shofikul\", age=25, city=\"Dhaka\"  )"
   ]
  },
  {
   "cell_type": "code",
   "execution_count": null,
   "id": "5b066624",
   "metadata": {},
   "outputs": [
    {
     "name": "stdout",
     "output_type": "stream",
     "text": [
      "{'name': 'RABBI', 'age': 35, 'city': 'Dhaka'}\n"
     ]
    }
   ],
   "source": [
    "def myFun(**x):\n",
    "    print(x)\n",
    "\n",
    "\n",
    "myFun(name=\"RABBI\",age=35,city=\"Dhaka\")\n",
    "\n",
    "\n",
    "\n"
   ]
  },
  {
   "cell_type": "code",
   "execution_count": null,
   "id": "1745dd38",
   "metadata": {},
   "outputs": [],
   "source": []
  },
  {
   "cell_type": "code",
   "execution_count": null,
   "id": "f74cdeda",
   "metadata": {},
   "outputs": [
    {
     "name": "stdout",
     "output_type": "stream",
     "text": [
      "('ban', 'india', 'pakistan')\n"
     ]
    }
   ],
   "source": [
    "# একটি ফাংশন যাহা রিটার্ন করে , গুনে ও মানে তাহার সমান হয়ে যায় ।\n",
    "\n",
    "def demoFun():\n",
    "    name=\"shofikul\"\n",
    "    age=25\n",
    "    height=5.6\n",
    "    city=\"Dhaka\"\n",
    "    country= (\"ban\" ,\"india\",\"pakistan\" )\n",
    "    return country\n",
    "result=demoFun()\n",
    "print(result)   "
   ]
  },
  {
   "cell_type": "code",
   "execution_count": null,
   "id": "842645dd",
   "metadata": {},
   "outputs": [
    {
     "name": "stdout",
     "output_type": "stream",
     "text": [
      "('Ban', 'Ind', 'Pak')\n"
     ]
    }
   ],
   "source": [
    "def demoFun():\n",
    "    name=\"Rabbi\"\n",
    "    age=35\n",
    "    height=5.8\n",
    "    city=[\"Dhaka\",\"Ctg\",\"Rang\"]\n",
    "    country=(\"Ban\",\"Ind\",\"Pak\")\n",
    "\n",
    "    return country\n",
    "\n",
    "\n",
    "result = demoFun()\n",
    "print(result)\n",
    "\n",
    "\n"
   ]
  },
  {
   "cell_type": "code",
   "execution_count": null,
   "id": "eb6fc4b9",
   "metadata": {},
   "outputs": [
    {
     "name": "stdout",
     "output_type": "stream",
     "text": [
      "('ban', 'india', 'pakistan')\n"
     ]
    }
   ],
   "source": [
    "def demoFun():\n",
    "    name=\"Rabbi\"\n",
    "    age=35\n",
    "    height=5.8\n",
    "    city=[\"Dhaka\",\"Ctg\",\"Rang\"]\n",
    "    country=(\"Ban\",\"Ind\",\"Pak\")\n",
    "\n",
    "    return country\n",
    "\n",
    "\n",
    "    result = demoFun()\n",
    "print(result)\n",
    "\n"
   ]
  },
  {
   "cell_type": "code",
   "execution_count": null,
   "id": "316c13e3",
   "metadata": {},
   "outputs": [
    {
     "name": "stdout",
     "output_type": "stream",
     "text": [
      "('shofikul', 23, 5.8, ['Dhaka', 'Ctg', 'Rang'], ('Ban', 'Ind', 'Pak'))\n"
     ]
    }
   ],
   "source": [
    "\n",
    "def demoFun():\n",
    "    name=\"shofikul\"\n",
    "    age=23\n",
    "    height=5.8\n",
    "    city=[\"Dhaka\",\"Ctg\",\"Rang\"]\n",
    "    country=(\"Ban\",\"Ind\",\"Pak\")\n",
    "\n",
    "    return name,age,height,city,country\n",
    "\n",
    "\n",
    "result = demoFun()\n",
    "print(result)\n"
   ]
  },
  {
   "cell_type": "code",
   "execution_count": null,
   "id": "a75a56b7",
   "metadata": {},
   "outputs": [
    {
     "name": "stdout",
     "output_type": "stream",
     "text": [
      "('shofikul', 23, 5.8, ['Dhaka', 'Ctg', 'Rang'], ('Ban', 'Ind', 'Pak'))\n"
     ]
    }
   ],
   "source": [
    "def demoFun():\n",
    "    name=\"shofikul\"\n",
    "    age=23\n",
    "    height=5.8\n",
    "    city=[\"Dhaka\",\"Ctg\",\"Rang\"]\n",
    "    country=(\"Ban\",\"Ind\",\"Pak\")\n",
    "    return name,age,height,city,country\n",
    "result = demoFun()\n",
    "print(result)"
   ]
  },
  {
   "cell_type": "code",
   "execution_count": null,
   "id": "c73f2b96",
   "metadata": {},
   "outputs": [
    {
     "name": "stdout",
     "output_type": "stream",
     "text": [
      "103\n",
      "113\n",
      "112\n"
     ]
    }
   ],
   "source": [
    "a=100\n",
    "\n",
    "def Fun1():\n",
    "    x=1\n",
    "    y=2\n",
    "    print(x+y+a)\n",
    "\n",
    " \n",
    "def Fun2():\n",
    "    x=5\n",
    "    y=8\n",
    "    print(x+y+a)\n",
    "\n",
    " \n",
    "def Fun3():\n",
    "    x=3\n",
    "    y=9\n",
    "    print(x+y+a)\n",
    "\n",
    "Fun1()\n",
    "Fun2()\n",
    "Fun3()"
   ]
  },
  {
   "cell_type": "code",
   "execution_count": null,
   "id": "b6ac44c9",
   "metadata": {},
   "outputs": [
    {
     "name": "stdout",
     "output_type": "stream",
     "text": [
      "30\n"
     ]
    }
   ],
   "source": [
    "\n",
    "# Inline\n",
    "# Auto Return\n",
    "\n",
    "myFun = lambda x , y :  x + y\n",
    "print(myFun(10,20))"
   ]
  },
  {
   "cell_type": "code",
   "execution_count": null,
   "id": "fd499abc",
   "metadata": {},
   "outputs": [],
   "source": [
    "myFun=lamda x , y :  x + y\n",
    "print(myFun(10,20)) "
   ]
  },
  {
   "cell_type": "code",
   "execution_count": null,
   "id": "3efe1ec7",
   "metadata": {},
   "outputs": [],
   "source": [
    "# 5*4*3*2*1=> Factorial\n",
    "# 100*.........5*4*3*2*1\n",
    "# 100+.........5+4+3+2+1\n",
    "\n",
    "\n",
    "def Factorial(x):\n",
    "    if x==0:\n",
    "        return 1\n",
    "    print(x)\n",
    "    return x * Factorial(x-1)\n",
    "\n",
    "\n",
    "print(Factorial(5))\n"
   ]
  },
  {
   "cell_type": "code",
   "execution_count": null,
   "id": "d1a4847f",
   "metadata": {},
   "outputs": [],
   "source": [
    "# Write a function for add 2 numbers\n",
    "# Write another function to print the result\n",
    "\n",
    "\n",
    "def addTwo(x,y):\n",
    "    return x+y\n",
    "\n",
    "\n",
    "def showResult(callback):\n",
    "\n",
    "    print(callback)\n",
    "    print(type(callback))\n",
    "\n",
    "\n",
    "showResult(addTwo(10,20))\n"
   ]
  },
  {
   "cell_type": "code",
   "execution_count": null,
   "id": "04680446",
   "metadata": {},
   "outputs": [
    {
     "name": "stdout",
     "output_type": "stream",
     "text": [
      "30\n",
      "30\n"
     ]
    }
   ],
   "source": [
    "# lamda function  \n",
    "# \n",
    "\n",
    "'''\n",
    "8. Inline Function or Short Hand Function or Lamda Function\n",
    "    - Simple 1/2 Line Calculation\n",
    "    - map/ filter/ sort\n",
    "    - minor case\n",
    "    - not for complex\n",
    "\n",
    "   '''\n",
    "\n",
    "sum = lambda a, b : a + b\n",
    "print(sum(10, 20))\n",
    "print((lambda a, b : a + b)(10, 20))"
   ]
  },
  {
   "cell_type": "code",
   "execution_count": null,
   "id": "1f4ad105",
   "metadata": {},
   "outputs": [
    {
     "name": "stdout",
     "output_type": "stream",
     "text": [
      "30\n"
     ]
    }
   ],
   "source": [
    "\n",
    "'''    \n",
    "\n",
    "\n",
    "8. Inline Function or Short Hand Function or Lamda Function\n",
    "    - Simple 1/2 Line Calculation\n",
    "    - map/ filter/ sort\n",
    "    - minor case\n",
    "    - not for complex\n",
    "\n",
    "\n",
    "\n",
    "'''\n",
    "\n",
    "\n",
    "# Inline\n",
    "# Auto Return\n",
    "\n",
    "myFun = lambda x , y :  x + y\n",
    "print(myFun(10,20))"
   ]
  },
  {
   "cell_type": "code",
   "execution_count": null,
   "id": "98e50d19",
   "metadata": {},
   "outputs": [
    {
     "name": "stdout",
     "output_type": "stream",
     "text": [
      "30\n"
     ]
    }
   ],
   "source": [
    "# lambda function \n",
    "'''\n",
    "\n",
    "\n",
    "8. Inline Function or Short Hand Function or Lamda Function\n",
    "    - Simple 1/2 Line Calculation\n",
    "    - map/ filter/ sort\n",
    "    - minor case\n",
    "    - not for complex\n",
    "\n",
    "\n",
    "'''\n",
    "\n",
    "\n",
    "myFun=lambda x , y :  x + y\n",
    "print(myFun(10,20))  "
   ]
  },
  {
   "cell_type": "code",
   "execution_count": null,
   "id": "437c5516",
   "metadata": {},
   "outputs": [
    {
     "name": "stdout",
     "output_type": "stream",
     "text": [
      "30\n"
     ]
    }
   ],
   "source": [
    "'''\n",
    "\n",
    "8. Inline Function or Short Hand Function or Lamda Function\n",
    "    - Simple 1/2 Line Calculation\n",
    "    - map/ filter/ sort\n",
    "    - minor case\n",
    "    - not for complex\n",
    "\n",
    "\n",
    "\n",
    "\n",
    "'''\n",
    "\n",
    "# lambda  function \n",
    "\n",
    "myFun=lambda x,y:x + y\n",
    "print(myFun(10,20))\n"
   ]
  },
  {
   "cell_type": "code",
   "execution_count": null,
   "id": "46468bac",
   "metadata": {},
   "outputs": [
    {
     "name": "stdout",
     "output_type": "stream",
     "text": [
      "30\n"
     ]
    }
   ],
   "source": [
    "myfun=lambda x,y:x+y\n",
    "print(myfun(10,20))"
   ]
  },
  {
   "cell_type": "code",
   "execution_count": null,
   "id": "3ed82af0",
   "metadata": {},
   "outputs": [
    {
     "name": "stdout",
     "output_type": "stream",
     "text": [
      "30\n"
     ]
    }
   ],
   "source": [
    "myfun=lambda x,y:x+y\n",
    "print(myfun(10,20))"
   ]
  },
  {
   "cell_type": "code",
   "execution_count": null,
   "id": "606e50de",
   "metadata": {},
   "outputs": [
    {
     "name": "stdout",
     "output_type": "stream",
     "text": [
      "5\n",
      "4\n",
      "3\n",
      "2\n",
      "1\n",
      "120\n"
     ]
    }
   ],
   "source": [
    "# 10. Recursive Function\n",
    "#  যে ফাংশন নিজেই নিজেকে কল করে\n",
    "# 5*4*3*2*1=> Factorial\n",
    "# 100*.........5*4*3*2*1\n",
    "# 100+.........5+4+3+2+1\n",
    "\n",
    "\n",
    "def Factorial(x):\n",
    "    if x==0:\n",
    "        return 1\n",
    "    print(x)\n",
    "    return x * Factorial(x-1)\n",
    "\n",
    "\n",
    "print(Factorial(5))\n"
   ]
  },
  {
   "cell_type": "code",
   "execution_count": null,
   "id": "1274a961",
   "metadata": {},
   "outputs": [
    {
     "name": "stdout",
     "output_type": "stream",
     "text": [
      "5\n",
      "4\n",
      "3\n",
      "2\n",
      "1\n",
      "120\n"
     ]
    }
   ],
   "source": [
    "def Factorial(x):\n",
    "    if x==0:\n",
    "        return 1\n",
    "    print(x)\n",
    "    return x * Factorial(x-1)\n",
    "print(Factorial(5))"
   ]
  },
  {
   "cell_type": "code",
   "execution_count": null,
   "id": "45b106d6",
   "metadata": {},
   "outputs": [
    {
     "name": "stdout",
     "output_type": "stream",
     "text": [
      "4\n",
      "3\n",
      "2\n",
      "1\n"
     ]
    },
    {
     "data": {
      "text/plain": [
       "24"
      ]
     },
     "execution_count": 20,
     "metadata": {},
     "output_type": "execute_result"
    }
   ],
   "source": [
    "def Factorial(x):\n",
    "    if x==0:\n",
    "        return 1\n",
    "    print(x)\n",
    "    return x*Factorial(x-1)\n",
    "# print(Factorial(4))\n",
    "Factorial(4)"
   ]
  },
  {
   "cell_type": "code",
   "execution_count": null,
   "id": "9ef7583d",
   "metadata": {},
   "outputs": [
    {
     "name": "stdout",
     "output_type": "stream",
     "text": [
      "4\n",
      "3\n",
      "2\n",
      "1\n"
     ]
    },
    {
     "data": {
      "text/plain": [
       "24"
      ]
     },
     "execution_count": 22,
     "metadata": {},
     "output_type": "execute_result"
    }
   ],
   "source": [
    "def factorial(x):\n",
    "    if x==0:\n",
    "        return 1\n",
    "    print(x)\n",
    "    return x*Factorial(x-1)\n",
    "\n",
    "factorial(4)"
   ]
  },
  {
   "cell_type": "code",
   "execution_count": null,
   "id": "920945aa",
   "metadata": {},
   "outputs": [
    {
     "name": "stdout",
     "output_type": "stream",
     "text": [
      "4\n",
      "3\n",
      "2\n",
      "1\n"
     ]
    },
    {
     "data": {
      "text/plain": [
       "24"
      ]
     },
     "execution_count": 23,
     "metadata": {},
     "output_type": "execute_result"
    }
   ],
   "source": [
    "def factorial(x):\n",
    "    if x==0:\n",
    "        return 1\n",
    "    print(x)\n",
    "    return x*factorial(x-1)\n",
    "factorial(4)"
   ]
  },
  {
   "cell_type": "code",
   "execution_count": null,
   "id": "e36fc8f4",
   "metadata": {},
   "outputs": [],
   "source": []
  },
  {
   "cell_type": "code",
   "execution_count": null,
   "id": "86358dc5",
   "metadata": {},
   "outputs": [
    {
     "name": "stdout",
     "output_type": "stream",
     "text": [
      "Result: 30\n"
     ]
    }
   ],
   "source": [
    "def addTwo(x, y):\n",
    "    return x + y\n",
    "\n",
    "def showResult(result):\n",
    "    print(\"Result:\", result)\n",
    "\n",
    "# Use the addTwo function and pass its result to showResult\n",
    "showResult(addTwo(10, 20))"
   ]
  },
  {
   "cell_type": "code",
   "execution_count": null,
   "id": "93c05ca7",
   "metadata": {},
   "outputs": [],
   "source": [
    " "
   ]
  },
  {
   "cell_type": "code",
   "execution_count": null,
   "id": "db4461db",
   "metadata": {},
   "outputs": [
    {
     "name": "stdout",
     "output_type": "stream",
     "text": [
      "Hello, Shofikul\n"
     ]
    }
   ],
   "source": [
    "# সাধারণ ফাংশন\n",
    "def say_hello(name):\n",
    "    print(\"Hello,\", name)\n",
    "\n",
    "# callback ব্যবহার করা ফাংশন\n",
    "def my_function(callback):\n",
    "    # এখানে callback function চালানো হবে\n",
    "    callback(\"Shofikul\")\n",
    "\n",
    "# এবার callback হিসেবে পাঠালাম\n",
    "my_function(say_hello)\n"
   ]
  },
  {
   "cell_type": "code",
   "execution_count": null,
   "id": "3ece90bf",
   "metadata": {},
   "outputs": [
    {
     "name": "stdout",
     "output_type": "stream",
     "text": [
      "hello, Shofikul\n"
     ]
    }
   ],
   "source": [
    "# callback function\n",
    "\n",
    "def say_hello(name):\n",
    "    print(\"hello,\",name)\n",
    "\n",
    "def my_function( callback):\n",
    "    callback(\"Shofikul\")\n",
    "my_function(say_hello)"
   ]
  },
  {
   "cell_type": "code",
   "execution_count": null,
   "id": "64701600",
   "metadata": {},
   "outputs": [],
   "source": []
  },
  {
   "cell_type": "markdown",
   "id": "288bfc2b",
   "metadata": {},
   "source": [
    "def say_hello(name):\n",
    "    print(\"hello,\",naj)"
   ]
  },
  {
   "cell_type": "code",
   "execution_count": null,
   "id": "6f3229a3",
   "metadata": {},
   "outputs": [
    {
     "name": "stdout",
     "output_type": "stream",
     "text": [
      "hello, Shofikul\n"
     ]
    }
   ],
   "source": [
    "# callback function\n",
    "def say_hello(name):\n",
    "    print(\"hello,\",name)\n",
    "    def my_function(callback):\n",
    "        callback(\"shofikul\")\n",
    "my_function(say_hello)"
   ]
  },
  {
   "cell_type": "code",
   "execution_count": null,
   "id": "607afeb4",
   "metadata": {},
   "outputs": [
    {
     "name": "stdout",
     "output_type": "stream",
     "text": [
      "hello, shofikul\n"
     ]
    }
   ],
   "source": [
    "# callback function \n",
    "def say_hello(name):\n",
    "    print(\"hello,\",name)\n",
    "\n",
    "def my_function(callback):\n",
    "    callback(\"shofikul\")\n",
    "\n",
    "my_function(say_hello)"
   ]
  },
  {
   "cell_type": "code",
   "execution_count": null,
   "id": "4f8716e4",
   "metadata": {},
   "outputs": [],
   "source": []
  },
  {
   "cell_type": "code",
   "execution_count": null,
   "id": "8182f362",
   "metadata": {},
   "outputs": [
    {
     "name": "stdout",
     "output_type": "stream",
     "text": [
      "30\n",
      "<class 'int'>\n"
     ]
    }
   ],
   "source": [
    "\n",
    "def addTwo(x,y):\n",
    "    return x+y\n",
    "\n",
    "\n",
    "def showResult(callback):\n",
    "\n",
    "    print(callback)\n",
    "    print(type(callback))\n",
    "\n",
    "\n",
    "showResult(addTwo(10,20))\n"
   ]
  },
  {
   "cell_type": "code",
   "execution_count": null,
   "id": "805de2f1",
   "metadata": {},
   "outputs": [
    {
     "name": "stdout",
     "output_type": "stream",
     "text": [
      "5\n",
      "4\n",
      "3\n",
      "2\n",
      "1\n",
      "120\n"
     ]
    }
   ],
   "source": [
    "#  \"Recursive Factorial Function in Python\n",
    "\n",
    "# 5*4*3*2*1=> Factorial\n",
    "# 100*.........5*4*3*2*1\n",
    "# 100+.........5+4+3+2+1\n",
    "\n",
    "\n",
    "def Factorial(x):\n",
    "    if x==0:\n",
    "        return 1\n",
    "    print(x)\n",
    "    return x * Factorial(x-1)\n",
    "\n",
    "\n",
    "print(Factorial(5))\n",
    "\n"
   ]
  },
  {
   "cell_type": "code",
   "execution_count": null,
   "id": "056c7092",
   "metadata": {},
   "outputs": [
    {
     "name": "stdout",
     "output_type": "stream",
     "text": [
      "120\n"
     ]
    }
   ],
   "source": [
    "#  \"Recursive Factorial Function in Python\n",
    "def factorial(n):\n",
    "    result = 1\n",
    "    for i in range(1, n+1):\n",
    "        result = result * i\n",
    "    return result\n",
    "\n",
    "print(factorial(5))\n"
   ]
  },
  {
   "cell_type": "code",
   "execution_count": null,
   "id": "fc990067",
   "metadata": {},
   "outputs": [
    {
     "name": "stdout",
     "output_type": "stream",
     "text": [
      "5\n",
      "4\n",
      "3\n",
      "2\n",
      "1\n",
      "120\n"
     ]
    }
   ],
   "source": [
    "#  \"Recursive Factorial Function in Python\n",
    "\n",
    "# 5*4*3*2*1=> Factorial\n",
    "# 100*.........5*4*3*2*1\n",
    "# 100+.........5+4+3+2+1\n",
    "\n",
    "\n",
    "def Factorial(x):\n",
    "    if x==0:\n",
    "        return 1\n",
    "    print(x)\n",
    "    return x * Factorial(x-1)\n",
    "\n",
    "\n",
    "print(Factorial(5))\n"
   ]
  },
  {
   "cell_type": "code",
   "execution_count": null,
   "id": "726e904f",
   "metadata": {},
   "outputs": [
    {
     "name": "stdout",
     "output_type": "stream",
     "text": [
      "5\n",
      "4\n",
      "3\n",
      "2\n",
      "1\n"
     ]
    },
    {
     "data": {
      "text/plain": [
       "120"
      ]
     },
     "execution_count": 20,
     "metadata": {},
     "output_type": "execute_result"
    }
   ],
   "source": [
    "def Factorial(x):\n",
    "    if x==0:\n",
    "        return 1\n",
    "    print(x)\n",
    "    return x * Factorial(x-1)\n",
    "\n",
    "Factorial(5)"
   ]
  },
  {
   "cell_type": "code",
   "execution_count": null,
   "id": "7b20dc43",
   "metadata": {},
   "outputs": [
    {
     "data": {
      "text/plain": [
       "1"
      ]
     },
     "execution_count": 22,
     "metadata": {},
     "output_type": "execute_result"
    }
   ],
   "source": [
    "def Factorial(x):\n",
    "    if x==0:\n",
    "        return 1\n",
    "    print(x)\n",
    "    return x * Factorial(x-1)\n",
    "\n",
    "Factorial(0)"
   ]
  },
  {
   "cell_type": "code",
   "execution_count": 50,
   "id": "b930ee75",
   "metadata": {},
   "outputs": [
    {
     "name": "stdout",
     "output_type": "stream",
     "text": [
      "we are learn python\n"
     ]
    }
   ],
   "source": [
    "# string declaration\n",
    "\n",
    "name='we are learn python'\n",
    "print(name)"
   ]
  },
  {
   "cell_type": "code",
   "execution_count": 51,
   "id": "46ea9fbb",
   "metadata": {},
   "outputs": [
    {
     "name": "stdout",
     "output_type": "stream",
     "text": [
      "  lorem ipsom\n",
      "    bangladesh  \n",
      "    amer soner bangla  ami tomay valabashi chirodin \n",
      "    tomar akash tomar  batash amer prane bajay\n"
     ]
    }
   ],
   "source": [
    "demo1='''  lorem ipsom\n",
    "    bangladesh  \n",
    "    amer soner bangla  ami tomay valabashi chirodin \n",
    "    tomar akash tomar  batash amer prane bajay'''\n",
    "print(demo1)"
   ]
  },
  {
   "cell_type": "code",
   "execution_count": 53,
   "id": "b445adb4",
   "metadata": {},
   "outputs": [
    {
     "name": "stdout",
     "output_type": "stream",
     "text": [
      "\n",
      "my \n",
      "name \n",
      "is \n",
      "shodikul islam \n",
      " .now \n",
      "  i am \n",
      "   study\n",
      "\n",
      "\n",
      "\n"
     ]
    }
   ],
   "source": [
    "demo2=\"\"\"\n",
    "my \n",
    "name \n",
    "is \n",
    "shodikul islam \n",
    " .now \n",
    "  i am \n",
    "   study\n",
    "\n",
    "\n",
    "\"\"\"\n",
    "\n",
    "\n",
    "print(demo2)"
   ]
  },
  {
   "cell_type": "code",
   "execution_count": 55,
   "id": "eb993c65",
   "metadata": {},
   "outputs": [
    {
     "name": "stdout",
     "output_type": "stream",
     "text": [
      "d\n"
     ]
    }
   ],
   "source": [
    "text= \"Hello World\"\n",
    "print(text[-1])\n"
   ]
  },
  {
   "cell_type": "code",
   "execution_count": 58,
   "id": "b7826627",
   "metadata": {},
   "outputs": [
    {
     "name": "stdout",
     "output_type": "stream",
     "text": [
      "H\n"
     ]
    }
   ],
   "source": [
    "text= \"Hello World\"\n",
    "print(text[0])"
   ]
  },
  {
   "cell_type": "code",
   "execution_count": 60,
   "id": "24222fa7",
   "metadata": {},
   "outputs": [
    {
     "name": "stdout",
     "output_type": "stream",
     "text": [
      "l\n"
     ]
    }
   ],
   "source": [
    "text= \"Hello World\"\n",
    "print(text[-2])"
   ]
  },
  {
   "cell_type": "code",
   "execution_count": 61,
   "id": "9a911231",
   "metadata": {},
   "outputs": [
    {
     "name": "stdout",
     "output_type": "stream",
     "text": [
      "Hello W\n"
     ]
    }
   ],
   "source": [
    "text=\"Hello World\"\n",
    "print(text[0:7])"
   ]
  },
  {
   "cell_type": "code",
   "execution_count": 62,
   "id": "f12eccf6",
   "metadata": {},
   "outputs": [
    {
     "name": "stdout",
     "output_type": "stream",
     "text": [
      "Hello W\n"
     ]
    }
   ],
   "source": [
    "text=\"Hello World\"\n",
    "print(text[:7])"
   ]
  },
  {
   "cell_type": "code",
   "execution_count": 63,
   "id": "a0ad13f2",
   "metadata": {},
   "outputs": [
    {
     "name": "stdout",
     "output_type": "stream",
     "text": [
      " World\n"
     ]
    }
   ],
   "source": [
    "text=\"Hello World\"\n",
    "print(text[5:])"
   ]
  },
  {
   "cell_type": "code",
   "execution_count": 64,
   "id": "2a0b80ff",
   "metadata": {},
   "outputs": [
    {
     "name": "stdout",
     "output_type": "stream",
     "text": [
      "World\n"
     ]
    }
   ],
   "source": [
    "text=\"Hello World\"\n",
    "print(text[6:])"
   ]
  },
  {
   "cell_type": "code",
   "execution_count": 65,
   "id": "9fde8c93",
   "metadata": {},
   "outputs": [
    {
     "name": "stdout",
     "output_type": "stream",
     "text": [
      "orld\n"
     ]
    }
   ],
   "source": [
    "text=\"Hello World\"\n",
    "print(text[7:])"
   ]
  },
  {
   "cell_type": "code",
   "execution_count": 68,
   "id": "f38f77a5",
   "metadata": {},
   "outputs": [
    {
     "name": "stdout",
     "output_type": "stream",
     "text": [
      "Hello Worl\n"
     ]
    }
   ],
   "source": [
    "text=\"Hello World\"\n",
    "print(text[:-1])"
   ]
  },
  {
   "cell_type": "code",
   "execution_count": 69,
   "id": "aff3c8b1",
   "metadata": {},
   "outputs": [
    {
     "name": "stdout",
     "output_type": "stream",
     "text": [
      "Hello Wor\n"
     ]
    }
   ],
   "source": [
    "text=\"Hello World\"\n",
    "print(text[:-2])"
   ]
  },
  {
   "cell_type": "code",
   "execution_count": 72,
   "id": "a235920a",
   "metadata": {},
   "outputs": [
    {
     "name": "stdout",
     "output_type": "stream",
     "text": [
      "Hello World\n"
     ]
    }
   ],
   "source": [
    "string1=\"Hello \"\n",
    "string2=\"World\"\n",
    "combined=string1 +string2\n",
    "print(combined)"
   ]
  },
  {
   "cell_type": "code",
   "execution_count": null,
   "id": "6ac8f499",
   "metadata": {},
   "outputs": [
    {
     "name": "stdout",
     "output_type": "stream",
     "text": [
      "HelloWorld\n"
     ]
    }
   ],
   "source": [
    "string1=\"Hello\"\n",
    "string2=\"World\"\n",
    "combined=string1 + \" \"+ string2\n",
    "print(combined)"
   ]
  },
  {
   "cell_type": "code",
   "execution_count": 77,
   "id": "38cb1c25",
   "metadata": {},
   "outputs": [
    {
     "name": "stdout",
     "output_type": "stream",
     "text": [
      "Hello-World\n"
     ]
    }
   ],
   "source": [
    "string1=\"Hello\"\n",
    "string2=\"World\"\n",
    "combined=string1 + \"-\"+ string2\n",
    "print(combined)"
   ]
  },
  {
   "cell_type": "code",
   "execution_count": 78,
   "id": "120c17fe",
   "metadata": {},
   "outputs": [
    {
     "name": "stdout",
     "output_type": "stream",
     "text": [
      "Hello,World\n"
     ]
    }
   ],
   "source": [
    "string1=\"Hello\"\n",
    "string2=\"World\"\n",
    "combined=string1 + \",\"+ string2\n",
    "print(combined)"
   ]
  },
  {
   "cell_type": "code",
   "execution_count": 80,
   "id": "ad44b173",
   "metadata": {},
   "outputs": [
    {
     "name": "stdout",
     "output_type": "stream",
     "text": [
      "Hello ,World\n"
     ]
    }
   ],
   "source": [
    "string1=\"Hello ,\"\n",
    "string2=\"World\"\n",
    "combined=string1 +  string2\n",
    "print(combined)"
   ]
  },
  {
   "cell_type": "code",
   "execution_count": null,
   "id": "e5064a52",
   "metadata": {},
   "outputs": [
    {
     "name": "stdout",
     "output_type": "stream",
     "text": [
      "HelloHelloHelloHelloHelloHelloHelloHelloHelloHello\n"
     ]
    }
   ],
   "source": [
    "# String Repetation\n",
    "text=\"Hello\"\n",
    "repeat=text*10\n",
    "print(repeat)\n",
    "\n"
   ]
  },
  {
   "cell_type": "code",
   "execution_count": 82,
   "id": "7ec225b1",
   "metadata": {},
   "outputs": [
    {
     "name": "stdout",
     "output_type": "stream",
     "text": [
      "Hello Hello Hello Hello Hello Hello Hello Hello Hello Hello \n"
     ]
    }
   ],
   "source": [
    "# String Repetation\n",
    "text=\"Hello \"\n",
    "repeat=text*10\n",
    "print(repeat)\n",
    "\n"
   ]
  },
  {
   "cell_type": "code",
   "execution_count": 84,
   "id": "a4a419df",
   "metadata": {},
   "outputs": [
    {
     "name": "stdout",
     "output_type": "stream",
     "text": [
      "shofikul islam shofikul islam shofikul islam shofikul islam shofikul islam shofikul islam shofikul islam shofikul islam shofikul islam shofikul islam \n"
     ]
    }
   ],
   "source": [
    "# string repetation\n",
    "text=\"shofikul islam \"\n",
    "repeat=text*10\n",
    "print(repeat)"
   ]
  },
  {
   "cell_type": "code",
   "execution_count": null,
   "id": "2e26cd7f",
   "metadata": {},
   "outputs": [
    {
     "name": "stdout",
     "output_type": "stream",
     "text": [
      "My name is Jack and my age is 30\n"
     ]
    }
   ],
   "source": [
    "# Formate Using %\n",
    "name=\"Jack\"\n",
    "age=30\n",
    "# %s string placeholder\n",
    "# %d number placeholder\n",
    "total=\"My name is %s and my age is %d\" %(name,age)\n",
    "print(total)\n"
   ]
  },
  {
   "cell_type": "code",
   "execution_count": 92,
   "id": "0409c503",
   "metadata": {},
   "outputs": [
    {
     "name": "stdout",
     "output_type": "stream",
     "text": [
      "My name is shofikul  and my age is 23\n"
     ]
    }
   ],
   "source": [
    "# Formate Using %\n",
    "# %s string placeholder\n",
    "# %d number placeholder\n",
    "# \"Python-এ %s এবং %d ব্যবহার করে স্ট্রিং ফরম্যাটিং\"\n",
    "''' \n",
    "\n",
    "%s ব্যবহার করা হয় string ভ্যারিয়েবল বসানোর জন্য।\n",
    "\n",
    "%d ব্যবহার করা হয় integer ভ্যারিয়েবল বসানোর জন্য।\n",
    "\n",
    "এটি Python-এর older style formatting, যা এখনো অনেক কোডে দেখা যায়।\n",
    "'''\n",
    "\n",
    "name=\"shofikul \"\n",
    "age=23\n",
    "total=\"My name is %s and my age is %d\" %(name,age)\n",
    "print(total)\n",
    "\n"
   ]
  },
  {
   "cell_type": "code",
   "execution_count": 90,
   "id": "57e872e0",
   "metadata": {},
   "outputs": [
    {
     "name": "stdout",
     "output_type": "stream",
     "text": [
      "My name is shofikul  and my age is 23\n"
     ]
    }
   ],
   "source": [
    "name = \"shofikul \"        # name নামক ভ্যারিয়েবলে \"shofikul \" স্টোর করা হয়েছে\n",
    "age = 23                  # age নামক ভ্যারিয়েবলে ২৩ স্টোর করা হয়েছে\n",
    "\n",
    "# নিচের লাইনে পুরনো স্টাইলের স্ট্রিং ফরম্যাটিং ব্যবহার করা হয়েছে\n",
    "total = \"My name is %s and my age is %d\" % (name, age)\n",
    "\n",
    "print(total)              # ফলাফল প্রিন্ট করবে: My name is shofikul  and my age is 23\n"
   ]
  },
  {
   "cell_type": "code",
   "execution_count": null,
   "id": "0dc62dbb",
   "metadata": {},
   "outputs": [
    {
     "name": "stdout",
     "output_type": "stream",
     "text": [
      " my name is shofiul my  age is 23  \n"
     ]
    }
   ],
   "source": [
    "\n",
    "# \"Python String Formatting with f-string\"\n",
    "name=\"shofiul\"\n",
    "age=23\n",
    "total=f\"my name is {name} my  age is {age}  \"\n",
    "print(total)\n"
   ]
  },
  {
   "cell_type": "code",
   "execution_count": null,
   "id": "aa518b86",
   "metadata": {},
   "outputs": [
    {
     "name": "stdout",
     "output_type": "stream",
     "text": [
      "my name is shofiul my age is 23\n"
     ]
    }
   ],
   "source": [
    "''' \n",
    "f-string হলো Python-এর একটি স্ট্রিং ফরম্যাটিং টুল যা f\"...\" এর মধ্যে {} ব্যবহার করে ভ্যারিয়েবলকে স্ট্রিংয়ের মধ্যে বসাতে দেয়।\n",
    "\n",
    "এটি সহজ, দ্রুত এবং পরিষ্কার কোড লেখার উপায়।\n",
    "'''\n",
    "\n",
    "\n",
    "name = \"shofiul\"         # এখানে name নামক ভ্যারিয়েবলে \"shofiul\" স্টোর করা হয়েছে\n",
    "age = 23                 # age নামক ভ্যারিয়েবলে ২৩ স্টোর করা হয়েছে\n",
    "total = f\"my name is {name} my age is {age}\"  # f-string ব্যবহার করে স্ট্রিং তৈরি\n",
    "print(total)             # তৈরি করা স্ট্রিংটি প্রিন্ট করা হচ্ছে\n"
   ]
  },
  {
   "cell_type": "code",
   "execution_count": 94,
   "id": "9aa4e5dc",
   "metadata": {},
   "outputs": [
    {
     "name": "stdout",
     "output_type": "stream",
     "text": [
      "SHOFIKUL ISLAM . DHAKA INTERNATIONAL UNIVERSITY\n",
      "shofikul islam . dhaka international university\n",
      "Shofikul Islam . Dhaka International University\n",
      "Shofikul islam . dhaka international university\n"
     ]
    }
   ],
   "source": [
    "text=\"shofikul islam . dhaka international university\"\n",
    "print(text.upper())\n",
    "print(text.lower())\n",
    "print(text.title())\n",
    "print(text.capitalize())"
   ]
  },
  {
   "cell_type": "code",
   "execution_count": 106,
   "id": "fe6b39a8",
   "metadata": {},
   "outputs": [
    {
     "name": "stdout",
     "output_type": "stream",
     "text": [
      "SHOFIKUL ISLAM IS A STUDENT \n",
      "shofikul islam is a student \n",
      "Shofikul islam is a student \n",
      "Shofikul Islam Is A Student \n",
      "shofikul islam is a student \n",
      "b'shofikul islam is a student '\n"
     ]
    }
   ],
   "source": [
    "string_method=\"shofikul islam is a student \"\n",
    "print(string_method.upper())\n",
    "print(string_method.lower())\n",
    "print(string_method.capitalize())\n",
    "print(string_method.title())\n",
    "print(string_method.casefold())\n",
    "print(string_method.encode())\n",
    " \n",
    " \n"
   ]
  },
  {
   "cell_type": "code",
   "execution_count": null,
   "id": "5a077186",
   "metadata": {},
   "outputs": [
    {
     "name": "stdout",
     "output_type": "stream",
     "text": [
      "shofikul shofikul shofikul shofikul shofikul shofikul shofikul shofikul shofikul shofikul \n"
     ]
    }
   ],
   "source": [
    "# String Repetation\n",
    "\n",
    "text=\"shofikul \"\n",
    "repeat=text*10\n",
    "print(repeat)\n",
    "\n"
   ]
  },
  {
   "cell_type": "code",
   "execution_count": 112,
   "id": "9b6ae149",
   "metadata": {},
   "outputs": [
    {
     "name": "stdout",
     "output_type": "stream",
     "text": [
      "shofikul shofikul shofikul shofikul shofikul shofikul shofikul shofikul shofikul shofikul \n"
     ]
    }
   ],
   "source": [
    "text=\"shofikul \"\n",
    "repeat=text*10\n",
    "print(repeat)"
   ]
  },
  {
   "cell_type": "code",
   "execution_count": 113,
   "id": "9dcab510",
   "metadata": {},
   "outputs": [
    {
     "name": "stdout",
     "output_type": "stream",
     "text": [
      "My name is Jack and my age is 30.890000\n"
     ]
    }
   ],
   "source": [
    "\n",
    "\n",
    "name=\"Jack\"\n",
    "age=30.89\n",
    "# %s string placeholder\n",
    "# %d number placeholder (int)\n",
    "# %f number placeholder (float)\n",
    "total=\"My name is %s and my age is %f\" %(name,age)\n",
    "print(total)\n",
    "\n"
   ]
  },
  {
   "cell_type": "code",
   "execution_count": 114,
   "id": "203fdeef",
   "metadata": {},
   "outputs": [
    {
     "name": "stdout",
     "output_type": "stream",
     "text": [
      "my name is shofikukl  and my age is 23\n"
     ]
    }
   ],
   "source": [
    "name =\"shofikukl \"\n",
    "age=23\n",
    "print(f\"my name is {name} and my age is {age}\" )"
   ]
  },
  {
   "cell_type": "code",
   "execution_count": 116,
   "id": "30d5e90e",
   "metadata": {},
   "outputs": [
    {
     "name": "stdout",
     "output_type": "stream",
     "text": [
      "hello python\n"
     ]
    }
   ],
   "source": [
    "# 6. String Replacement\n",
    "\n",
    "text=\"hello world\"\n",
    "new_text=text.replace(\"world\", \"python\")\n",
    "print(new_text)\n"
   ]
  },
  {
   "cell_type": "code",
   "execution_count": 117,
   "id": "3639a599",
   "metadata": {},
   "outputs": [
    {
     "name": "stdout",
     "output_type": "stream",
     "text": [
      "hello shofikul islam\n"
     ]
    }
   ],
   "source": [
    "# 6. String Replacement\n",
    "\n",
    "text=\"hello shofikul hasan\"\n",
    "new_text=text.replace(\"hasan\", \"islam\")\n",
    "print(new_text)\n"
   ]
  },
  {
   "cell_type": "code",
   "execution_count": null,
   "id": "8de5347f",
   "metadata": {},
   "outputs": [],
   "source": [
    "text=\"hello shofikul islam\"\n",
    "new_text2=text.replace(\"islam\",\" hasan\")\n"
   ]
  },
  {
   "cell_type": "code",
   "execution_count": 119,
   "id": "d1c9158b",
   "metadata": {},
   "outputs": [
    {
     "name": "stdout",
     "output_type": "stream",
     "text": [
      "hello shofikul, dhaka international university\n"
     ]
    }
   ],
   "source": [
    "text = \"hello world, dhaka international university\"\n",
    "new_text=text.replace(\"world\",\"shofikul\")\n",
    "print(new_text)"
   ]
  },
  {
   "cell_type": "code",
   "execution_count": 122,
   "id": "241b3e3d",
   "metadata": {},
   "outputs": [
    {
     "name": "stdout",
     "output_type": "stream",
     "text": [
      "hello world, shofikul international university\n"
     ]
    }
   ],
   "source": [
    "text = \"hello world, dhaka international university\"\n",
    "new_text=text.replace(\"dhaka \",\"shofikul \")\n",
    "print(new_text)"
   ]
  },
  {
   "cell_type": "code",
   "execution_count": null,
   "id": "43e0d596",
   "metadata": {},
   "outputs": [
    {
     "name": "stdout",
     "output_type": "stream",
     "text": [
      "hi  shofikul , how are you0\n"
     ]
    }
   ],
   "source": [
    "text=\"hi  kabir , how are you\"\n",
    "new_text3=text.replace(\"kabir\", \"shofikul\")\n",
    "print(new_text3)"
   ]
  },
  {
   "cell_type": "code",
   "execution_count": 130,
   "id": "e328b48e",
   "metadata": {},
   "outputs": [
    {
     "name": "stdout",
     "output_type": "stream",
     "text": [
      "['hello', 'world']\n"
     ]
    }
   ],
   "source": [
    "text_5=\"hello world\"\n",
    "textList_5=text_5.split()\n",
    "print(textList_5)"
   ]
  },
  {
   "cell_type": "code",
   "execution_count": 2,
   "id": "6d3d2f13",
   "metadata": {},
   "outputs": [
    {
     "name": "stdout",
     "output_type": "stream",
     "text": [
      "['dhaka', 'international', 'university', 'satarkul']\n"
     ]
    }
   ],
   "source": [
    "original_text=\"dhaka international university  satarkul\"\n",
    "splitText=original_text.split()\n",
    "print(splitText)"
   ]
  },
  {
   "cell_type": "code",
   "execution_count": 4,
   "id": "df07c54f",
   "metadata": {},
   "outputs": [
    {
     "name": "stdout",
     "output_type": "stream",
     "text": [
      "['Dhaka', 'international', 'university', ',', 'satarkul']\n"
     ]
    }
   ],
   "source": [
    "original_text=\"Dhaka international university ,  satarkul\"\n",
    "splitText=original_text.split()\n",
    "print(splitText)"
   ]
  },
  {
   "cell_type": "code",
   "execution_count": 6,
   "id": "ffa49a22",
   "metadata": {},
   "outputs": [
    {
     "name": "stdout",
     "output_type": "stream",
     "text": [
      "['dhaka', 'international', 'university', '-', 'satarkul']\n"
     ]
    }
   ],
   "source": [
    "original_text=\"dhaka international university -  satarkul\"\n",
    "splitText=original_text.split()\n",
    "print(splitText)"
   ]
  },
  {
   "cell_type": "code",
   "execution_count": null,
   "id": "09386bc1",
   "metadata": {},
   "outputs": [
    {
     "name": "stdout",
     "output_type": "stream",
     "text": [
      "                         Hello World bangladesh\n",
      "Hello World bangladesh           \n",
      "Hello World bangladesh\n"
     ]
    }
   ],
   "source": [
    "text_or=\"                         Hello World bangladesh           \"\n",
    "print(text_or.rstrip())\n"
   ]
  },
  {
   "cell_type": "code",
   "execution_count": 22,
   "id": "e558856e",
   "metadata": {},
   "outputs": [
    {
     "name": "stdout",
     "output_type": "stream",
     "text": [
      "Hello World banglade   \n"
     ]
    }
   ],
   "source": [
    "text_or=\"     Hello World banglade   \"\n",
    "print(text_or.lstrip())\n",
    " "
   ]
  },
  {
   "cell_type": "code",
   "execution_count": 27,
   "id": "984420c4",
   "metadata": {},
   "outputs": [
    {
     "name": "stdout",
     "output_type": "stream",
     "text": [
      "Hello World bangladesh\n"
     ]
    }
   ],
   "source": [
    "text_or=\"                         Hello World bangladesh           \"\n",
    "print(text_or.strip())\n"
   ]
  },
  {
   "cell_type": "code",
   "execution_count": 28,
   "id": "a423782f",
   "metadata": {},
   "outputs": [
    {
     "name": "stdout",
     "output_type": "stream",
     "text": [
      "Addition: 30\n",
      "Subtraction: -10\n",
      "Multiplication: 200\n",
      "Division: 0.5\n",
      "Modulus: 10\n"
     ]
    }
   ],
   "source": [
    "# Math or Number Arithmetic calculation\n",
    "\n",
    "# Math or Number Arithmetic calculation\n",
    "a=10\n",
    "b=20\n",
    "c=5.67\n",
    "\n",
    "print(\"Addition:\",a+b)\n",
    "print(\"Subtraction:\",a-b)\n",
    "print(\"Multiplication:\",a*b)\n",
    "print(\"Division:\",a/b)\n",
    "print(\"Modulus:\",a%b)"
   ]
  },
  {
   "cell_type": "code",
   "execution_count": 35,
   "id": "54001b0b",
   "metadata": {},
   "outputs": [
    {
     "name": "stdout",
     "output_type": "stream",
     "text": [
      "addition: 30\n",
      "addition: 10\n",
      "addition: 200\n",
      "addition: 2.0\n",
      "addition: 2.99\n"
     ]
    }
   ],
   "source": [
    "a=20\n",
    "b=10\n",
    "c=5.67\n",
    "print(\"addition:\", a+b)\n",
    "print(\"addition:\", a-b)\n",
    "print(\"addition:\", a*b)\n",
    "print(\"addition:\", a/b)\n",
    "print(\"addition:\", a%c)"
   ]
  },
  {
   "cell_type": "code",
   "execution_count": null,
   "id": "1d8daae2",
   "metadata": {},
   "outputs": [],
   "source": []
  },
  {
   "cell_type": "code",
   "execution_count": 36,
   "id": "c43cb004",
   "metadata": {},
   "outputs": [
    {
     "name": "stdout",
     "output_type": "stream",
     "text": [
      "10.0\n",
      "3\n",
      "10\n",
      "3.1516\n"
     ]
    }
   ],
   "source": [
    "x=10\n",
    "y=3.1516\n",
    "\n",
    "print(float(x)) #Int->Float\n",
    "print(int(y))  #Float->Int\n",
    "\n",
    "print(str(x))  #Int->String\n",
    "print(str(y))  #Float->String"
   ]
  },
  {
   "cell_type": "code",
   "execution_count": null,
   "id": "a12f061b",
   "metadata": {},
   "outputs": [],
   "source": [
    "# \"Python-এ টাইপ কনভার্সন: Int, Float এবং String\"\n",
    "''' x = 10          # x একটি পূর্ণসংখ্যা (integer)\n",
    "y = 3.1516      # y একটি দশমিক সংখ্যা (float)\n",
    "\n",
    "print(float(x)) # x কে float-এ রূপান্তর করা হচ্ছে → ফলাফল: 10.0\n",
    "print(int(y))   # y কে int-এ রূপান্তর করা হচ্ছে → ফলাফল: 3\n",
    "\n",
    "print(str(x))   # x কে string-এ রূপান্তর করা হচ্ছে → ফলাফল: \"10\"\n",
    "print(str(y))   # y কে string-এ রূপান্তর করা হচ্ছে → ফলাফল: \"3.1516\"\n",
    "'''\n",
    "\n"
   ]
  },
  {
   "cell_type": "code",
   "execution_count": 37,
   "id": "baa98924",
   "metadata": {},
   "outputs": [
    {
     "name": "stdout",
     "output_type": "stream",
     "text": [
      "10.0\n",
      "3\n",
      "10\n",
      "3.1516\n"
     ]
    }
   ],
   "source": [
    "x = 10          # x একটি পূর্ণসংখ্যা (integer)\n",
    "y = 3.1516      # y একটি দশমিক সংখ্যা (float)\n",
    "\n",
    "print(float(x)) # x কে float-এ রূপান্তর করা হচ্ছে → ফলাফল: 10.0\n",
    "print(int(y))   # y কে int-এ রূপান্তর করা হচ্ছে → ফলাফল: 3\n",
    "\n",
    "print(str(x))   # x কে string-এ রূপান্তর করা হচ্ছে → ফলাফল: \"10\"\n",
    "print(str(y))   # y কে string-এ রূপান্তর করা হচ্ছে → ফলাফল: \"3.1516\"\n"
   ]
  },
  {
   "cell_type": "code",
   "execution_count": 40,
   "id": "0df859f5",
   "metadata": {},
   "outputs": [
    {
     "name": "stdout",
     "output_type": "stream",
     "text": [
      "10.0\n",
      "3.1416\n",
      "10\n",
      "3.1416\n"
     ]
    }
   ],
   "source": [
    "x=10\n",
    "y=3.1416\n",
    "print(float(x))\n",
    "print(float(y))\n",
    "print(str(x))\n",
    "print(str(y))"
   ]
  },
  {
   "cell_type": "code",
   "execution_count": 41,
   "id": "a2fbcd5c",
   "metadata": {},
   "outputs": [
    {
     "name": "stdout",
     "output_type": "stream",
     "text": [
      "16\n"
     ]
    }
   ],
   "source": [
    "result= 10 + 3*2  # + 26 # * 16\n",
    "print(result)"
   ]
  },
  {
   "cell_type": "code",
   "execution_count": 43,
   "id": "d0a4866d",
   "metadata": {},
   "outputs": [
    {
     "name": "stdout",
     "output_type": "stream",
     "text": [
      "22\n"
     ]
    }
   ],
   "source": [
    "result=10+2*6\n",
    "print(result)"
   ]
  },
  {
   "cell_type": "code",
   "execution_count": null,
   "id": "357cd0db",
   "metadata": {},
   "outputs": [
    {
     "name": "stdout",
     "output_type": "stream",
     "text": [
      "Square Root 4.0\n",
      "Power 100.0\n",
      "Trigonometric 1.0\n",
      "Trigonometric 6.123233995736766e-17\n",
      "Trigonometric 0.9999999999999999\n",
      "Logarithmic 2.302585092994046\n",
      "Logarithmic 1.0\n",
      "Factorial 120\n",
      "Greatest common divisor 50\n",
      "Lowest Common Multiple 100\n"
     ]
    }
   ],
   "source": [
    "\n",
    "# \"Python math লাইব্রেরি ব্যবহার করে গণিতের ফাংশনসমূহ\"\n",
    "\n",
    "\n",
    "import math\n",
    "print(\"Square Root\", math.sqrt(16))\n",
    "math.sqrt(16)\n",
    "print(\"Power\", math.pow(10, 2))\n",
    "print(\"Trigonometric\", math.sin(math.radians(90)))\n",
    "print(\"Trigonometric\", math.cos(math.radians(90)))\n",
    "print(\"Trigonometric\", math.tan(math.radians(45)))\n",
    "print(\"Logarithmic\", math.log(10))\n",
    "print(\"Logarithmic\", math.log10(10))\n",
    "print(\"Factorial\", math.factorial(5))\n",
    "print(\"Greatest common divisor\", math.gcd(50, 100))\n",
    "print(\"Lowest Common Multiple\", math.lcm(50, 100))\n",
    "\n",
    "\n",
    "\n",
    "\n",
    "math.sqrt(16) → ১৬ এর বর্গমূল বের করে।\n",
    "\n",
    "ফলাফল: 4.0\n",
    " \n",
    " math.pow(10, 2) → ১০ এর ঘাত ২ (অর্থাৎ 10² = 100)\n",
    "\n",
    "ফলাফল: 100.0"
   ]
  },
  {
   "cell_type": "code",
   "execution_count": null,
   "id": "0f6c779d",
   "metadata": {},
   "outputs": [],
   "source": []
  },
  {
   "cell_type": "code",
   "execution_count": null,
   "id": "83119cb2",
   "metadata": {},
   "outputs": [],
   "source": [
    "# ১. Square Root (বর্গমূল):\n",
    "# → ১৬ এর বর্গমূল বের করে।\n",
    "\n",
    "# ফলাফল: 4.0\n",
    "\n",
    "# ✅ ২. Power (ঘাত):\n",
    "\n",
    "\n",
    "# → ১০ এর ঘাত ২ (অর্থাৎ 10² = 100)\n",
    "\n",
    "# ফলাফল: 100.0\n",
    "\n",
    "#  ৩. Trigonometric Functions (ত্রিকোণমিতিক ফাংশন):\n",
    "\n",
    "\n",
    "# → ডিগ্রি কে রেডিয়ান-এ রূপান্তর করে, কারণ sin, cos, tan রেডিয়ান ব্যবহার করে।\n",
    "\n",
    "# sin(90°) → 1.0\n",
    "\n",
    "# cos(90°) → 0.0 (প্রায়)\n",
    "\n",
    "# tan(45°) → 1.0\n",
    "\n",
    "# ✅ ৪. Logarithmic Functions (লঘুগণিত):\n",
    "\n",
    "\n",
    "\n",
    "\n",
    "# → ১০ এর প্রাকৃতিক লগ (base e) → ফলাফল: 2.302...\n",
    "\n",
    "\n",
    "# → ১০ এর base 10 লগ → ফলাফল: 1.0\n",
    "\n",
    "# ✅ ৫. Factorial (গুণনফল):\n",
    "\n",
    "\n",
    "# → ৫! = ৫×৪×৩×২×১ = 120\n",
    "\n",
    "# ✅ ৬. Greatest Common Divisor (GCD - সর্বোচ্চ সাধারণ গুণিতক):\n",
    "\n",
    "\n",
    "\n",
    "#  → ৫০ এবং ১০০ এর GCD = 50\n",
    "\n",
    "# ✅ ৭. Lowest Common Multiple (LCM - সর্বনিম্ন সাধারণ গুণিতক):\n",
    "\n",
    "\n",
    "# → ৫০ এবং ১০০ এর LCM = 100"
   ]
  },
  {
   "cell_type": "code",
   "execution_count": null,
   "id": "e6406983",
   "metadata": {},
   "outputs": [],
   "source": []
  },
  {
   "cell_type": "code",
   "execution_count": null,
   "id": "7aa43717",
   "metadata": {},
   "outputs": [],
   "source": []
  },
  {
   "cell_type": "code",
   "execution_count": null,
   "id": "4e6aea47",
   "metadata": {},
   "outputs": [],
   "source": []
  },
  {
   "cell_type": "code",
   "execution_count": null,
   "id": "b339d1ff",
   "metadata": {},
   "outputs": [],
   "source": []
  },
  {
   "cell_type": "code",
   "execution_count": null,
   "id": "aed79e19",
   "metadata": {},
   "outputs": [],
   "source": []
  },
  {
   "cell_type": "code",
   "execution_count": null,
   "id": "3e9cd14e",
   "metadata": {},
   "outputs": [],
   "source": []
  },
  {
   "cell_type": "code",
   "execution_count": null,
   "id": "359ad659",
   "metadata": {},
   "outputs": [],
   "source": []
  },
  {
   "cell_type": "code",
   "execution_count": null,
   "id": "0bacdffd",
   "metadata": {},
   "outputs": [],
   "source": []
  },
  {
   "cell_type": "code",
   "execution_count": null,
   "id": "1b0f544b",
   "metadata": {},
   "outputs": [],
   "source": []
  },
  {
   "cell_type": "code",
   "execution_count": null,
   "id": "42949f81",
   "metadata": {},
   "outputs": [],
   "source": []
  },
  {
   "cell_type": "code",
   "execution_count": null,
   "id": "4a260f85",
   "metadata": {},
   "outputs": [],
   "source": []
  },
  {
   "cell_type": "code",
   "execution_count": null,
   "id": "618623ff",
   "metadata": {},
   "outputs": [],
   "source": []
  },
  {
   "cell_type": "code",
   "execution_count": null,
   "id": "5116b3b5",
   "metadata": {},
   "outputs": [],
   "source": []
  },
  {
   "cell_type": "code",
   "execution_count": null,
   "id": "39852e5d",
   "metadata": {},
   "outputs": [],
   "source": []
  },
  {
   "cell_type": "code",
   "execution_count": null,
   "id": "262ab9fb",
   "metadata": {},
   "outputs": [],
   "source": []
  },
  {
   "cell_type": "code",
   "execution_count": null,
   "id": "1ee7435b",
   "metadata": {},
   "outputs": [],
   "source": []
  },
  {
   "cell_type": "code",
   "execution_count": null,
   "id": "8d20d2a6",
   "metadata": {},
   "outputs": [],
   "source": []
  },
  {
   "cell_type": "code",
   "execution_count": null,
   "id": "a4eba7c0",
   "metadata": {},
   "outputs": [],
   "source": []
  },
  {
   "cell_type": "code",
   "execution_count": null,
   "id": "49f93180",
   "metadata": {},
   "outputs": [],
   "source": []
  },
  {
   "cell_type": "code",
   "execution_count": null,
   "id": "1835c451",
   "metadata": {},
   "outputs": [],
   "source": []
  },
  {
   "cell_type": "code",
   "execution_count": null,
   "id": "645cf342",
   "metadata": {},
   "outputs": [],
   "source": []
  },
  {
   "cell_type": "code",
   "execution_count": null,
   "id": "bd2dc463",
   "metadata": {},
   "outputs": [],
   "source": []
  },
  {
   "cell_type": "code",
   "execution_count": null,
   "id": "aa905607",
   "metadata": {},
   "outputs": [],
   "source": []
  },
  {
   "cell_type": "code",
   "execution_count": null,
   "id": "99609f09",
   "metadata": {},
   "outputs": [],
   "source": []
  },
  {
   "cell_type": "code",
   "execution_count": null,
   "id": "529a0e85",
   "metadata": {},
   "outputs": [],
   "source": []
  },
  {
   "cell_type": "code",
   "execution_count": null,
   "id": "22904cc1",
   "metadata": {},
   "outputs": [],
   "source": []
  },
  {
   "cell_type": "code",
   "execution_count": null,
   "id": "7288e78b",
   "metadata": {},
   "outputs": [],
   "source": []
  },
  {
   "cell_type": "code",
   "execution_count": null,
   "id": "39ac93ad",
   "metadata": {},
   "outputs": [],
   "source": []
  },
  {
   "cell_type": "code",
   "execution_count": null,
   "id": "6b3187b8",
   "metadata": {},
   "outputs": [],
   "source": []
  },
  {
   "cell_type": "code",
   "execution_count": null,
   "id": "0f64038c",
   "metadata": {},
   "outputs": [],
   "source": []
  },
  {
   "cell_type": "code",
   "execution_count": null,
   "id": "ee045816",
   "metadata": {},
   "outputs": [],
   "source": []
  },
  {
   "cell_type": "code",
   "execution_count": null,
   "id": "e3c0a0be",
   "metadata": {},
   "outputs": [],
   "source": []
  },
  {
   "cell_type": "code",
   "execution_count": null,
   "id": "490f5e5f",
   "metadata": {},
   "outputs": [],
   "source": []
  },
  {
   "cell_type": "code",
   "execution_count": null,
   "id": "ac9c497c",
   "metadata": {},
   "outputs": [],
   "source": []
  },
  {
   "cell_type": "code",
   "execution_count": null,
   "id": "bf288998",
   "metadata": {},
   "outputs": [],
   "source": []
  },
  {
   "cell_type": "code",
   "execution_count": null,
   "id": "9c5e7d81",
   "metadata": {},
   "outputs": [],
   "source": []
  },
  {
   "cell_type": "code",
   "execution_count": null,
   "id": "356d0267",
   "metadata": {},
   "outputs": [],
   "source": []
  },
  {
   "cell_type": "code",
   "execution_count": null,
   "id": "ecde0784",
   "metadata": {},
   "outputs": [],
   "source": []
  },
  {
   "cell_type": "code",
   "execution_count": null,
   "id": "3659e850",
   "metadata": {},
   "outputs": [],
   "source": []
  },
  {
   "cell_type": "code",
   "execution_count": null,
   "id": "75492dde",
   "metadata": {},
   "outputs": [],
   "source": []
  },
  {
   "cell_type": "code",
   "execution_count": null,
   "id": "411378b2",
   "metadata": {},
   "outputs": [],
   "source": []
  },
  {
   "cell_type": "code",
   "execution_count": null,
   "id": "35dace1a",
   "metadata": {},
   "outputs": [],
   "source": []
  },
  {
   "cell_type": "code",
   "execution_count": null,
   "id": "b61e0151",
   "metadata": {},
   "outputs": [],
   "source": []
  },
  {
   "cell_type": "code",
   "execution_count": null,
   "id": "021ea23a",
   "metadata": {},
   "outputs": [],
   "source": []
  },
  {
   "cell_type": "code",
   "execution_count": null,
   "id": "06b7f4f3",
   "metadata": {},
   "outputs": [],
   "source": []
  },
  {
   "cell_type": "code",
   "execution_count": null,
   "id": "9cb03eaa",
   "metadata": {},
   "outputs": [],
   "source": []
  },
  {
   "cell_type": "code",
   "execution_count": null,
   "id": "52d292dc",
   "metadata": {},
   "outputs": [],
   "source": []
  },
  {
   "cell_type": "code",
   "execution_count": null,
   "id": "74993e2c",
   "metadata": {},
   "outputs": [],
   "source": []
  },
  {
   "cell_type": "code",
   "execution_count": null,
   "id": "e8a7a59a",
   "metadata": {},
   "outputs": [],
   "source": []
  },
  {
   "cell_type": "code",
   "execution_count": null,
   "id": "fc8b7958",
   "metadata": {},
   "outputs": [],
   "source": []
  },
  {
   "cell_type": "code",
   "execution_count": null,
   "id": "39a0938c",
   "metadata": {},
   "outputs": [],
   "source": []
  },
  {
   "cell_type": "code",
   "execution_count": null,
   "id": "279496b2",
   "metadata": {},
   "outputs": [],
   "source": []
  },
  {
   "cell_type": "code",
   "execution_count": null,
   "id": "4523e676",
   "metadata": {},
   "outputs": [],
   "source": []
  },
  {
   "cell_type": "code",
   "execution_count": null,
   "id": "cc92b179",
   "metadata": {},
   "outputs": [],
   "source": []
  },
  {
   "cell_type": "code",
   "execution_count": null,
   "id": "9a6ee0ff",
   "metadata": {},
   "outputs": [],
   "source": []
  },
  {
   "cell_type": "code",
   "execution_count": null,
   "id": "c55fd6c9",
   "metadata": {},
   "outputs": [],
   "source": []
  },
  {
   "cell_type": "code",
   "execution_count": null,
   "id": "4b43576a",
   "metadata": {},
   "outputs": [],
   "source": []
  },
  {
   "cell_type": "code",
   "execution_count": null,
   "id": "ef2b92cc",
   "metadata": {},
   "outputs": [],
   "source": []
  },
  {
   "cell_type": "code",
   "execution_count": null,
   "id": "ddf67fa2",
   "metadata": {},
   "outputs": [],
   "source": []
  },
  {
   "cell_type": "code",
   "execution_count": null,
   "id": "1c587374",
   "metadata": {},
   "outputs": [],
   "source": []
  },
  {
   "cell_type": "code",
   "execution_count": null,
   "id": "71f2a634",
   "metadata": {},
   "outputs": [],
   "source": []
  },
  {
   "cell_type": "code",
   "execution_count": null,
   "id": "400206d0",
   "metadata": {},
   "outputs": [],
   "source": []
  },
  {
   "cell_type": "code",
   "execution_count": null,
   "id": "555d7f47",
   "metadata": {},
   "outputs": [],
   "source": []
  },
  {
   "cell_type": "code",
   "execution_count": null,
   "id": "4d86cb64",
   "metadata": {},
   "outputs": [],
   "source": []
  },
  {
   "cell_type": "code",
   "execution_count": null,
   "id": "d2a969d7",
   "metadata": {},
   "outputs": [],
   "source": []
  },
  {
   "cell_type": "code",
   "execution_count": null,
   "id": "277151d2",
   "metadata": {},
   "outputs": [],
   "source": []
  },
  {
   "cell_type": "code",
   "execution_count": null,
   "id": "9e05dbcd",
   "metadata": {},
   "outputs": [],
   "source": []
  },
  {
   "cell_type": "code",
   "execution_count": null,
   "id": "7b42e788",
   "metadata": {},
   "outputs": [],
   "source": []
  },
  {
   "cell_type": "code",
   "execution_count": null,
   "id": "f3281d9c",
   "metadata": {},
   "outputs": [],
   "source": []
  },
  {
   "cell_type": "code",
   "execution_count": null,
   "id": "d29a4943",
   "metadata": {},
   "outputs": [],
   "source": []
  },
  {
   "cell_type": "code",
   "execution_count": null,
   "id": "63254780",
   "metadata": {},
   "outputs": [],
   "source": []
  },
  {
   "cell_type": "code",
   "execution_count": null,
   "id": "7d4f105a",
   "metadata": {},
   "outputs": [],
   "source": []
  },
  {
   "cell_type": "code",
   "execution_count": null,
   "id": "888abd58",
   "metadata": {},
   "outputs": [],
   "source": []
  },
  {
   "cell_type": "code",
   "execution_count": null,
   "id": "0ffdb87e",
   "metadata": {},
   "outputs": [],
   "source": []
  },
  {
   "cell_type": "code",
   "execution_count": null,
   "id": "7d34e88b",
   "metadata": {},
   "outputs": [],
   "source": []
  },
  {
   "cell_type": "code",
   "execution_count": null,
   "id": "ce062d0d",
   "metadata": {},
   "outputs": [],
   "source": []
  },
  {
   "cell_type": "code",
   "execution_count": null,
   "id": "80fdff95",
   "metadata": {},
   "outputs": [],
   "source": []
  },
  {
   "cell_type": "code",
   "execution_count": null,
   "id": "2e2a58aa",
   "metadata": {},
   "outputs": [],
   "source": []
  },
  {
   "cell_type": "code",
   "execution_count": null,
   "id": "59c6d397",
   "metadata": {},
   "outputs": [],
   "source": []
  },
  {
   "cell_type": "code",
   "execution_count": null,
   "id": "8c4e17fa",
   "metadata": {},
   "outputs": [],
   "source": []
  },
  {
   "cell_type": "code",
   "execution_count": null,
   "id": "4403c952",
   "metadata": {},
   "outputs": [],
   "source": []
  },
  {
   "cell_type": "code",
   "execution_count": null,
   "id": "92e1cb15",
   "metadata": {},
   "outputs": [],
   "source": []
  },
  {
   "cell_type": "code",
   "execution_count": null,
   "id": "e184f1f7",
   "metadata": {},
   "outputs": [],
   "source": []
  },
  {
   "cell_type": "code",
   "execution_count": null,
   "id": "60ec8171",
   "metadata": {},
   "outputs": [],
   "source": []
  },
  {
   "cell_type": "code",
   "execution_count": null,
   "id": "a7952f45",
   "metadata": {},
   "outputs": [],
   "source": []
  },
  {
   "cell_type": "code",
   "execution_count": null,
   "id": "eeae8d9e",
   "metadata": {},
   "outputs": [],
   "source": []
  },
  {
   "cell_type": "code",
   "execution_count": null,
   "id": "ff405b6f",
   "metadata": {},
   "outputs": [],
   "source": []
  },
  {
   "cell_type": "code",
   "execution_count": null,
   "id": "47a7270d",
   "metadata": {},
   "outputs": [],
   "source": []
  },
  {
   "cell_type": "code",
   "execution_count": null,
   "id": "8c64afc8",
   "metadata": {},
   "outputs": [],
   "source": []
  },
  {
   "cell_type": "code",
   "execution_count": null,
   "id": "db1c753c",
   "metadata": {},
   "outputs": [],
   "source": []
  },
  {
   "cell_type": "code",
   "execution_count": null,
   "id": "d08f0c3a",
   "metadata": {},
   "outputs": [],
   "source": []
  },
  {
   "cell_type": "code",
   "execution_count": null,
   "id": "bae48356",
   "metadata": {},
   "outputs": [],
   "source": []
  },
  {
   "cell_type": "code",
   "execution_count": null,
   "id": "525b2bf7",
   "metadata": {},
   "outputs": [],
   "source": []
  },
  {
   "cell_type": "code",
   "execution_count": null,
   "id": "fb630dbf",
   "metadata": {},
   "outputs": [],
   "source": []
  },
  {
   "cell_type": "code",
   "execution_count": null,
   "id": "6902e881",
   "metadata": {},
   "outputs": [],
   "source": []
  },
  {
   "cell_type": "code",
   "execution_count": null,
   "id": "952720e4",
   "metadata": {},
   "outputs": [],
   "source": []
  }
 ],
 "metadata": {
  "kernelspec": {
   "display_name": "Python 3",
   "language": "python",
   "name": "python3"
  },
  "language_info": {
   "codemirror_mode": {
    "name": "ipython",
    "version": 3
   },
   "file_extension": ".py",
   "mimetype": "text/x-python",
   "name": "python",
   "nbconvert_exporter": "python",
   "pygments_lexer": "ipython3",
   "version": "3.13.7"
  }
 },
 "nbformat": 4,
 "nbformat_minor": 5
}
