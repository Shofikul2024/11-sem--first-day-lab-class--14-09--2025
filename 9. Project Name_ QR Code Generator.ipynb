{
 "cells": [
  {
   "cell_type": "code",
   "execution_count": null,
   "id": "a0791b60",
   "metadata": {},
   "outputs": [],
   "source": [
    "import qrcode\n",
    "img=qrcode.make(\"https://www.facebook.com/share/17cbRNsmW4/\")\n",
    "type(img)\n",
    "img.save(\"demo.png\")\n"
   ]
  },
  {
   "cell_type": "code",
   "execution_count": 2,
   "id": "30c2d925",
   "metadata": {},
   "outputs": [],
   "source": [
    "import qrcode\n",
    "img=qrcode.make(\"https://www.facebook.com/share/17cbRNsmW4/\")\n",
    "img=qrcode.make(\"https://github.com/Shofikul2024\")\n",
    "img=qrcode.make(\"01746399687\")\n",
    "type(img)\n",
    "img.save(\"demo.png\")\n"
   ]
  },
  {
   "cell_type": "code",
   "execution_count": null,
   "id": "92e481e5",
   "metadata": {},
   "outputs": [],
   "source": []
  },
  {
   "cell_type": "code",
   "execution_count": 6,
   "id": "81901012",
   "metadata": {},
   "outputs": [],
   "source": [
    "import qrcode\n",
    "img=qrcode.make(\"https://www.facebook.com/share/17cbRNsmW4/\")\n",
    " \n",
    " \n",
    "type(img)\n",
    "img.save(\"fb1.png\")\n"
   ]
  },
  {
   "cell_type": "code",
   "execution_count": 7,
   "id": "9800044e",
   "metadata": {},
   "outputs": [],
   "source": [
    "import qrcode\n",
    " \n",
    "img=qrcode.make(\"https://github.com/Shofikul2024\")\n",
    " \n",
    "type(img)\n",
    "img.save(\"ghl1.png\")\n"
   ]
  },
  {
   "cell_type": "code",
   "execution_count": null,
   "id": "ca023f88",
   "metadata": {},
   "outputs": [],
   "source": []
  },
  {
   "cell_type": "code",
   "execution_count": null,
   "id": "66aa331b",
   "metadata": {},
   "outputs": [],
   "source": []
  },
  {
   "cell_type": "code",
   "execution_count": null,
   "id": "158e305c",
   "metadata": {},
   "outputs": [],
   "source": []
  }
 ],
 "metadata": {
  "kernelspec": {
   "display_name": "Python 3",
   "language": "python",
   "name": "python3"
  },
  "language_info": {
   "codemirror_mode": {
    "name": "ipython",
    "version": 3
   },
   "file_extension": ".py",
   "mimetype": "text/x-python",
   "name": "python",
   "nbconvert_exporter": "python",
   "pygments_lexer": "ipython3",
   "version": "3.13.7"
  }
 },
 "nbformat": 4,
 "nbformat_minor": 5
}
