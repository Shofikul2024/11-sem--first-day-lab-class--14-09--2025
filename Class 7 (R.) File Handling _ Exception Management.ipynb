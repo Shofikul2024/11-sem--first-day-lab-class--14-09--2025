{
 "cells": [
  {
   "cell_type": "code",
   "execution_count": 1,
   "id": "a0ec6fbe",
   "metadata": {},
   "outputs": [
    {
     "name": "stdout",
     "output_type": "stream",
     "text": [
      "hello world\n"
     ]
    }
   ],
   "source": [
    "print(\"hello world\")"
   ]
  },
  {
   "cell_type": "code",
   "execution_count": null,
   "id": "20cca446",
   "metadata": {},
   "outputs": [],
   "source": [
    "# 1. File Handling Use Cases\n",
    "# ফাইল হ্যান্ডলিং ব্যবহৃত হয় তথ্য (data) সংরক্ষণ, পড়া, পরিবর্তন, এবং মুছে ফেলার জন্য।\n",
    "# এটি বিভিন্ন ধরনের ফাইল যেমন টেক্সট ফাইল, CSV ফাইল, JSON ফাইল, এবং লগ ফাইল পরিচালনা করতে ব্যবহৃত হয়।\n",
    "# ফাইল হ্যান্ডলিং এর কিছু সাধারণ ব্যবহারিক ক্ষেত্র:\n",
    "\n",
    "\n",
    "#  Reading and Writing  \n",
    "# - CSV File Processing  \n",
    "# - Log File Management  \n",
    "# - Configuration Files  \n",
    "# - File Uploads and Downloads  \n",
    "# - Storage  \n",
    "\n"
   ]
  },
  {
   "cell_type": "code",
   "execution_count": null,
   "id": "dffccfa1",
   "metadata": {},
   "outputs": [],
   "source": [
    "# 2. Creating & Writing a File\n",
    "# with open(\"index.html\",\"w\") as file:\n",
    "# file.write(\"<h1>Learn Python</h1>\")\n"
   ]
  },
  {
   "cell_type": "code",
   "execution_count": 2,
   "id": "a99d4560",
   "metadata": {},
   "outputs": [],
   "source": [
    "# 2. Creating & Writing a File\n",
    "\n",
    "with open (\"index.html\",\"w\") as file:\n",
    "    file.write(\"<h1>Learn Python</h1>\")"
   ]
  },
  {
   "cell_type": "code",
   "execution_count": null,
   "id": "17ce3202",
   "metadata": {},
   "outputs": [],
   "source": []
  }
 ],
 "metadata": {
  "kernelspec": {
   "display_name": "Python 3",
   "language": "python",
   "name": "python3"
  },
  "language_info": {
   "codemirror_mode": {
    "name": "ipython",
    "version": 3
   },
   "file_extension": ".py",
   "mimetype": "text/x-python",
   "name": "python",
   "nbconvert_exporter": "python",
   "pygments_lexer": "ipython3",
   "version": "3.13.7"
  }
 },
 "nbformat": 4,
 "nbformat_minor": 5
}
