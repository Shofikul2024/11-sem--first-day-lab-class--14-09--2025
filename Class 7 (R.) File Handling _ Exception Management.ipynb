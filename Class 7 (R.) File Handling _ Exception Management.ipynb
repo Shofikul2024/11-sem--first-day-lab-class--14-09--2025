{
 "cells": [
  {
   "cell_type": "code",
   "execution_count": 1,
   "id": "a0ec6fbe",
   "metadata": {},
   "outputs": [
    {
     "name": "stdout",
     "output_type": "stream",
     "text": [
      "hello world\n"
     ]
    }
   ],
   "source": [
    "print(\"hello world\")"
   ]
  },
  {
   "cell_type": "code",
   "execution_count": null,
   "id": "20cca446",
   "metadata": {},
   "outputs": [],
   "source": [
    "# 1. File Handling Use Cases\n",
    "# ফাইল হ্যান্ডলিং ব্যবহৃত হয় তথ্য (data) সংরক্ষণ, পড়া, পরিবর্তন, এবং মুছে ফেলার জন্য।\n",
    "# এটি বিভিন্ন ধরনের ফাইল যেমন টেক্সট ফাইল, CSV ফাইল, JSON ফাইল, এবং লগ ফাইল পরিচালনা করতে ব্যবহৃত হয়।\n",
    "# ফাইল হ্যান্ডলিং এর কিছু সাধারণ ব্যবহারিক ক্ষেত্র:\n",
    "\n",
    "\n",
    "#  Reading and Writing  \n",
    "# - CSV File Processing  \n",
    "# - Log File Management  \n",
    "# - Configuration Files  \n",
    "# - File Uploads and Downloads  \n",
    "# - Storage  \n",
    "\n"
   ]
  },
  {
   "cell_type": "code",
   "execution_count": null,
   "id": "dffccfa1",
   "metadata": {},
   "outputs": [],
   "source": [
    "# 2. Creating & Writing a File\n",
    "# with open(\"index.html\",\"w\") as file:\n",
    "# file.write(\"<h1>Learn Python</h1>\")\n"
   ]
  },
  {
   "cell_type": "code",
   "execution_count": 2,
   "id": "a99d4560",
   "metadata": {},
   "outputs": [],
   "source": [
    "# 2. Creating & Writing a File\n",
    "\n",
    "with open (\"index.html\",\"w\") as file:\n",
    "    file.write(\"<h1>Learn Python</h1>\")"
   ]
  },
  {
   "cell_type": "code",
   "execution_count": 4,
   "id": "17ce3202",
   "metadata": {},
   "outputs": [],
   "source": [
    "'''  এখানে open() ফাংশন দিয়ে একটি নতুন ফাইল তৈরি করা হয়েছে। \"w\" মানে write mode → ফাইল না থাকলে তৈরি হবে, থাকলে ওভাররাইট হবে।'''\n",
    "\n",
    "with open(\"home.html\",\"w\") as file:\n",
    "    file.write(\"<h1>Welcome to Home Page</h1> \")"
   ]
  },
  {
   "cell_type": "code",
   "execution_count": null,
   "id": "471de841",
   "metadata": {},
   "outputs": [],
   "source": []
  },
  {
   "cell_type": "code",
   "execution_count": null,
   "id": "f50e0fcb",
   "metadata": {},
   "outputs": [
    {
     "data": {
      "text/plain": [
       "'  UnicodeDecodeError: \\'charmap\\' codec can\\'t decode byte 0x8f in position 127\\n\\nএটার মানে হচ্ছে Python যখন example.text ফাইলটা পড়ছে তখন default encoding (Windows এ সাধারণত cp1252) দিয়ে পড়তে পারছে না।\\n\\n✅ সমাধান হলো ফাইল ওপেন করার সময় সঠিক encoding ব্যবহার করা। সাধারণত UTF-8 ব্যবহার করলে সমস্যার সমাধান হয়ে যায়।\\n\\nকোডটা এভাবে লিখুন:\\n\\nwith open(\"assets/example.text\", \"r\", encoding=\"utf-8\") as file:\\n    content = file.read()\\n    print(content)\\n    '"
      ]
     },
     "execution_count": 9,
     "metadata": {},
     "output_type": "execute_result"
    }
   ],
   "source": [
    "#   UnicodeDecodeError: 'charmap' codec can't decode byte 0x8f in position 127\n",
    "\n",
    "# এটার মানে হচ্ছে Python যখন example.text ফাইলটা পড়ছে তখন default encoding (Windows এ সাধারণত cp1252) দিয়ে পড়তে পারছে না।\n",
    "\n",
    "# ✅ সমাধান হলো ফাইল ওপেন করার সময় সঠিক encoding ব্যবহার করা। সাধারণত UTF-8 ব্যবহার করলে সমস্যার সমাধান হয়ে যায়।\n",
    "\n",
    "# কোডটা এভাবে লিখুন:\n",
    "\n",
    "# with open(\"assets/example.text\", \"r\", encoding=\"utf-8\") as file:\n",
    "#     content = file.read()\n",
    "#     print(content)\n",
    "   \n",
    "\n",
    "\n",
    "\n",
    "# with open(\"assets/example.text\", \"r\") as file:\n",
    "#     content = file.read()\n",
    "#     print(content)\n"
   ]
  },
  {
   "cell_type": "code",
   "execution_count": 1,
   "id": "849330fe",
   "metadata": {},
   "outputs": [
    {
     "name": "stdout",
     "output_type": "stream",
     "text": [
      "successfully   read  the  file \n",
      "\n",
      " 3. Reading a File\n",
      "with open(\"assets/example.text\", \"r\") as file:\n",
      "    content = file.read()\n",
      "    print(content)\n",
      "\n",
      "\n",
      " \n",
      "\n",
      " এখানে \"r\" মানে read mode। ফাইল থেকে ডেটা পড়া হচ্ছে এবং কনসোলে প্রিন্ট করা হচ্ছে।\n"
     ]
    }
   ],
   "source": [
    "with open(\"assets/example.text\", \"r\", encoding=\"utf-8\") as file:\n",
    "    content = file.read()\n",
    "    print(content)\n"
   ]
  },
  {
   "cell_type": "code",
   "execution_count": null,
   "id": "3958901f",
   "metadata": {},
   "outputs": [],
   "source": []
  },
  {
   "cell_type": "code",
   "execution_count": null,
   "id": "7fb1a530",
   "metadata": {},
   "outputs": [],
   "source": []
  },
  {
   "cell_type": "code",
   "execution_count": null,
   "id": "43be9052",
   "metadata": {},
   "outputs": [],
   "source": []
  },
  {
   "cell_type": "code",
   "execution_count": null,
   "id": "11b9ad9b",
   "metadata": {},
   "outputs": [],
   "source": []
  },
  {
   "cell_type": "code",
   "execution_count": null,
   "id": "17d891c9",
   "metadata": {},
   "outputs": [],
   "source": []
  },
  {
   "cell_type": "code",
   "execution_count": null,
   "id": "414632d7",
   "metadata": {},
   "outputs": [],
   "source": []
  },
  {
   "cell_type": "code",
   "execution_count": null,
   "id": "d3a34293",
   "metadata": {},
   "outputs": [],
   "source": []
  },
  {
   "cell_type": "code",
   "execution_count": null,
   "id": "1fec3d5e",
   "metadata": {},
   "outputs": [],
   "source": []
  }
 ],
 "metadata": {
  "kernelspec": {
   "display_name": "Python 3",
   "language": "python",
   "name": "python3"
  },
  "language_info": {
   "codemirror_mode": {
    "name": "ipython",
    "version": 3
   },
   "file_extension": ".py",
   "mimetype": "text/x-python",
   "name": "python",
   "nbconvert_exporter": "python",
   "pygments_lexer": "ipython3",
   "version": "3.13.7"
  }
 },
 "nbformat": 4,
 "nbformat_minor": 5
}
