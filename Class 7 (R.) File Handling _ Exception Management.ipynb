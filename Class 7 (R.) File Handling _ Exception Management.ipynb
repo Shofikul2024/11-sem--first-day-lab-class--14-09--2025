{
 "cells": [
  {
   "cell_type": "code",
   "execution_count": 1,
   "id": "a0ec6fbe",
   "metadata": {},
   "outputs": [
    {
     "name": "stdout",
     "output_type": "stream",
     "text": [
      "hello world\n"
     ]
    }
   ],
   "source": [
    "print(\"hello world\")"
   ]
  },
  {
   "cell_type": "code",
   "execution_count": 2,
   "id": "20cca446",
   "metadata": {},
   "outputs": [],
   "source": [
    "# 1. File Handling Use Cases\n",
    "# ফাইল হ্যান্ডলিং ব্যবহৃত হয় তথ্য (data) সংরক্ষণ, পড়া, পরিবর্তন, এবং মুছে ফেলার জন্য।\n",
    "# এটি বিভিন্ন ধরনের ফাইল যেমন টেক্সট ফাইল, CSV ফাইল, JSON ফাইল, এবং লগ ফাইল পরিচালনা করতে ব্যবহৃত হয়।\n",
    "# ফাইল হ্যান্ডলিং এর কিছু সাধারণ ব্যবহারিক ক্ষেত্র:\n",
    "\n",
    "\n",
    "#  Reading and Writing  \n",
    "# - CSV File Processing  \n",
    "# - Log File Management  \n",
    "# - Configuration Files  \n",
    "# - File Uploads and Downloads  \n",
    "# - Storage  \n",
    "\n"
   ]
  },
  {
   "cell_type": "code",
   "execution_count": 3,
   "id": "dffccfa1",
   "metadata": {},
   "outputs": [],
   "source": [
    "# 2. Creating & Writing a File\n",
    "# with open(\"index.html\",\"w\") as file:\n",
    "# file.write(\"<h1>Learn Python</h1>\")\n"
   ]
  },
  {
   "cell_type": "code",
   "execution_count": 4,
   "id": "a99d4560",
   "metadata": {},
   "outputs": [],
   "source": [
    "# 2. Creating & Writing a File\n",
    "\n",
    "with open (\"index.html\",\"w\") as file:\n",
    "    file.write(\"<h1>Learn Python</h1>\")"
   ]
  },
  {
   "cell_type": "code",
   "execution_count": 5,
   "id": "17ce3202",
   "metadata": {},
   "outputs": [],
   "source": [
    "'''  এখানে open() ফাংশন দিয়ে একটি নতুন ফাইল তৈরি করা হয়েছে। \"w\" মানে write mode → ফাইল না থাকলে তৈরি হবে, থাকলে ওভাররাইট হবে।'''\n",
    "\n",
    "with open(\"home.html\",\"w\") as file:\n",
    "    file.write(\"<h1>Welcome to Home Page</h1> \")"
   ]
  },
  {
   "cell_type": "code",
   "execution_count": null,
   "id": "471de841",
   "metadata": {},
   "outputs": [],
   "source": []
  },
  {
   "cell_type": "code",
   "execution_count": 6,
   "id": "f50e0fcb",
   "metadata": {},
   "outputs": [],
   "source": [
    "#   UnicodeDecodeError: 'charmap' codec can't decode byte 0x8f in position 127\n",
    "\n",
    "# এটার মানে হচ্ছে Python যখন example.text ফাইলটা পড়ছে তখন default encoding (Windows এ সাধারণত cp1252) দিয়ে পড়তে পারছে না।\n",
    "\n",
    "# ✅ সমাধান হলো ফাইল ওপেন করার সময় সঠিক encoding ব্যবহার করা। সাধারণত UTF-8 ব্যবহার করলে সমস্যার সমাধান হয়ে যায়।\n",
    "\n",
    "# কোডটা এভাবে লিখুন:\n",
    "\n",
    "# with open(\"assets/example.text\", \"r\", encoding=\"utf-8\") as file:\n",
    "#     content = file.read()\n",
    "#     print(content)\n",
    "   \n",
    "\n",
    "\n",
    "\n",
    "# with open(\"assets/example.text\", \"r\") as file:\n",
    "#     content = file.read()\n",
    "#     print(content)\n"
   ]
  },
  {
   "cell_type": "code",
   "execution_count": 7,
   "id": "849330fe",
   "metadata": {},
   "outputs": [
    {
     "name": "stdout",
     "output_type": "stream",
     "text": [
      "successfully   read  the  file \n",
      "\n",
      " 3. Reading a File\n",
      "with open(\"assets/example.text\", \"r\") as file:\n",
      "    content = file.read()\n",
      "    print(content)\n",
      "\n",
      "\n",
      " \n",
      "\n",
      " এখানে \"r\" মানে read mode। ফাইল থেকে ডেটা পড়া হচ্ছে এবং কনসোলে প্রিন্ট করা হচ্ছে।\n"
     ]
    }
   ],
   "source": [
    "with open(\"assets/example.text\", \"r\", encoding=\"utf-8\") as file:\n",
    "    content = file.read()\n",
    "    print(content)\n"
   ]
  },
  {
   "cell_type": "code",
   "execution_count": 8,
   "id": "3958901f",
   "metadata": {},
   "outputs": [],
   "source": [
    "# Creating & Writing a File in Specific Directory\n",
    "\n",
    "\n",
    "with open(\"assets/login.html\", \"w\") as file:\n",
    "    file.write(\"<h1>Learn  login this file </h1>\")\n",
    "\n",
    "\n",
    "\n",
    "# এখানে ফাইলটি নির্দিষ্ট ফোল্ডার (assets) এর ভিতরে তৈরি করা হয়েছে।"
   ]
  },
  {
   "cell_type": "code",
   "execution_count": null,
   "id": "43be9052",
   "metadata": {},
   "outputs": [],
   "source": []
  },
  {
   "cell_type": "code",
   "execution_count": 9,
   "id": "11b9ad9b",
   "metadata": {},
   "outputs": [],
   "source": [
    "import os\n",
    "os.makedirs(\"assert3\", exist_ok=True )  # Create directory if it doesn't exist\n",
    "with open(\"assert3/login3.html\" ,\"w\") as file:\n",
    "    file.write(\"<h1>Learn  login this file 3. helping website </h1>\")"
   ]
  },
  {
   "cell_type": "code",
   "execution_count": 21,
   "id": "414632d7",
   "metadata": {},
   "outputs": [
    {
     "ename": "FileNotFoundError",
     "evalue": "[WinError 2] The system cannot find the file specified: 'assert3/login3.html' -> 'assert3/change-login.html'",
     "output_type": "error",
     "traceback": [
      "\u001b[31m---------------------------------------------------------------------------\u001b[39m",
      "\u001b[31mFileNotFoundError\u001b[39m                         Traceback (most recent call last)",
      "\u001b[36mCell\u001b[39m\u001b[36m \u001b[39m\u001b[32mIn[21]\u001b[39m\u001b[32m, line 9\u001b[39m\n\u001b[32m      1\u001b[39m \u001b[38;5;66;03m# 5. Rename a File  \u001b[39;00m\n\u001b[32m      2\u001b[39m \n\u001b[32m      3\u001b[39m \u001b[38;5;66;03m# firstly  fole name  assert3/login3.html\u001b[39;00m\n\u001b[32m      4\u001b[39m \u001b[38;5;66;03m# cilo   aita ke change korte hobe  assert3/change-login.html\u001b[39;00m\n\u001b[32m      5\u001b[39m \u001b[38;5;66;03m# diyechi\u001b[39;00m\n\u001b[32m      8\u001b[39m \u001b[38;5;28;01mimport\u001b[39;00m\u001b[38;5;250m \u001b[39m\u001b[34;01mos\u001b[39;00m\n\u001b[32m----> \u001b[39m\u001b[32m9\u001b[39m \u001b[43mos\u001b[49m\u001b[43m.\u001b[49m\u001b[43mrename\u001b[49m\u001b[43m(\u001b[49m\u001b[33;43m\"\u001b[39;49m\u001b[33;43massert3/login3.html\u001b[39;49m\u001b[33;43m\"\u001b[39;49m\u001b[43m,\u001b[49m\u001b[43m \u001b[49m\u001b[33;43m\"\u001b[39;49m\u001b[33;43massert3/change-login.html\u001b[39;49m\u001b[33;43m\"\u001b[39;49m\u001b[43m)\u001b[49m\n",
      "\u001b[31mFileNotFoundError\u001b[39m: [WinError 2] The system cannot find the file specified: 'assert3/login3.html' -> 'assert3/change-login.html'"
     ]
    }
   ],
   "source": [
    "# 5. Rename a File  \n",
    "\n",
    "# firstly  fole name  assert3/login3.html\n",
    "# cilo   aita ke change korte hobe  assert3/change-login.html\n",
    "# diyechi\n",
    "\n",
    "\n",
    "import os\n",
    "os.rename(\"assert3/login3.html\", \"assert3/change-login.html\")\n"
   ]
  },
  {
   "cell_type": "code",
   "execution_count": 20,
   "id": "1fec3d5e",
   "metadata": {},
   "outputs": [
    {
     "ename": "FileNotFoundError",
     "evalue": "[WinError 2] The system cannot find the file specified: 'assets/login.html' -> 'assets/change-login.html'",
     "output_type": "error",
     "traceback": [
      "\u001b[31m---------------------------------------------------------------------------\u001b[39m",
      "\u001b[31mFileNotFoundError\u001b[39m                         Traceback (most recent call last)",
      "\u001b[36mCell\u001b[39m\u001b[36m \u001b[39m\u001b[32mIn[20]\u001b[39m\u001b[32m, line 2\u001b[39m\n\u001b[32m      1\u001b[39m \u001b[38;5;28;01mimport\u001b[39;00m\u001b[38;5;250m \u001b[39m\u001b[34;01mos\u001b[39;00m\n\u001b[32m----> \u001b[39m\u001b[32m2\u001b[39m \u001b[43mos\u001b[49m\u001b[43m.\u001b[49m\u001b[43mrename\u001b[49m\u001b[43m(\u001b[49m\u001b[33;43m\"\u001b[39;49m\u001b[33;43massets/login.html\u001b[39;49m\u001b[33;43m\"\u001b[39;49m\u001b[43m,\u001b[49m\u001b[43m \u001b[49m\u001b[33;43m\"\u001b[39;49m\u001b[33;43massets/change-login.html\u001b[39;49m\u001b[33;43m\"\u001b[39;49m\u001b[43m)\u001b[49m\n",
      "\u001b[31mFileNotFoundError\u001b[39m: [WinError 2] The system cannot find the file specified: 'assets/login.html' -> 'assets/change-login.html'"
     ]
    }
   ],
   "source": [
    "import os\n",
    "os.rename(\"assets/login.html\", \"assets/change-login.html\")\n"
   ]
  },
  {
   "cell_type": "code",
   "execution_count": 18,
   "id": "48732206",
   "metadata": {},
   "outputs": [
    {
     "ename": "FileNotFoundError",
     "evalue": "[WinError 2] The system cannot find the file specified: 'assets/new-index.html' -> 'assets/new-index.html'",
     "output_type": "error",
     "traceback": [
      "\u001b[31m---------------------------------------------------------------------------\u001b[39m",
      "\u001b[31mFileNotFoundError\u001b[39m                         Traceback (most recent call last)",
      "\u001b[36mCell\u001b[39m\u001b[36m \u001b[39m\u001b[32mIn[18]\u001b[39m\u001b[32m, line 2\u001b[39m\n\u001b[32m      1\u001b[39m \u001b[38;5;28;01mimport\u001b[39;00m\u001b[38;5;250m \u001b[39m\u001b[34;01mos\u001b[39;00m\n\u001b[32m----> \u001b[39m\u001b[32m2\u001b[39m \u001b[43mos\u001b[49m\u001b[43m.\u001b[49m\u001b[43mrename\u001b[49m\u001b[43m(\u001b[49m\u001b[33;43m\"\u001b[39;49m\u001b[33;43massets/new-index.html\u001b[39;49m\u001b[33;43m\"\u001b[39;49m\u001b[43m,\u001b[49m\u001b[43m \u001b[49m\u001b[33;43m\"\u001b[39;49m\u001b[33;43massets/new-index.html\u001b[39;49m\u001b[33;43m\"\u001b[39;49m\u001b[43m)\u001b[49m\n",
      "\u001b[31mFileNotFoundError\u001b[39m: [WinError 2] The system cannot find the file specified: 'assets/new-index.html' -> 'assets/new-index.html'"
     ]
    }
   ],
   "source": [
    "import os\n",
    "os.rename(\"assets/new-index.html\", \"assets/new-index.html\")\n"
   ]
  },
  {
   "cell_type": "code",
   "execution_count": 22,
   "id": "b141daee",
   "metadata": {},
   "outputs": [],
   "source": [
    "import os\n",
    "os.remove(\"assets/index.html\")  # Remove the file\n"
   ]
  },
  {
   "cell_type": "code",
   "execution_count": null,
   "id": "930a27bb",
   "metadata": {},
   "outputs": [],
   "source": []
  },
  {
   "cell_type": "code",
   "execution_count": null,
   "id": "4bdb08fc",
   "metadata": {},
   "outputs": [],
   "source": []
  },
  {
   "cell_type": "code",
   "execution_count": null,
   "id": "12ec63c6",
   "metadata": {},
   "outputs": [],
   "source": []
  }
 ],
 "metadata": {
  "kernelspec": {
   "display_name": "Python 3",
   "language": "python",
   "name": "python3"
  },
  "language_info": {
   "codemirror_mode": {
    "name": "ipython",
    "version": 3
   },
   "file_extension": ".py",
   "mimetype": "text/x-python",
   "name": "python",
   "nbconvert_exporter": "python",
   "pygments_lexer": "ipython3",
   "version": "3.13.7"
  }
 },
 "nbformat": 4,
 "nbformat_minor": 5
}
