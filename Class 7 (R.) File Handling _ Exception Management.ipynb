{
 "cells": [
  {
   "cell_type": "code",
   "execution_count": 1,
   "id": "a0ec6fbe",
   "metadata": {},
   "outputs": [
    {
     "name": "stdout",
     "output_type": "stream",
     "text": [
      "hello world\n"
     ]
    }
   ],
   "source": [
    "print(\"hello world\")"
   ]
  },
  {
   "cell_type": "code",
   "execution_count": null,
   "id": "20cca446",
   "metadata": {},
   "outputs": [],
   "source": [
    "# 1. File Handling Use Cases\n",
    "# ফাইল হ্যান্ডলিং ব্যবহৃত হয় তথ্য (data) সংরক্ষণ, পড়া, পরিবর্তন, এবং মুছে ফেলার জন্য।\n",
    "# এটি বিভিন্ন ধরনের ফাইল যেমন টেক্সট ফাইল, CSV ফাইল, JSON ফাইল, এবং লগ ফাইল পরিচালনা করতে ব্যবহৃত হয়।\n",
    "# ফাইল হ্যান্ডলিং এর কিছু সাধারণ ব্যবহারিক ক্ষেত্র:\n",
    "\n",
    "\n",
    "#  Reading and Writing  \n",
    "# - CSV File Processing  \n",
    "# - Log File Management  \n",
    "# - Configuration Files  \n",
    "# - File Uploads and Downloads  \n",
    "# - Storage  \n",
    "\n"
   ]
  },
  {
   "cell_type": "code",
   "execution_count": null,
   "id": "dffccfa1",
   "metadata": {},
   "outputs": [],
   "source": [
    "# 2. Creating & Writing a File\n",
    "# with open(\"index.html\",\"w\") as file:\n",
    "# file.write(\"<h1>Learn Python</h1>\")\n"
   ]
  },
  {
   "cell_type": "code",
   "execution_count": 2,
   "id": "a99d4560",
   "metadata": {},
   "outputs": [],
   "source": [
    "# 2. Creating & Writing a File\n",
    "\n",
    "with open (\"index.html\",\"w\") as file:\n",
    "    file.write(\"<h1>Learn Python</h1>\")"
   ]
  },
  {
   "cell_type": "code",
   "execution_count": 4,
   "id": "17ce3202",
   "metadata": {},
   "outputs": [],
   "source": [
    "'''  এখানে open() ফাংশন দিয়ে একটি নতুন ফাইল তৈরি করা হয়েছে। \"w\" মানে write mode → ফাইল না থাকলে তৈরি হবে, থাকলে ওভাররাইট হবে।'''\n",
    "\n",
    "with open(\"home.html\",\"w\") as file:\n",
    "    file.write(\"<h1>Welcome to Home Page</h1> \")"
   ]
  },
  {
   "cell_type": "code",
   "execution_count": null,
   "id": "471de841",
   "metadata": {},
   "outputs": [],
   "source": []
  },
  {
   "cell_type": "code",
   "execution_count": null,
   "id": "f50e0fcb",
   "metadata": {},
   "outputs": [
    {
     "data": {
      "text/plain": [
       "'  UnicodeDecodeError: \\'charmap\\' codec can\\'t decode byte 0x8f in position 127\\n\\nএটার মানে হচ্ছে Python যখন example.text ফাইলটা পড়ছে তখন default encoding (Windows এ সাধারণত cp1252) দিয়ে পড়তে পারছে না।\\n\\n✅ সমাধান হলো ফাইল ওপেন করার সময় সঠিক encoding ব্যবহার করা। সাধারণত UTF-8 ব্যবহার করলে সমস্যার সমাধান হয়ে যায়।\\n\\nকোডটা এভাবে লিখুন:\\n\\nwith open(\"assets/example.text\", \"r\", encoding=\"utf-8\") as file:\\n    content = file.read()\\n    print(content)\\n    '"
      ]
     },
     "execution_count": 9,
     "metadata": {},
     "output_type": "execute_result"
    }
   ],
   "source": [
    "#   UnicodeDecodeError: 'charmap' codec can't decode byte 0x8f in position 127\n",
    "\n",
    "# এটার মানে হচ্ছে Python যখন example.text ফাইলটা পড়ছে তখন default encoding (Windows এ সাধারণত cp1252) দিয়ে পড়তে পারছে না।\n",
    "\n",
    "# ✅ সমাধান হলো ফাইল ওপেন করার সময় সঠিক encoding ব্যবহার করা। সাধারণত UTF-8 ব্যবহার করলে সমস্যার সমাধান হয়ে যায়।\n",
    "\n",
    "# কোডটা এভাবে লিখুন:\n",
    "\n",
    "# with open(\"assets/example.text\", \"r\", encoding=\"utf-8\") as file:\n",
    "#     content = file.read()\n",
    "#     print(content)\n",
    "   \n",
    "\n",
    "\n",
    "\n",
    "# with open(\"assets/example.text\", \"r\") as file:\n",
    "#     content = file.read()\n",
    "#     print(content)\n"
   ]
  },
  {
   "cell_type": "code",
   "execution_count": 1,
   "id": "849330fe",
   "metadata": {},
   "outputs": [
    {
     "name": "stdout",
     "output_type": "stream",
     "text": [
      "successfully   read  the  file \n",
      "\n",
      " 3. Reading a File\n",
      "with open(\"assets/example.text\", \"r\") as file:\n",
      "    content = file.read()\n",
      "    print(content)\n",
      "\n",
      "\n",
      " \n",
      "\n",
      " এখানে \"r\" মানে read mode। ফাইল থেকে ডেটা পড়া হচ্ছে এবং কনসোলে প্রিন্ট করা হচ্ছে।\n"
     ]
    }
   ],
   "source": [
    "with open(\"assets/example.text\", \"r\", encoding=\"utf-8\") as file:\n",
    "    content = file.read()\n",
    "    print(content)\n"
   ]
  },
  {
   "cell_type": "code",
   "execution_count": 4,
   "id": "3958901f",
   "metadata": {},
   "outputs": [],
   "source": [
    "# Creating & Writing a File in Specific Directory\n",
    "\n",
    "\n",
    "with open(\"assets/login.html\", \"w\") as file:\n",
    "    file.write(\"<h1>Learn  login this file </h1>\")\n",
    "\n",
    "\n",
    "\n",
    "# এখানে ফাইলটি নির্দিষ্ট ফোল্ডার (assets) এর ভিতরে তৈরি করা হয়েছে।"
   ]
  },
  {
   "cell_type": "code",
   "execution_count": 6,
   "id": "7fb1a530",
   "metadata": {},
   "outputs": [
    {
     "ename": "FileNotFoundError",
     "evalue": "[Errno 2] No such file or directory: 'asset2/login2.html'",
     "output_type": "error",
     "traceback": [
      "\u001b[31m---------------------------------------------------------------------------\u001b[39m",
      "\u001b[31mFileNotFoundError\u001b[39m                         Traceback (most recent call last)",
      "\u001b[36mCell\u001b[39m\u001b[36m \u001b[39m\u001b[32mIn[6]\u001b[39m\u001b[32m, line 1\u001b[39m\n\u001b[32m----> \u001b[39m\u001b[32m1\u001b[39m \u001b[38;5;28;01mwith\u001b[39;00m \u001b[38;5;28;43mopen\u001b[39;49m\u001b[43m(\u001b[49m\u001b[33;43m\"\u001b[39;49m\u001b[33;43masset2/login2.html\u001b[39;49m\u001b[33;43m\"\u001b[39;49m\u001b[43m,\u001b[49m\u001b[43m \u001b[49m\u001b[33;43m\"\u001b[39;49m\u001b[33;43mw\u001b[39;49m\u001b[33;43m\"\u001b[39;49m\u001b[43m)\u001b[49m \u001b[38;5;28;01mas\u001b[39;00m file:\n\u001b[32m      2\u001b[39m     file.write(\u001b[33m\"\u001b[39m\u001b[33m<h1>Learn  login this file 2</h1>\u001b[39m\u001b[33m\"\u001b[39m)\n",
      "\u001b[36mFile \u001b[39m\u001b[32mc:\\Users\\islam\\AppData\\Local\\Programs\\Python\\Python313\\Lib\\site-packages\\IPython\\core\\interactiveshell.py:343\u001b[39m, in \u001b[36m_modified_open\u001b[39m\u001b[34m(file, *args, **kwargs)\u001b[39m\n\u001b[32m    336\u001b[39m \u001b[38;5;28;01mif\u001b[39;00m file \u001b[38;5;129;01min\u001b[39;00m {\u001b[32m0\u001b[39m, \u001b[32m1\u001b[39m, \u001b[32m2\u001b[39m}:\n\u001b[32m    337\u001b[39m     \u001b[38;5;28;01mraise\u001b[39;00m \u001b[38;5;167;01mValueError\u001b[39;00m(\n\u001b[32m    338\u001b[39m         \u001b[33mf\u001b[39m\u001b[33m\"\u001b[39m\u001b[33mIPython won\u001b[39m\u001b[33m'\u001b[39m\u001b[33mt let you open fd=\u001b[39m\u001b[38;5;132;01m{\u001b[39;00mfile\u001b[38;5;132;01m}\u001b[39;00m\u001b[33m by default \u001b[39m\u001b[33m\"\u001b[39m\n\u001b[32m    339\u001b[39m         \u001b[33m\"\u001b[39m\u001b[33mas it is likely to crash IPython. If you know what you are doing, \u001b[39m\u001b[33m\"\u001b[39m\n\u001b[32m    340\u001b[39m         \u001b[33m\"\u001b[39m\u001b[33myou can use builtins\u001b[39m\u001b[33m'\u001b[39m\u001b[33m open.\u001b[39m\u001b[33m\"\u001b[39m\n\u001b[32m    341\u001b[39m     )\n\u001b[32m--> \u001b[39m\u001b[32m343\u001b[39m \u001b[38;5;28;01mreturn\u001b[39;00m \u001b[43mio_open\u001b[49m\u001b[43m(\u001b[49m\u001b[43mfile\u001b[49m\u001b[43m,\u001b[49m\u001b[43m \u001b[49m\u001b[43m*\u001b[49m\u001b[43margs\u001b[49m\u001b[43m,\u001b[49m\u001b[43m \u001b[49m\u001b[43m*\u001b[49m\u001b[43m*\u001b[49m\u001b[43mkwargs\u001b[49m\u001b[43m)\u001b[49m\n",
      "\u001b[31mFileNotFoundError\u001b[39m: [Errno 2] No such file or directory: 'asset2/login2.html'"
     ]
    }
   ],
   "source": [
    "with open(\"asset2/login2.html\", \"w\") as file:\n",
    "    file.write(\"<h1>Learn  login this file 2</h1>\")"
   ]
  },
  {
   "cell_type": "code",
   "execution_count": null,
   "id": "43be9052",
   "metadata": {},
   "outputs": [],
   "source": []
  },
  {
   "cell_type": "code",
   "execution_count": 10,
   "id": "11b9ad9b",
   "metadata": {},
   "outputs": [],
   "source": [
    "import os\n",
    "os.makedirs(\"assert3\", exist_ok=True )  # Create directory if it doesn't exist\n",
    "with open(\"assert3/login3.html\" ,\"w\") as file:\n",
    "    file.write(\"<h1>Learn  login this file 3. helping website </h1>\")"
   ]
  },
  {
   "cell_type": "code",
   "execution_count": null,
   "id": "414632d7",
   "metadata": {},
   "outputs": [],
   "source": []
  },
  {
   "cell_type": "code",
   "execution_count": null,
   "id": "d3a34293",
   "metadata": {},
   "outputs": [],
   "source": []
  },
  {
   "cell_type": "code",
   "execution_count": null,
   "id": "1fec3d5e",
   "metadata": {},
   "outputs": [],
   "source": []
  }
 ],
 "metadata": {
  "kernelspec": {
   "display_name": "Python 3",
   "language": "python",
   "name": "python3"
  },
  "language_info": {
   "codemirror_mode": {
    "name": "ipython",
    "version": 3
   },
   "file_extension": ".py",
   "mimetype": "text/x-python",
   "name": "python",
   "nbconvert_exporter": "python",
   "pygments_lexer": "ipython3",
   "version": "3.13.7"
  }
 },
 "nbformat": 4,
 "nbformat_minor": 5
}
