{
 "cells": [
  {
   "cell_type": "code",
   "execution_count": null,
   "id": "dcb8ff8e",
   "metadata": {},
   "outputs": [],
   "source": []
  },
  {
   "cell_type": "code",
   "execution_count": null,
   "id": "be2fa101",
   "metadata": {},
   "outputs": [
    {
     "name": "stdout",
     "output_type": "stream",
     "text": [
      "Process completed...\n"
     ]
    }
   ],
   "source": [
    "\n",
    "# '''\n",
    "# 1. import korte hobe from PIL import image\n",
    "# 2. import korte hobe from rembg import image\n",
    "# 3.image ti ke input nite hobe\n",
    "# 4.image ti ke  output nite hobe\n",
    "\n",
    "# .png   extension  thaka  image  er background  image remove  dile\n",
    "# easily  kaj kora jay\n",
    "# .\n",
    "\n",
    "# jode  .jpg diye image thake tobe background remove kora\n",
    "# onk difficult tokhon jpg ke  rgn te convert korte hoy\n",
    "\n",
    "\n",
    "# '''\n",
    "\n",
    "\n",
    "\n",
    "# very important \n",
    "# summary  ai project korar jonno 3 ta library install korte hobe\n",
    "\n",
    "# pip install rembg\n",
    "# pip install onnxruntime\n",
    "# pip install Pillow\n",
    "\n",
    "\n",
    "\n",
    "\n",
    "from PIL import Image\n",
    "from rembg import remove\n",
    "\n",
    "# Input image path\n",
    "input_image = \"input-image.png\"\n",
    "input_image_open = Image.open(input_image)\n",
    "\n",
    "# Remove background\n",
    "output_image = remove(input_image_open)\n",
    "output_image.save(\"sofi-output-image.png\")\n",
    "\n",
    "print(\"Process completed...\")\n",
    "\n"
   ]
  },
  {
   "cell_type": "code",
   "execution_count": null,
   "id": "f7685a85",
   "metadata": {},
   "outputs": [],
   "source": []
  },
  {
   "cell_type": "code",
   "execution_count": null,
   "id": "94aa268a",
   "metadata": {},
   "outputs": [],
   "source": []
  },
  {
   "cell_type": "code",
   "execution_count": null,
   "id": "d8346815",
   "metadata": {},
   "outputs": [],
   "source": []
  },
  {
   "cell_type": "code",
   "execution_count": null,
   "id": "57918d5f",
   "metadata": {},
   "outputs": [],
   "source": []
  },
  {
   "cell_type": "code",
   "execution_count": null,
   "id": "7e43195c",
   "metadata": {},
   "outputs": [],
   "source": []
  },
  {
   "cell_type": "code",
   "execution_count": null,
   "id": "1cabf428",
   "metadata": {},
   "outputs": [],
   "source": []
  },
  {
   "cell_type": "code",
   "execution_count": null,
   "id": "35165cb9",
   "metadata": {},
   "outputs": [],
   "source": []
  },
  {
   "cell_type": "code",
   "execution_count": null,
   "id": "cb47eb26",
   "metadata": {},
   "outputs": [],
   "source": []
  }
 ],
 "metadata": {
  "kernelspec": {
   "display_name": "Python 3",
   "language": "python",
   "name": "python3"
  },
  "language_info": {
   "codemirror_mode": {
    "name": "ipython",
    "version": 3
   },
   "file_extension": ".py",
   "mimetype": "text/x-python",
   "name": "python",
   "nbconvert_exporter": "python",
   "pygments_lexer": "ipython3",
   "version": "3.13.7"
  }
 },
 "nbformat": 4,
 "nbformat_minor": 5
}
