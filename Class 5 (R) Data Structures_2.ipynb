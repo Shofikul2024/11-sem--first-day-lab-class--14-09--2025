{
 "cells": [
  {
   "cell_type": "code",
   "execution_count": 11,
   "id": "2512ef78",
   "metadata": {},
   "outputs": [
    {
     "name": "stdout",
     "output_type": "stream",
     "text": [
      "cherry\n"
     ]
    }
   ],
   "source": [
    "# Code 1: লিস্ট থেকে মান বের করা (Accessing List Items)\n",
    "\n",
    "\n",
    "fruits = [\"apple\", \"banana\", \"cherry\"]\n",
    "print(fruits[2])"
   ]
  },
  {
   "cell_type": "code",
   "execution_count": 12,
   "id": "430005ae",
   "metadata": {},
   "outputs": [
    {
     "name": "stdout",
     "output_type": "stream",
     "text": [
      "['apple', 'banana', 'cherry', 'apple']\n",
      "['apple', 'banana', 'cherry', 'apple', 'orange']\n",
      "['apple', 'orange', 'banana', 'cherry', 'apple', 'orange']\n",
      "['apple', 'orange', 'banana', 'cherry', 'apple', 'orange', 'grape', 'melon']\n"
     ]
    }
   ],
   "source": [
    "# Code 2: লিস্ট মেথড (List Methods - Add & Modify)\n",
    "\n",
    "fruits = [\"apple\", \"banana\", \"cherry\", \"apple\"]\n",
    "print(fruits)\n",
    "fruits.append(\"orange\")        # Add at the end\n",
    "\n",
    "print(fruits)\n",
    "fruits.insert(1, \"orange\")     # Insert at index 1\n",
    "print(fruits)\n",
    "fruits.extend([\"grape\", \"melon\"]) # Add multiple items\n",
    "print(fruits)\n",
    "\n",
    "\n",
    "\n",
    "\n",
    "\n",
    "# ''' append() → লিস্টের শেষে \"orange\" যোগ করে।\n",
    "\n",
    "# insert(1, \"orange\") → ১ নম্বর ইন্ডেক্সে \"orange\" ঢুকিয়ে দেয়।\n",
    "\n",
    "# extend() → একসাথে একাধিক আইটেম যোগ করে (grape, melon)।'''"
   ]
  },
  {
   "cell_type": "code",
   "execution_count": 13,
   "id": "fd428b58",
   "metadata": {},
   "outputs": [
    {
     "name": "stdout",
     "output_type": "stream",
     "text": [
      "0\n"
     ]
    }
   ],
   "source": [
    "# Code 3: লিস্ট থেকে ডিলিট (List Methods - Remove & Clear)\n",
    "\n",
    "fruits = [\"apple\", \"banana\", \"cherry\", \"apple\"]\n",
    "fruits.remove(\"banana\")   # Remove by value\n",
    "fruits.pop()              # Remove last item\n",
    "fruits.clear()            # Clear all items\n",
    "print(fruits.count(\"apple\"))  # Count how many times 'apple' appears\n",
    "\n",
    "\n",
    "\n",
    "\n",
    "# '''  remove(\"banana\") → \"banana\" মুছে ফেলে।\n",
    "\n",
    "# pop() → শেষের আইটেম মুছে ফেলে।\n",
    "\n",
    "# clear() → পুরো লিস্ট খালি করে দেয়।\n",
    "\n",
    "# count(\"apple\") → \"apple\" কয়বার আছে তা গুনে।'''"
   ]
  },
  {
   "cell_type": "code",
   "execution_count": null,
   "id": "8c544373",
   "metadata": {},
   "outputs": [],
   "source": [
    "# Code 4: নাম্বার লিস্ট মেথড (Number List Methods)\n",
    "\n",
    "\n",
    "numbers = [3, 6, 8, 10, 9]\n",
    "numbers.sort()       # Sort ascending\n",
    "numbers.reverse()    # Reverse order\n",
    "print(len(numbers))  # Print length\n",
    "print(numbers)\n",
    "\n",
    "\n",
    "\n",
    "\n",
    "\n",
    "# sort() → ছোট থেকে বড় ক্রমে সাজায়।\n",
    "\n",
    "# reverse() → উল্টো করে দেয়।\n",
    "\n",
    "# len(numbers) → লিস্টে কয়টি উপাদান আছে তা বলে।"
   ]
  },
  {
   "cell_type": "code",
   "execution_count": null,
   "id": "781ad1d4",
   "metadata": {},
   "outputs": [
    {
     "name": "stdout",
     "output_type": "stream",
     "text": [
      "['Bangladesh', 'India', 'Pakistan']\n",
      "['Bangladesh', 'India', 'Pakistan', 'USA', 'UK']\n",
      "['Canada', 'Africa']\n",
      "['Pakistan', 'USA', 'UK', 'Canada']\n"
     ]
    }
   ],
   "source": [
    "# Code 5: লিস্ট স্লাইসিং (List Slicing)\n",
    "\n",
    "country = [\"Bangladesh\", \"India\", \"Pakistan\", \"USA\", \"UK\", \"Canada\", \"Africa\"]\n",
    "\n",
    "print(country[0:3])  # From index 0 to 2\n",
    "print(country[:5])   # From beginning to index 4\n",
    "print(country[5:])   # From index 5 to end\n",
    "print(country[2:6])  # From index 2 to 5\n",
    "\n",
    "\n",
    "\n",
    "\n",
    "\n",
    "\n",
    "# [0:3] → ০ থেকে ২ পর্যন্ত প্রিন্ট করবে।\n",
    "\n",
    "# [:5] → শুরু থেকে ৪ পর্যন্ত প্রিন্ট করবে।\n",
    "\n",
    "# [5:] → ৫ থেকে শেষ পর্যন্ত প্রিন্ট করবে।\n",
    "\n",
    "# [2:6] → ২ থেকে ৫ পর্যন্ত প্রিন্ট করবে।\n",
    "\n"
   ]
  },
  {
   "cell_type": "code",
   "execution_count": null,
   "id": "3fb9ea00",
   "metadata": {},
   "outputs": [],
   "source": []
  },
  {
   "cell_type": "code",
   "execution_count": null,
   "id": "47087096",
   "metadata": {},
   "outputs": [],
   "source": [
    "# Code 6: লিস্ট লুপ (Looping Through List)\n",
    "\n",
    "countryList = [\"Bangladesh\", \"India\", \"Pakistan\", \"USA\", \"UK\", \"Canada\", \"Africa\"]\n",
    "\n",
    "for item in countryList:\n",
    "    print(item)\n",
    "\n",
    "\n",
    "\n",
    "\n",
    "# এখানে for loop ব্যবহার করে লিস্টের প্রতিটি দেশ একে একে প্রিন্ট করা হচ্ছে।"
   ]
  },
  {
   "cell_type": "code",
   "execution_count": null,
   "id": "2b0b50cf",
   "metadata": {},
   "outputs": [],
   "source": [
    "# Concept Note: লিস্ট ব্যবহারের জায়গা (Use Cases of Lists)\n",
    "# List Use Case\n",
    "# - Storing User Data\n",
    "# - Inventory Purchase, Sales, Order\n",
    "# - Add to cart, Invoice, dropdown\n",
    "# - User Data Collection\n",
    "# - Table, List\n",
    "\n",
    "\n",
    "# বাংলা ব্যাখ্যা:\n",
    "# লিস্ট ব্যবহার করা হয় ডাটা সংরক্ষণ, কেনাবেচার হিসাব, কার্টে পণ্য যোগ করা, ইউজারের তথ্য সংগ্রহ ইত্যাদি কাজে।"
   ]
  },
  {
   "cell_type": "code",
   "execution_count": null,
   "id": "1a784e20",
   "metadata": {},
   "outputs": [],
   "source": []
  },
  {
   "cell_type": "code",
   "execution_count": null,
   "id": "761b11fd",
   "metadata": {},
   "outputs": [],
   "source": []
  },
  {
   "cell_type": "code",
   "execution_count": null,
   "id": "d7e6f60e",
   "metadata": {},
   "outputs": [],
   "source": []
  },
  {
   "cell_type": "code",
   "execution_count": null,
   "id": "e0b9a0e8",
   "metadata": {},
   "outputs": [],
   "source": []
  }
 ],
 "metadata": {
  "kernelspec": {
   "display_name": "Python 3",
   "language": "python",
   "name": "python3"
  },
  "language_info": {
   "codemirror_mode": {
    "name": "ipython",
    "version": 3
   },
   "file_extension": ".py",
   "mimetype": "text/x-python",
   "name": "python",
   "nbconvert_exporter": "python",
   "pygments_lexer": "ipython3",
   "version": "3.13.7"
  }
 },
 "nbformat": 4,
 "nbformat_minor": 5
}
