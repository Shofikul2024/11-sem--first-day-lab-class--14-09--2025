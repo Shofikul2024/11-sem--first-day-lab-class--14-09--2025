{
 "cells": [
  {
   "cell_type": "code",
   "execution_count": 11,
   "id": "2512ef78",
   "metadata": {},
   "outputs": [
    {
     "name": "stdout",
     "output_type": "stream",
     "text": [
      "cherry\n"
     ]
    }
   ],
   "source": [
    "# Code 1: লিস্ট থেকে মান বের করা (Accessing List Items)\n",
    "\n",
    "\n",
    "fruits = [\"apple\", \"banana\", \"cherry\"]\n",
    "print(fruits[2])"
   ]
  },
  {
   "cell_type": "code",
   "execution_count": 12,
   "id": "430005ae",
   "metadata": {},
   "outputs": [
    {
     "name": "stdout",
     "output_type": "stream",
     "text": [
      "['apple', 'banana', 'cherry', 'apple']\n",
      "['apple', 'banana', 'cherry', 'apple', 'orange']\n",
      "['apple', 'orange', 'banana', 'cherry', 'apple', 'orange']\n",
      "['apple', 'orange', 'banana', 'cherry', 'apple', 'orange', 'grape', 'melon']\n"
     ]
    }
   ],
   "source": [
    "# Code 2: লিস্ট মেথড (List Methods - Add & Modify)\n",
    "\n",
    "fruits = [\"apple\", \"banana\", \"cherry\", \"apple\"]\n",
    "print(fruits)\n",
    "fruits.append(\"orange\")        # Add at the end\n",
    "\n",
    "print(fruits)\n",
    "fruits.insert(1, \"orange\")     # Insert at index 1\n",
    "print(fruits)\n",
    "fruits.extend([\"grape\", \"melon\"]) # Add multiple items\n",
    "print(fruits)\n",
    "\n",
    "\n",
    "\n",
    "\n",
    "\n",
    "# ''' append() → লিস্টের শেষে \"orange\" যোগ করে।\n",
    "\n",
    "# insert(1, \"orange\") → ১ নম্বর ইন্ডেক্সে \"orange\" ঢুকিয়ে দেয়।\n",
    "\n",
    "# extend() → একসাথে একাধিক আইটেম যোগ করে (grape, melon)।'''"
   ]
  },
  {
   "cell_type": "code",
   "execution_count": 13,
   "id": "fd428b58",
   "metadata": {},
   "outputs": [
    {
     "name": "stdout",
     "output_type": "stream",
     "text": [
      "0\n"
     ]
    }
   ],
   "source": [
    "# Code 3: লিস্ট থেকে ডিলিট (List Methods - Remove & Clear)\n",
    "\n",
    "fruits = [\"apple\", \"banana\", \"cherry\", \"apple\"]\n",
    "fruits.remove(\"banana\")   # Remove by value\n",
    "fruits.pop()              # Remove last item\n",
    "fruits.clear()            # Clear all items\n",
    "print(fruits.count(\"apple\"))  # Count how many times 'apple' appears\n",
    "\n",
    "\n",
    "\n",
    "\n",
    "# '''  remove(\"banana\") → \"banana\" মুছে ফেলে।\n",
    "\n",
    "# pop() → শেষের আইটেম মুছে ফেলে।\n",
    "\n",
    "# clear() → পুরো লিস্ট খালি করে দেয়।\n",
    "\n",
    "# count(\"apple\") → \"apple\" কয়বার আছে তা গুনে।'''"
   ]
  },
  {
   "cell_type": "code",
   "execution_count": null,
   "id": "8c544373",
   "metadata": {},
   "outputs": [],
   "source": [
    "# Code 4: নাম্বার লিস্ট মেথড (Number List Methods)\n",
    "\n",
    "\n",
    "numbers = [3, 6, 8, 10, 9]\n",
    "numbers.sort()       # Sort ascending\n",
    "numbers.reverse()    # Reverse order\n",
    "print(len(numbers))  # Print length\n",
    "print(numbers)\n",
    "\n",
    "\n",
    "\n",
    "\n",
    "\n",
    "# sort() → ছোট থেকে বড় ক্রমে সাজায়।\n",
    "\n",
    "# reverse() → উল্টো করে দেয়।\n",
    "\n",
    "# len(numbers) → লিস্টে কয়টি উপাদান আছে তা বলে।"
   ]
  },
  {
   "cell_type": "code",
   "execution_count": null,
   "id": "781ad1d4",
   "metadata": {},
   "outputs": [
    {
     "name": "stdout",
     "output_type": "stream",
     "text": [
      "['Bangladesh', 'India', 'Pakistan']\n",
      "['Bangladesh', 'India', 'Pakistan', 'USA', 'UK']\n",
      "['Canada', 'Africa']\n",
      "['Pakistan', 'USA', 'UK', 'Canada']\n"
     ]
    }
   ],
   "source": [
    "# Code 5: লিস্ট স্লাইসিং (List Slicing)\n",
    "\n",
    "country = [\"Bangladesh\", \"India\", \"Pakistan\", \"USA\", \"UK\", \"Canada\", \"Africa\"]\n",
    "\n",
    "print(country[0:3])  # From index 0 to 2\n",
    "print(country[:5])   # From beginning to index 4\n",
    "print(country[5:])   # From index 5 to end\n",
    "print(country[2:6])  # From index 2 to 5\n",
    "\n",
    "\n",
    "\n",
    "\n",
    "\n",
    "\n",
    "# [0:3] → ০ থেকে ২ পর্যন্ত প্রিন্ট করবে।\n",
    "\n",
    "# [:5] → শুরু থেকে ৪ পর্যন্ত প্রিন্ট করবে।\n",
    "\n",
    "# [5:] → ৫ থেকে শেষ পর্যন্ত প্রিন্ট করবে।\n",
    "\n",
    "# [2:6] → ২ থেকে ৫ পর্যন্ত প্রিন্ট করবে।\n",
    "\n"
   ]
  },
  {
   "cell_type": "code",
   "execution_count": null,
   "id": "3fb9ea00",
   "metadata": {},
   "outputs": [],
   "source": []
  },
  {
   "cell_type": "code",
   "execution_count": null,
   "id": "47087096",
   "metadata": {},
   "outputs": [],
   "source": [
    "# Code 6: লিস্ট লুপ (Looping Through List)\n",
    "\n",
    "countryList = [\"Bangladesh\", \"India\", \"Pakistan\", \"USA\", \"UK\", \"Canada\", \"Africa\"]\n",
    "\n",
    "for item in countryList:\n",
    "    print(item)\n",
    "\n",
    "\n",
    "\n",
    "\n",
    "# এখানে for loop ব্যবহার করে লিস্টের প্রতিটি দেশ একে একে প্রিন্ট করা হচ্ছে।"
   ]
  },
  {
   "cell_type": "code",
   "execution_count": null,
   "id": "2b0b50cf",
   "metadata": {},
   "outputs": [],
   "source": [
    "# Concept Note: লিস্ট ব্যবহারের জায়গা (Use Cases of Lists)\n",
    "# List Use Case\n",
    "# - Storing User Data\n",
    "# - Inventory Purchase, Sales, Order\n",
    "# - Add to cart, Invoice, dropdown\n",
    "# - User Data Collection\n",
    "# - Table, List\n",
    "\n",
    "\n",
    "# বাংলা ব্যাখ্যা:\n",
    "# লিস্ট ব্যবহার করা হয় ডাটা সংরক্ষণ, কেনাবেচার হিসাব, কার্টে পণ্য যোগ করা, ইউজারের তথ্য সংগ্রহ ইত্যাদি কাজে।"
   ]
  },
  {
   "cell_type": "code",
   "execution_count": 15,
   "id": "1a784e20",
   "metadata": {},
   "outputs": [
    {
     "name": "stdout",
     "output_type": "stream",
     "text": [
      "banana\n"
     ]
    }
   ],
   "source": [
    "# Code 1: টিউপল থেকে মান বের করা (Accessing Tuple Items) \n",
    "\n",
    "\n",
    "fruits = (\"apple\", \"banana\", \"cherry\")\n",
    "print(fruits[1])\n",
    "\n",
    "\n",
    " \n",
    "# এখানে fruits নামের টিউপল থেকে ইন্ডেক্স 1 এর মান বের করা হচ্ছে। যেহেতু ইন্ডেক্স ০ থেকে শুরু হয়, তাই ইন্ডেক্স ১ মানে \"banana\"।"
   ]
  },
  {
   "cell_type": "code",
   "execution_count": null,
   "id": "761b11fd",
   "metadata": {},
   "outputs": [],
   "source": [
    "# Code 2: টিউপলকে লিস্টে রূপান্তর (Tuple → List Conversion)\n",
    "\n",
    "\n",
    "fruitsTuple = (\"apple\", \"banana\", \"cherry\")\n",
    "fruitsList = list(fruitsTuple)\n",
    "\n",
    "\n",
    "\n",
    "# tuple কে list() ফাংশন ব্যবহার করে লিস্টে রূপান্তর করা হয়েছে। ফলে লিস্টের মতো পরিবর্তন (add, remove ইত্যাদি) করা সম্ভব হবে।"
   ]
  },
  {
   "cell_type": "code",
   "execution_count": 16,
   "id": "d7e6f60e",
   "metadata": {},
   "outputs": [
    {
     "name": "stdout",
     "output_type": "stream",
     "text": [
      "('apple', 'banana', 'cherry')\n"
     ]
    }
   ],
   "source": [
    "# Code 3: লিস্টকে টিউপলে রূপান্তর (List → Tuple Conversion)\n",
    "\n",
    "\n",
    "\n",
    "fruitsList = [\"apple\", \"banana\", \"cherry\"]\n",
    "fruitsTuple = tuple(fruitsList)\n",
    "print(fruitsTuple)\n",
    "\n",
    "\n",
    " \n",
    "# এখানে একটি লিস্টকে tuple() ফাংশনের মাধ্যমে টিউপলে রূপান্তর করা হয়েছে। টিউপল অপরিবর্তনীয় (immutable), তাই একবার তৈরি হলে পরিবর্তন করা যায় না।"
   ]
  },
  {
   "cell_type": "code",
   "execution_count": null,
   "id": "e0b9a0e8",
   "metadata": {},
   "outputs": [],
   "source": [
    "# Concept Note: টিউপল ব্যবহারের জায়গা (Use Cases of Tuples)\n",
    "# Tuple Use Case\n",
    "# - Storing User Data\n",
    "# - Inventory Purchase, Sales, Order\n",
    "# - Add to cart, Invoice, dropdown\n",
    "# - User Data Collection\n",
    "# - Table, List\n",
    "\n",
    "\n",
    " \n",
    "# টিউপল সাধারণত ব্যবহার করা হয় এমন ডাটা সংরক্ষণের জন্য যেটি পরিবর্তন হবে না। যেমন: ইউজারের স্থায়ী তথ্য, ইনভেন্টরির রেকর্ড, অর্ডারের ইতিহাস ইত্যাদি।"
   ]
  },
  {
   "cell_type": "code",
   "execution_count": 17,
   "id": "f409a87c",
   "metadata": {},
   "outputs": [
    {
     "name": "stdout",
     "output_type": "stream",
     "text": [
      "{'apple', 'cherry', 'banana'}\n"
     ]
    }
   ],
   "source": [
    "# Code 1: সেট ডিক্লেয়ার করা (Declaring a Set)\n",
    "fruits = {\"apple\", \"banana\", \"cherry\", \"apple\"}\n",
    "print(fruits)\n",
    "\n",
    "\n",
    " \n",
    "# সেট (Set) এ ডুপ্লিকেট মান রাখা যায় না। এখানে \"apple\" দুইবার লেখা হলেও আউটপুটে একবারই আসবে।"
   ]
  },
  {
   "cell_type": "code",
   "execution_count": null,
   "id": "846cbea3",
   "metadata": {},
   "outputs": [],
   "source": [
    "# Code 2: সেট মেথড (Set Methods)\n",
    "\n",
    "\n",
    "fruits = {\"apple\", \"banana\", \"cherry\"}\n",
    "fruits.add(\"Orange\")            # Add a single item\n",
    "fruits.update([\"grape\", \"melon\"]) # Add multiple items\n",
    "fruits.remove(\"banana\")         # Remove by value\n",
    "fruits.pop()                    # Remove a random item\n",
    "fruits.clear()                  # Clear all items\n",
    "\n",
    "\n",
    " \n",
    "\n",
    "# add() → নতুন একটি আইটেম যোগ করে।\n",
    "\n",
    "# update() → একাধিক আইটেম যোগ করে।\n",
    "\n",
    "# remove() → নির্দিষ্ট আইটেম মুছে ফেলে (না থাকলে error)।\n",
    "\n",
    "# pop() → যেকোনো একটি আইটেম মুছে ফেলে (randomly)।\n",
    "\n",
    "# clear() → পুরো সেট খালি করে দেয়।"
   ]
  },
  {
   "cell_type": "code",
   "execution_count": null,
   "id": "1a6eda73",
   "metadata": {},
   "outputs": [],
   "source": [
    "# Code 3: সেট ইউনিয়ন (Set Union)\n",
    "\n",
    "\n",
    "set1 = {1, 2, 3}\n",
    "set2 = {3, 4, 5}\n",
    "result = set1.union(set2)\n",
    "print(result)\n",
    "\n",
    "\n",
    " \n",
    "# union() দুই সেটের সব উপাদান একত্র করে (ডুপ্লিকেট বাদ দিয়ে)। ফলে আউটপুট হবে {1, 2, 3, 4, 5}।"
   ]
  },
  {
   "cell_type": "code",
   "execution_count": null,
   "id": "73a9d25f",
   "metadata": {},
   "outputs": [],
   "source": [
    "# Code 4: সেট ইন্টারসেকশন (Set Intersection)\n",
    "\n",
    "\n",
    "\n",
    "set1 = {1, 2, 3}\n",
    "set2 = {3, 4, 5}\n",
    "result = set1.intersection(set2)\n",
    "print(result)\n",
    "\n",
    "\n",
    " \n",
    "intersection() দুই সেটের মধ্যে যে মানগুলো সাধারণ আছে (common elements), সেগুলো বের করে। ফলে আউটপুট হবে {3}।"
   ]
  },
  {
   "cell_type": "code",
   "execution_count": null,
   "id": "77d75bc7",
   "metadata": {},
   "outputs": [],
   "source": [
    "# Code 1: ডিকশনারি ডিক্লেয়ার করা (Declaring a Dictionary)\n",
    "student = {\n",
    "    \"name\": \"Jhon\",\n",
    "    \"age\": 23,\n",
    "    \"subject\": \"Web Dev\",\n",
    "    \"isBangladeshi\": True\n",
    "}\n",
    "print(student)\n",
    "print(student[\"name\"])\n",
    "\n",
    "\n",
    " \n",
    "# ডিকশনারি হলো Key:Value Pair আকারে ডাটা সংরক্ষণের একটি পদ্ধতি।\n",
    "\n",
    "# student[\"name\"] লিখলে \"Jhon\" পাওয়া যাবে।\n",
    "\n",
    "# এখানে key গুলো: \"name\", \"age\", \"subject\", \"isBangladeshi\"।"
   ]
  },
  {
   "cell_type": "code",
   "execution_count": null,
   "id": "cb95613f",
   "metadata": {},
   "outputs": [],
   "source": [
    "# Code 2: ডিকশনারির সব কী বের করা (Dictionary Keys)\n",
    "\n",
    "\n",
    "student = {\n",
    "    \"name\": \"Jhon\",\n",
    "    \"age\": 23,\n",
    "    \"subject\": \"Web Dev\",\n",
    "    \"isBangladeshi\": True\n",
    "}\n",
    "print(student.keys())\n",
    "\n",
    "\n",
    " \n",
    "# keys() মেথড সবগুলো key (চাবি) এর লিস্ট দেখাবে।"
   ]
  },
  {
   "cell_type": "code",
   "execution_count": null,
   "id": "8ce9dfc6",
   "metadata": {},
   "outputs": [],
   "source": [
    "# Code 3: ডিকশনারির সব ভ্যালু বের করা (Dictionary Values)\n",
    "\n",
    "\n",
    "print(student.values())\n",
    "\n",
    "\n",
    "\n",
    "# values() মেথড সব value গুলো দেখাবে যেমন: \"Jhon\", 23, \"Web Dev\", True।\n"
   ]
  },
  {
   "cell_type": "code",
   "execution_count": null,
   "id": "54ede712",
   "metadata": {},
   "outputs": [],
   "source": [
    "# Code 4: ডিকশনারি আপডেট করা (Update Dictionary)\n",
    "\n",
    "\n",
    "student.update({\"age\": 30})\n",
    "print(student)\n",
    "\n",
    "\n",
    "\n",
    "# update() মেথড দিয়ে ডিকশনারির কোনো key এর মান পরিবর্তন করা যায়। এখানে age ২৩ থেকে ৩০ করা হয়েছে।"
   ]
  },
  {
   "cell_type": "code",
   "execution_count": null,
   "id": "0e3526fc",
   "metadata": {},
   "outputs": [],
   "source": [
    "# Code 5: ডিকশনারি থেকে আইটেম মুছে ফেলা (Pop from Dictionary)\n",
    "\n",
    "\n",
    "student.pop(\"name\")\n",
    "print(student)\n",
    "\n",
    "\n",
    " \n",
    "# pop(\"name\") দিয়ে key \"name\" এবং তার value ডিকশনারি থেকে মুছে ফেলা হয়েছে।"
   ]
  },
  {
   "cell_type": "code",
   "execution_count": null,
   "id": "13e3aaef",
   "metadata": {},
   "outputs": [],
   "source": [
    "# Code 6: ডিকশনারি খালি করা (Clear Dictionary)\n",
    "\n",
    "\n",
    "student.clear()\n",
    "print(student)\n",
    "\n",
    "\n",
    "\n",
    "\n",
    "# clear() মেথড দিয়ে পুরো ডিকশনারি খালি করে দেওয়া হয়। আউটপুট হবে {}।"
   ]
  },
  {
   "cell_type": "code",
   "execution_count": null,
   "id": "175e3b1f",
   "metadata": {},
   "outputs": [],
   "source": [
    "# Concept Note: Dictionary in Different Languages\n",
    "# Python     → Dictionary\n",
    "# JavaScript → JSON Object / Array\n",
    "# Dart       → Map\n",
    "# PHP        → Associative Array\n",
    "\n",
    "\n",
    "# বাংলা ব্যাখ্যা:\n",
    "# Python এ যেটিকে Dictionary বলা হয়, JavaScript এ সেটা JSON Object, Dart এ Map, আর PHP তে Associative Array নামে পরিচিত।"
   ]
  },
  {
   "cell_type": "code",
   "execution_count": null,
   "id": "880cb01e",
   "metadata": {},
   "outputs": [],
   "source": [
    "# Code 1: ডিকশনারি ডিক্লেয়ার ও এক্সেস (Declare & Access Dictionary)\n",
    "\n",
    "student = {\n",
    "    \"name\": \"Jhon\",\n",
    "    \"age\": 23,\n",
    "    \"subject\": \"Web Dev\",\n",
    "    \"isBangladeshi\": True\n",
    "}\n",
    "\n",
    "print(student)         # Prints full dictionary\n",
    "print(student[\"name\"]) # Access value by key\n",
    "\n",
    "\n",
    " \n",
    "# এখানে student নামে একটি ডিকশনারি তৈরি হয়েছে। প্রতিটি তথ্য Key:Value আকারে রাখা হয়েছে।\n",
    "\n",
    "# print(student) → পুরো ডিকশনারি প্রিন্ট করবে।\n",
    "\n",
    "# print(student[\"name\"]) → শুধু \"name\" এর মান \"Jhon\" প্রিন্ট করবে।"
   ]
  },
  {
   "cell_type": "code",
   "execution_count": null,
   "id": "d960d67c",
   "metadata": {},
   "outputs": [],
   "source": [
    "# Code 2: ডিকশনারির সব কী বের করা (Dictionary Keys)\n",
    "\n",
    "print(student.keys())\n",
    "\n",
    "\n",
    " \n",
    "# keys() মেথড ডিকশনারির সবগুলো key দেখাবে → \"name\", \"age\", \"subject\", \"isBangladeshi\"।"
   ]
  },
  {
   "cell_type": "code",
   "execution_count": null,
   "id": "879a556c",
   "metadata": {},
   "outputs": [],
   "source": [
    "# Code 3: ডিকশনারির সব ভ্যালু বের করা (Dictionary Values)\n",
    "print(student.values())\n",
    "\n",
    "\n",
    " \n",
    "# values() মেথড ডিকশনারির সব value দেখাবে → \"Jhon\", 23, \"Web Dev\", True।"
   ]
  },
  {
   "cell_type": "code",
   "execution_count": null,
   "id": "62a61802",
   "metadata": {},
   "outputs": [],
   "source": [
    "# Code 4: ডিকশনারি আপডেট করা (Update Dictionary)\n",
    "student.update({\"age\": 30})\n",
    "print(student)\n",
    "\n",
    "\n",
    " \n",
    "# update() মেথড দিয়ে ডিকশনারির কোনো key এর মান পরিবর্তন করা যায়। এখানে \"age\" ২৩ থেকে ৩০ করা হয়েছে।"
   ]
  },
  {
   "cell_type": "code",
   "execution_count": null,
   "id": "e9991f83",
   "metadata": {},
   "outputs": [],
   "source": [
    "# Code 5: ডিকশনারি থেকে আইটেম মুছে ফেলা (Pop from Dictionary)\n",
    "\n",
    "\n",
    "student.pop(\"name\")\n",
    "print(student)\n",
    "\n",
    "\n",
    " \n",
    "# pop(\"name\") দিলে \"name\" key এবং এর value ডিকশনারি থেকে মুছে যাবে।"
   ]
  },
  {
   "cell_type": "code",
   "execution_count": null,
   "id": "9349f23e",
   "metadata": {},
   "outputs": [],
   "source": [
    "# Code 6: ডিকশনারি খালি করা (Clear Dictionary)   \n",
    "\n",
    "\n",
    "student.clear()\n",
    "print(student)\n",
    "\n",
    "\n",
    " \n",
    "# clear() মেথড ডিকশনারির সব আইটেম মুছে ফেলে এবং খালি {} রেখে দেয়।"
   ]
  },
  {
   "cell_type": "code",
   "execution_count": null,
   "id": "21ef3f1e",
   "metadata": {},
   "outputs": [],
   "source": [
    "# Concept Note: Dictionary in Different Languages\n",
    "# Python     → Dictionary\n",
    "# JavaScript → JSON Object / Array\n",
    "# Dart       → Map\n",
    "# PHP        → Associative Array \n",
    "\n",
    "\n",
    "# বাংলা ব্যাখ্যা:\n",
    "# Python এ যেটিকে Dictionary বলা হয়, JavaScript এ সেটা JSON Object, Dart এ Map, আর PHP তে Associative Array নামে পরিচিত।"
   ]
  },
  {
   "cell_type": "code",
   "execution_count": 20,
   "id": "f254a933",
   "metadata": {},
   "outputs": [
    {
     "name": "stdout",
     "output_type": "stream",
     "text": [
      "{'name': 'shofikul', 'age': 23, 'subject': 'Web Dev, ai ml', 'isBangladeshi': True}\n",
      "shofikul\n",
      "23\n",
      "Web Dev, ai ml\n",
      "True\n"
     ]
    }
   ],
   "source": [
    "student = {\n",
    "    \"name\": \"shofikul\", \n",
    "    \"age\": 23,\n",
    "    \"subject\": \"Web Dev, ai ml\",       \n",
    "    \"isBangladeshi\": True\n",
    "}\n",
    "print(student)\n",
    "print(student[\"name\"])\n",
    "print(student[\"age\"])\n",
    "print(student[\"subject\"])\n",
    "print(student[\"isBangladeshi\"])\n"
   ]
  },
  {
   "cell_type": "code",
   "execution_count": 19,
   "id": "059c815d",
   "metadata": {},
   "outputs": [
    {
     "name": "stdout",
     "output_type": "stream",
     "text": [
      "{'name': 'shofikul', 'age': 23, 'subject': 'Web Dev, ai ml', 'isBangladeshi': True}\n",
      "shofikul\n",
      "23\n",
      "Web Dev, ai ml\n"
     ]
    }
   ],
   "source": [
    "student= {\n",
    "\n",
    "\"name\":\"shofikul\",\n",
    "\"age\" :  23,\n",
    "\"subject\":\"Web Dev, ai ml\",\n",
    "\"isBangladeshi\": True\n",
    "\n",
    "\n",
    "}\n",
    "\n",
    "print(student)\n",
    "print(student[\"name\"])\n",
    "print(student[\"age\"])   \n",
    "print(student[\"subject\"])\n",
    "# print(student[\"isBangladeshi\"])\n"
   ]
  },
  {
   "cell_type": "code",
   "execution_count": null,
   "id": "d584af47",
   "metadata": {},
   "outputs": [
    {
     "name": "stdout",
     "output_type": "stream",
     "text": [
      "{'name': 'Jhon', 'age': 23, 'subject': 'Web Dev', 'isBangladeshi': True, 'department': 'CSE'}\n",
      "Jhon\n",
      "23\n",
      "Web Dev\n",
      "True\n",
      "CSE\n"
     ]
    }
   ],
   "source": [
    "student = {\n",
    "    \"name\": \"shofikul\",\n",
    "    \"age\": 23,\n",
    "    \"subject\": \"Web Dev\",\n",
    "    \"isBangladeshi\": True,\n",
    "    \"department\": \"CSE\"\n",
    "}\n",
    "print(student)         # Prints full dictionary \n",
    "print(student[\"name\"]) # Access value by key\n",
    "print(student[\"age\"])  # Access value by key\n",
    "print(student[\"subject\"]) # Access value by key\n",
    "print(student[\"isBangladeshi\"]) # Access value by key\n",
    "print(student[\"department\"]) # Access value by key\n"
   ]
  },
  {
   "cell_type": "code",
   "execution_count": null,
   "id": "2b892f9f",
   "metadata": {},
   "outputs": [
    {
     "name": "stdout",
     "output_type": "stream",
     "text": [
      "{'name': 'shofikul', 'age': 23, 'subject': 'Web Dev', 'isBangladeshi': True, 'department': 'CSE'}\n",
      "dict_keys(['name', 'age', 'subject', 'isBangladeshi', 'department'])\n",
      "dict_values(['shofikul', 23, 'Web Dev', True, 'CSE'])\n"
     ]
    }
   ],
   "source": [
    "student = {\n",
    "    \"name\": \"shofikul\",\n",
    "    \"age\": 23,\n",
    "    \"subject\": \"Web Dev\",\n",
    "    \"isBangladeshi\": True,\n",
    "    \"department\": \"CSE\"\n",
    "}\n",
    "\n",
    "print(student)         # Prints full dictionary\n",
    "print(student.keys()) # Prints all keys\n",
    "print(student.values()) # Prints all values\n"
   ]
  },
  {
   "cell_type": "code",
   "execution_count": 27,
   "id": "cb966126",
   "metadata": {},
   "outputs": [
    {
     "name": "stdout",
     "output_type": "stream",
     "text": [
      "{'name': 'shofikul', 'age': 30, 'subject': 'Web Dev', 'isBangladeshi': True, 'department': 'CSE'}\n"
     ]
    }
   ],
   "source": [
    "# Code 4: ডিকশনারি আপডেট করা (Update Dictionary)\n",
    "\n",
    "student = {\n",
    "    \"name\": \"shofikul\",\n",
    "    \"age\": 23,\n",
    "    \"subject\": \"Web Dev\",\n",
    "    \"isBangladeshi\": True,\n",
    "    \"department\": \"CSE\"\n",
    "}\n",
    "student.update({\"age\": 30})\n",
    "print(student)"
   ]
  },
  {
   "cell_type": "code",
   "execution_count": 28,
   "id": "3295320d",
   "metadata": {},
   "outputs": [
    {
     "name": "stdout",
     "output_type": "stream",
     "text": [
      "{'age': 23, 'subject': 'Web Dev', 'isBangladeshi': True, 'department': 'CSE'}\n"
     ]
    }
   ],
   "source": [
    "# Code 5: ডিকশনারি থেকে আইটেম মুছে ফেলা (Pop from Dictionary)\n",
    "\n",
    "student = {\n",
    "    \"name\": \"shofikul\",\n",
    "    \"age\": 23,\n",
    "    \"subject\": \"Web Dev\",\n",
    "    \"isBangladeshi\": True,\n",
    "    \"department\": \"CSE\"\n",
    "}\n",
    "student.pop(\"name\")\n",
    "print(student)  "
   ]
  },
  {
   "cell_type": "code",
   "execution_count": 33,
   "id": "e29eded8",
   "metadata": {},
   "outputs": [],
   "source": [
    "student = {\n",
    "    \"name\": \"shofikul\",\n",
    "    \"age\": 23,\n",
    "    \"subject\": \"Web Dev\",\n",
    "    \"isBangladeshi\": True,\n",
    "    \"department\": \"CSE\"\n",
    "}\n"
   ]
  },
  {
   "cell_type": "code",
   "execution_count": null,
   "id": "b6428844",
   "metadata": {},
   "outputs": [
    {
     "name": "stdout",
     "output_type": "stream",
     "text": [
      "{'name': 'shofikul  ', 'age': 23, 'subject': 'Web Dev', 'isBangladeshi': True, 'department': 'CSE'}\n",
      "dict_keys(['name', 'age', 'subject', 'isBangladeshi', 'department'])\n",
      "{'name': 'shofikul  ', 'age': 23, 'subject': 'Web Dev', 'isBangladeshi': True, 'department': 'CSE'}\n",
      "dict_values(['shofikul  ', 23, 'Web Dev', True, 'CSE'])\n",
      "{'name': 'shofikul  ', 'age': 23, 'subject': 'Web Dev', 'isBangladeshi': True, 'department': 'CSE'}\n",
      "{'name': 'shofikul  ', 'age': 30, 'subject': 'Web Dev', 'isBangladeshi': True, 'department': 'CSE'}\n",
      "{'age': 30, 'subject': 'Web Dev', 'isBangladeshi': True, 'department': 'CSE'}\n",
      "{}\n"
     ]
    }
   ],
   "source": [
    "# ডিকশনারি (Dictionary) এর উপর বিভিন্ন অপারেশন\n",
    "\n",
    "\n",
    "student = {\n",
    "    \"name\": \"shofikul  \",\n",
    "    \"age\": 23,\n",
    "    \"subject\": \"Web Dev\",\n",
    "    \"isBangladeshi\": True,\n",
    "    \"department\": \"CSE\"\n",
    "}\n",
    "\n",
    "print(student)         # Prints full dictionary\n",
    "print(student.keys())\n",
    "print(student) \n",
    "print(student.values())\n",
    "print(student) \n",
    "student.update({\"age\": 30})\n",
    "print(student)\n",
    "student.pop(\"name\")\n",
    "print(student)\n",
    "student.clear()\n",
    "print(student)"
   ]
  },
  {
   "cell_type": "code",
   "execution_count": null,
   "id": "0e1aea42",
   "metadata": {},
   "outputs": [],
   "source": []
  }
 ],
 "metadata": {
  "kernelspec": {
   "display_name": "Python 3",
   "language": "python",
   "name": "python3"
  },
  "language_info": {
   "codemirror_mode": {
    "name": "ipython",
    "version": 3
   },
   "file_extension": ".py",
   "mimetype": "text/x-python",
   "name": "python",
   "nbconvert_exporter": "python",
   "pygments_lexer": "ipython3",
   "version": "3.13.7"
  }
 },
 "nbformat": 4,
 "nbformat_minor": 5
}
